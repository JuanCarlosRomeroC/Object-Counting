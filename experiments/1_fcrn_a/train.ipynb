{
 "cells": [
  {
   "cell_type": "markdown",
   "metadata": {},
   "source": [
    "## 1. Setup"
   ]
  },
  {
   "cell_type": "code",
   "execution_count": 1,
   "metadata": {},
   "outputs": [],
   "source": [
    "import sys\n",
    "sys.path.append('../..')"
   ]
  },
  {
   "cell_type": "code",
   "execution_count": 2,
   "metadata": {},
   "outputs": [
    {
     "name": "stderr",
     "output_type": "stream",
     "text": [
      "Using TensorFlow backend.\n"
     ]
    }
   ],
   "source": [
    "import config\n",
    "import matplotlib.pyplot as plt\n",
    "import numpy as np\n",
    "import os\n",
    "import warnings\n",
    "\n",
    "from keras.callbacks import ModelCheckpoint\n",
    "from neural_networks.fcrn import FCRN_A\n",
    "from utils.data.data_generator import DataGenerator\n",
    "from utils.data.data_ops import move_val_split_to_train\n",
    "from utils.data.data_ops import create_val_split_from_train\n",
    "from utils.input_output.io import read_json, write_json\n",
    "from utils.visualization.vis import plot_loss"
   ]
  },
  {
   "cell_type": "code",
   "execution_count": 3,
   "metadata": {},
   "outputs": [],
   "source": [
    "%matplotlib inline\n",
    "%load_ext autoreload\n",
    "%autoreload 2\n",
    "\n",
    "warnings.filterwarnings('ignore')"
   ]
  },
  {
   "cell_type": "markdown",
   "metadata": {},
   "source": [
    "## 2. Load the dataset"
   ]
  },
  {
   "cell_type": "markdown",
   "metadata": {},
   "source": [
    "#### Create validation split from the initial training data"
   ]
  },
  {
   "cell_type": "code",
   "execution_count": 4,
   "metadata": {},
   "outputs": [],
   "source": [
    "move_val_split_to_train(config.VAL_PATH, config.TRAIN_PATH)\n",
    "create_val_split_from_train(config.TRAIN_PATH, config.VAL_PATH, config.VAL_SIZE, config.RAND_SEED)"
   ]
  },
  {
   "cell_type": "code",
   "execution_count": 5,
   "metadata": {},
   "outputs": [],
   "source": [
    "params = {\n",
    "    'dim': config.DIM,\n",
    "    'batch_size': config.BATCH_SIZE,\n",
    "    'shuffle': config.SHUFFLE\n",
    "}"
   ]
  },
  {
   "cell_type": "code",
   "execution_count": 6,
   "metadata": {},
   "outputs": [],
   "source": [
    "train_generator = DataGenerator(config.DATASET_PATH, 'train', **params)\n",
    "val_generator = DataGenerator(config.DATASET_PATH, 'val', **params)"
   ]
  },
  {
   "cell_type": "markdown",
   "metadata": {},
   "source": [
    "## 3. Instantiate a FCRN_A"
   ]
  },
  {
   "cell_type": "code",
   "execution_count": 7,
   "metadata": {},
   "outputs": [],
   "source": [
    "model = FCRN_A(loss_name=config.LOSS_NAME)"
   ]
  },
  {
   "cell_type": "markdown",
   "metadata": {},
   "source": [
    "## 4. Train the model"
   ]
  },
  {
   "cell_type": "code",
   "execution_count": 8,
   "metadata": {},
   "outputs": [],
   "source": [
    "!rm -rf $config.CHECKPOINTS_PATH\n",
    "!rm -rf $config.LOGS_PATH\n",
    "os.makedirs(config.CHECKPOINTS_PATH)\n",
    "os.makedirs(config.LOGS_PATH)"
   ]
  },
  {
   "cell_type": "code",
   "execution_count": 9,
   "metadata": {},
   "outputs": [
    {
     "name": "stdout",
     "output_type": "stream",
     "text": [
      "Epoch 1/50\n",
      "2/2 [==============================] - 10s 5s/step - loss: 0.4822 - val_loss: 0.3293\n",
      "Epoch 2/50\n",
      "2/2 [==============================] - 2s 1s/step - loss: 0.2758 - val_loss: 0.3690\n",
      "Epoch 3/50\n",
      "2/2 [==============================] - 2s 1s/step - loss: 0.2896 - val_loss: 0.2218\n",
      "Epoch 4/50\n",
      "2/2 [==============================] - 2s 1s/step - loss: 0.2252 - val_loss: 0.2104\n",
      "Epoch 5/50\n",
      "2/2 [==============================] - 2s 1s/step - loss: 0.2135 - val_loss: 0.2005\n",
      "Epoch 6/50\n",
      "2/2 [==============================] - 2s 1s/step - loss: 0.2060 - val_loss: 0.2057\n",
      "Epoch 7/50\n",
      "2/2 [==============================] - 2s 1s/step - loss: 0.2054 - val_loss: 0.1923\n",
      "Epoch 8/50\n",
      "2/2 [==============================] - 2s 1s/step - loss: 0.1946 - val_loss: 0.1900\n",
      "Epoch 9/50\n",
      "2/2 [==============================] - 2s 1s/step - loss: 0.1887 - val_loss: 0.1760\n",
      "Epoch 10/50\n",
      "2/2 [==============================] - 2s 1s/step - loss: 0.1773 - val_loss: 0.1667\n",
      "Epoch 11/50\n",
      "2/2 [==============================] - 2s 1s/step - loss: 0.1629 - val_loss: 0.1489\n",
      "Epoch 12/50\n",
      "2/2 [==============================] - 2s 1s/step - loss: 0.1439 - val_loss: 0.1332\n",
      "Epoch 13/50\n",
      "2/2 [==============================] - 2s 1s/step - loss: 0.1237 - val_loss: 0.1160\n",
      "Epoch 14/50\n",
      "2/2 [==============================] - 2s 1s/step - loss: 0.1321 - val_loss: 0.1077\n",
      "Epoch 15/50\n",
      "2/2 [==============================] - 3s 1s/step - loss: 0.1179 - val_loss: 0.1041\n",
      "Epoch 16/50\n",
      "2/2 [==============================] - 3s 1s/step - loss: 0.1118 - val_loss: 0.0993\n",
      "Epoch 17/50\n",
      "2/2 [==============================] - 2s 1s/step - loss: 0.1051 - val_loss: 0.0962\n",
      "Epoch 18/50\n",
      "2/2 [==============================] - 2s 1s/step - loss: 0.0996 - val_loss: 0.0951\n",
      "Epoch 19/50\n",
      "2/2 [==============================] - 2s 1s/step - loss: 0.0980 - val_loss: 0.0931\n",
      "Epoch 20/50\n",
      "2/2 [==============================] - 3s 1s/step - loss: 0.0929 - val_loss: 0.0924\n",
      "Epoch 21/50\n",
      "2/2 [==============================] - 2s 1s/step - loss: 0.0923 - val_loss: 0.0898\n",
      "Epoch 22/50\n",
      "2/2 [==============================] - 2s 1s/step - loss: 0.0895 - val_loss: 0.0881\n",
      "Epoch 23/50\n",
      "2/2 [==============================] - 3s 1s/step - loss: 0.0862 - val_loss: 0.0840\n",
      "Epoch 24/50\n",
      "2/2 [==============================] - 3s 1s/step - loss: 0.0861 - val_loss: 0.0825\n",
      "Epoch 25/50\n",
      "2/2 [==============================] - 3s 1s/step - loss: 0.0820 - val_loss: 0.0823\n",
      "Epoch 26/50\n",
      "2/2 [==============================] - 3s 1s/step - loss: 0.0838 - val_loss: 0.0831\n",
      "Epoch 27/50\n",
      "2/2 [==============================] - 2s 1s/step - loss: 0.0807 - val_loss: 0.0765\n",
      "Epoch 28/50\n",
      "2/2 [==============================] - 3s 1s/step - loss: 0.0797 - val_loss: 0.0817\n",
      "Epoch 29/50\n",
      "2/2 [==============================] - 2s 1s/step - loss: 0.0784 - val_loss: 0.0800\n",
      "Epoch 30/50\n",
      "2/2 [==============================] - 2s 1s/step - loss: 0.0803 - val_loss: 0.0736\n",
      "Epoch 31/50\n",
      "2/2 [==============================] - 2s 1s/step - loss: 0.0710 - val_loss: 0.0784\n",
      "Epoch 32/50\n",
      "2/2 [==============================] - 2s 1s/step - loss: 0.0770 - val_loss: 0.0691\n",
      "Epoch 33/50\n",
      "2/2 [==============================] - 3s 1s/step - loss: 0.0717 - val_loss: 0.0723\n",
      "Epoch 34/50\n",
      "2/2 [==============================] - 2s 1s/step - loss: 0.0688 - val_loss: 0.0694\n",
      "Epoch 35/50\n",
      "2/2 [==============================] - 3s 1s/step - loss: 0.0727 - val_loss: 0.0694\n",
      "Epoch 36/50\n",
      "2/2 [==============================] - 3s 1s/step - loss: 0.0669 - val_loss: 0.0670\n",
      "Epoch 37/50\n",
      "2/2 [==============================] - 2s 1s/step - loss: 0.0675 - val_loss: 0.0683\n",
      "Epoch 38/50\n",
      "2/2 [==============================] - 3s 1s/step - loss: 0.0635 - val_loss: 0.0618\n",
      "Epoch 39/50\n",
      "2/2 [==============================] - 3s 1s/step - loss: 0.0633 - val_loss: 0.0699\n",
      "Epoch 40/50\n",
      "2/2 [==============================] - 2s 1s/step - loss: 0.0690 - val_loss: 0.0618\n",
      "Epoch 41/50\n",
      "2/2 [==============================] - 3s 1s/step - loss: 0.0608 - val_loss: 0.0600\n",
      "Epoch 42/50\n",
      "2/2 [==============================] - 2s 1s/step - loss: 0.0635 - val_loss: 0.0666\n",
      "Epoch 43/50\n",
      "2/2 [==============================] - 2s 1s/step - loss: 0.0628 - val_loss: 0.0565\n",
      "Epoch 44/50\n",
      "2/2 [==============================] - 2s 1s/step - loss: 0.0593 - val_loss: 0.0670\n",
      "Epoch 45/50\n",
      "2/2 [==============================] - 3s 1s/step - loss: 0.0614 - val_loss: 0.0580\n",
      "Epoch 46/50\n",
      "2/2 [==============================] - 3s 1s/step - loss: 0.0626 - val_loss: 0.0565\n",
      "Epoch 47/50\n",
      "2/2 [==============================] - 2s 1s/step - loss: 0.0562 - val_loss: 0.0611\n",
      "Epoch 48/50\n",
      "2/2 [==============================] - 3s 1s/step - loss: 0.0588 - val_loss: 0.0531\n",
      "Epoch 49/50\n",
      "2/2 [==============================] - 2s 1s/step - loss: 0.0540 - val_loss: 0.0554\n",
      "Epoch 50/50\n",
      "2/2 [==============================] - 2s 1s/step - loss: 0.0566 - val_loss: 0.0549\n",
      "CPU times: user 1min 47s, sys: 18.3 s, total: 2min 5s\n",
      "Wall time: 2min 24s\n"
     ]
    }
   ],
   "source": [
    "%%time\n",
    "model_checkpoint = ModelCheckpoint(config.CHECKPOINT_FILENAME,\n",
    "                                   monitor='val_loss',\n",
    "                                   verbose=0,\n",
    "                                   save_best_only=True)\n",
    "\n",
    "model_history = model.fit_generator(generator=train_generator,\n",
    "                                    validation_data=val_generator,\n",
    "                                    epochs=config.EPOCHS,\n",
    "                                    callbacks=[model_checkpoint])"
   ]
  },
  {
   "cell_type": "markdown",
   "metadata": {},
   "source": [
    "#### Save and load train stats/logs/history"
   ]
  },
  {
   "cell_type": "code",
   "execution_count": 10,
   "metadata": {},
   "outputs": [],
   "source": [
    "logs = model.history.history.copy()\n",
    "logs['train_loss'] = logs.pop('loss')\n",
    "logs['train_size'] = train_generator.get_size()\n",
    "logs['val_size'] = val_generator.get_size()\n",
    "logs['rand_seed'] = config.RAND_SEED\n",
    "logs['shuffle'] = config.SHUFFLE\n",
    "logs['loss_name'] = config.LOSS_NAME\n",
    "logs['input_dim'] = config.DIM\n",
    "logs['density_map_sigma'] = config.GT_SIGMA\n",
    "logs['density_map_multiplication_factor'] = config.DENSITY_MAP_MULTIPLICATION_FACTOR\n",
    "logs['sub_experiment_name'] = config.SUB_EXPERIMENT_NAME"
   ]
  },
  {
   "cell_type": "code",
   "execution_count": 11,
   "metadata": {},
   "outputs": [
    {
     "data": {
      "image/png": "[encoded data removed]",
      "text/plain": [
       "<Figure size 1080x360 with 2 Axes>"
      ]
     },
     "metadata": {
      "needs_background": "light"
     },
     "output_type": "display_data"
    }
   ],
   "source": [
    "write_json(logs, config.LOGS_FILENAME)\n",
    "logs = read_json(config.LOGS_FILENAME)\n",
    "\n",
    "plot_loss(logs['train_loss'], logs['val_loss'], f'{config.LOSS_NAME} loss')"
   ]
  }
 ],
 "metadata": {
  "kernelspec": {
   "display_name": "Python 3",
   "language": "python",
   "name": "python3"
  },
  "language_info": {
   "codemirror_mode": {
    "name": "ipython",
    "version": 3
   },
   "file_extension": ".py",
   "mimetype": "text/x-python",
   "name": "python",
   "nbconvert_exporter": "python",
   "pygments_lexer": "ipython3",
   "version": "3.6.7"
  }
 },
 "nbformat": 4,
 "nbformat_minor": 2
}
