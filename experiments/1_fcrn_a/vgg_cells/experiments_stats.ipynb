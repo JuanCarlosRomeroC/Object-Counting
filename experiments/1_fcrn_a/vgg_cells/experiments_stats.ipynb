{
 "cells": [
  {
   "cell_type": "markdown",
   "metadata": {},
   "source": [
    "## 1. Setup"
   ]
  },
  {
   "cell_type": "code",
   "execution_count": 1,
   "metadata": {},
   "outputs": [],
   "source": [
    "import sys\n",
    "sys.path.append('../../..')"
   ]
  },
  {
   "cell_type": "code",
   "execution_count": 2,
   "metadata": {},
   "outputs": [],
   "source": [
    "import config\n",
    "import matplotlib.pyplot as plt\n",
    "import warnings\n",
    "\n",
    "from experiments.experiment_utils import *"
   ]
  },
  {
   "cell_type": "code",
   "execution_count": 3,
   "metadata": {},
   "outputs": [],
   "source": [
    "%matplotlib inline\n",
    "%load_ext autoreload\n",
    "%autoreload 2\n",
    "\n",
    "warnings.filterwarnings('ignore')"
   ]
  },
  {
   "cell_type": "markdown",
   "metadata": {},
   "source": [
    "## 2. Experiment stats\n",
    "- Architecture: FCRN_A"
   ]
  },
  {
   "cell_type": "markdown",
   "metadata": {},
   "source": [
    "### 2.1 Experiment 1\n",
    "- Loss: MSE;\n",
    "- Train size: (32 vs 64);\n",
    "- 5 runs with random train images;\n",
    "- without data augmentation;\n",
    "- without preprocessing steps;"
   ]
  },
  {
   "cell_type": "code",
   "execution_count": 4,
   "metadata": {},
   "outputs": [
    {
     "name": "stdout",
     "output_type": "stream",
     "text": [
      "n_32_sigma_5_randseed_321_loss_mse_full_img\n",
      "n_32_sigma_5_randseed_322_loss_mse_full_img\n",
      "n_32_sigma_5_randseed_323_loss_mse_full_img\n",
      "n_32_sigma_5_randseed_324_loss_mse_full_img\n",
      "n_32_sigma_5_randseed_325_loss_mse_full_img\n"
     ]
    },
    {
     "data": {
      "text/html": [
       "<div>\n",
       "<style scoped>\n",
       "    .dataframe tbody tr th:only-of-type {\n",
       "        vertical-align: middle;\n",
       "    }\n",
       "\n",
       "    .dataframe tbody tr th {\n",
       "        vertical-align: top;\n",
       "    }\n",
       "\n",
       "    .dataframe thead th {\n",
       "        text-align: right;\n",
       "    }\n",
       "</style>\n",
       "<table border=\"1\" class=\"dataframe\">\n",
       "  <thead>\n",
       "    <tr style=\"text-align: right;\">\n",
       "      <th></th>\n",
       "      <th>MAE</th>\n",
       "      <th>RMSE</th>\n",
       "      <th>Underestimate</th>\n",
       "      <th>Overestimate</th>\n",
       "      <th>Difference</th>\n",
       "      <th>Experiments_Remarks</th>\n",
       "    </tr>\n",
       "  </thead>\n",
       "  <tbody>\n",
       "    <tr>\n",
       "      <th>train</th>\n",
       "      <td>7.4 ± 2.6</td>\n",
       "      <td>9.0 ± 2.7</td>\n",
       "      <td>0.5% ± 0.5%</td>\n",
       "      <td>3.4% ± 1.7%</td>\n",
       "      <td>3.9% ± 1.2%</td>\n",
       "      <td>vgg_cells,n_32,loss_mse</td>\n",
       "    </tr>\n",
       "    <tr>\n",
       "      <th>val</th>\n",
       "      <td>6.8 ± 2.2</td>\n",
       "      <td>8.3 ± 2.3</td>\n",
       "      <td>0.6% ± 0.4%</td>\n",
       "      <td>3.3% ± 1.7%</td>\n",
       "      <td>3.9% ± 1.3%</td>\n",
       "      <td>vgg_cells,n_32,loss_mse</td>\n",
       "    </tr>\n",
       "    <tr>\n",
       "      <th>test</th>\n",
       "      <td>6.0 ± 1.7</td>\n",
       "      <td>7.2 ± 1.8</td>\n",
       "      <td>0.6% ± 0.6%</td>\n",
       "      <td>2.9% ± 1.4%</td>\n",
       "      <td>3.5% ± 1.0%</td>\n",
       "      <td>vgg_cells,n_32,loss_mse</td>\n",
       "    </tr>\n",
       "  </tbody>\n",
       "</table>\n",
       "</div>"
      ],
      "text/plain": [
       "             MAE       RMSE Underestimate Overestimate   Difference  \\\n",
       "train  7.4 ± 2.6  9.0 ± 2.7   0.5% ± 0.5%  3.4% ± 1.7%  3.9% ± 1.2%   \n",
       "val    6.8 ± 2.2  8.3 ± 2.3   0.6% ± 0.4%  3.3% ± 1.7%  3.9% ± 1.3%   \n",
       "test   6.0 ± 1.7  7.2 ± 1.8   0.6% ± 0.6%  2.9% ± 1.4%  3.5% ± 1.0%   \n",
       "\n",
       "           Experiments_Remarks  \n",
       "train  vgg_cells,n_32,loss_mse  \n",
       "val    vgg_cells,n_32,loss_mse  \n",
       "test   vgg_cells,n_32,loss_mse  "
      ]
     },
     "execution_count": 4,
     "metadata": {},
     "output_type": "execute_result"
    }
   ],
   "source": [
    "res_list = load_experiments_results('.', ['n_32', 'loss_mse'])\n",
    "res_df = get_mean_and_std_of_experiments(res_list, ','.join(['vgg_cells', 'n_32', 'loss_mse']))\n",
    "res_df.head()"
   ]
  },
  {
   "cell_type": "code",
   "execution_count": 5,
   "metadata": {},
   "outputs": [
    {
     "name": "stdout",
     "output_type": "stream",
     "text": [
      "n_64_sigma_5_randseed_641_loss_mse_full_img\n",
      "n_64_sigma_5_randseed_642_loss_mse_full_img\n",
      "n_64_sigma_5_randseed_643_loss_mse_full_img\n",
      "n_64_sigma_5_randseed_644_loss_mse_full_img\n",
      "n_64_sigma_5_randseed_645_loss_mse_full_img\n"
     ]
    },
    {
     "data": {
      "text/html": [
       "<div>\n",
       "<style scoped>\n",
       "    .dataframe tbody tr th:only-of-type {\n",
       "        vertical-align: middle;\n",
       "    }\n",
       "\n",
       "    .dataframe tbody tr th {\n",
       "        vertical-align: top;\n",
       "    }\n",
       "\n",
       "    .dataframe thead th {\n",
       "        text-align: right;\n",
       "    }\n",
       "</style>\n",
       "<table border=\"1\" class=\"dataframe\">\n",
       "  <thead>\n",
       "    <tr style=\"text-align: right;\">\n",
       "      <th></th>\n",
       "      <th>MAE</th>\n",
       "      <th>RMSE</th>\n",
       "      <th>Underestimate</th>\n",
       "      <th>Overestimate</th>\n",
       "      <th>Difference</th>\n",
       "      <th>Experiments_Remarks</th>\n",
       "    </tr>\n",
       "  </thead>\n",
       "  <tbody>\n",
       "    <tr>\n",
       "      <th>train</th>\n",
       "      <td>5.2 ± 1.5</td>\n",
       "      <td>6.4 ± 1.7</td>\n",
       "      <td>2.3% ± 1.4%</td>\n",
       "      <td>0.6% ± 0.7%</td>\n",
       "      <td>2.9% ± 0.9%</td>\n",
       "      <td>vgg_cells,n_64,loss_mse</td>\n",
       "    </tr>\n",
       "    <tr>\n",
       "      <th>val</th>\n",
       "      <td>5.3 ± 1.8</td>\n",
       "      <td>6.5 ± 1.7</td>\n",
       "      <td>2.1% ± 1.3%</td>\n",
       "      <td>0.8% ± 1.0%</td>\n",
       "      <td>2.9% ± 0.8%</td>\n",
       "      <td>vgg_cells,n_64,loss_mse</td>\n",
       "    </tr>\n",
       "    <tr>\n",
       "      <th>test</th>\n",
       "      <td>5.4 ± 1.7</td>\n",
       "      <td>6.5 ± 1.9</td>\n",
       "      <td>2.5% ± 1.5%</td>\n",
       "      <td>0.6% ± 0.7%</td>\n",
       "      <td>3.1% ± 1.0%</td>\n",
       "      <td>vgg_cells,n_64,loss_mse</td>\n",
       "    </tr>\n",
       "  </tbody>\n",
       "</table>\n",
       "</div>"
      ],
      "text/plain": [
       "             MAE       RMSE Underestimate Overestimate   Difference  \\\n",
       "train  5.2 ± 1.5  6.4 ± 1.7   2.3% ± 1.4%  0.6% ± 0.7%  2.9% ± 0.9%   \n",
       "val    5.3 ± 1.8  6.5 ± 1.7   2.1% ± 1.3%  0.8% ± 1.0%  2.9% ± 0.8%   \n",
       "test   5.4 ± 1.7  6.5 ± 1.9   2.5% ± 1.5%  0.6% ± 0.7%  3.1% ± 1.0%   \n",
       "\n",
       "           Experiments_Remarks  \n",
       "train  vgg_cells,n_64,loss_mse  \n",
       "val    vgg_cells,n_64,loss_mse  \n",
       "test   vgg_cells,n_64,loss_mse  "
      ]
     },
     "execution_count": 5,
     "metadata": {},
     "output_type": "execute_result"
    }
   ],
   "source": [
    "res_list = load_experiments_results('.', ['n_64', 'loss_mse'])\n",
    "res_df = get_mean_and_std_of_experiments(res_list, ','.join(['vgg_cells', 'n_64', 'loss_mse']))\n",
    "res_df.head()"
   ]
  }
 ],
 "metadata": {
  "kernelspec": {
   "display_name": "Python 3",
   "language": "python",
   "name": "python3"
  },
  "language_info": {
   "codemirror_mode": {
    "name": "ipython",
    "version": 3
   },
   "file_extension": ".py",
   "mimetype": "text/x-python",
   "name": "python",
   "nbconvert_exporter": "python",
   "pygments_lexer": "ipython3",
   "version": "3.6.7"
  }
 },
 "nbformat": 4,
 "nbformat_minor": 2
}
