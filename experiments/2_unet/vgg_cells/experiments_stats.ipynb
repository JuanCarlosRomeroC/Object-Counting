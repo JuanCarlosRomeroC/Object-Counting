{
 "cells": [
  {
   "cell_type": "markdown",
   "metadata": {},
   "source": [
    "## 1. Setup"
   ]
  },
  {
   "cell_type": "code",
   "execution_count": 1,
   "metadata": {},
   "outputs": [],
   "source": [
    "import sys\n",
    "sys.path.append('../../..')"
   ]
  },
  {
   "cell_type": "code",
   "execution_count": 2,
   "metadata": {},
   "outputs": [],
   "source": [
    "import matplotlib.pyplot as plt\n",
    "import warnings\n",
    "\n",
    "from experiments.experiment_utils import *"
   ]
  },
  {
   "cell_type": "code",
   "execution_count": 3,
   "metadata": {},
   "outputs": [],
   "source": [
    "%matplotlib inline\n",
    "%load_ext autoreload\n",
    "%autoreload 2\n",
    "\n",
    "warnings.filterwarnings('ignore')"
   ]
  },
  {
   "cell_type": "markdown",
   "metadata": {},
   "source": [
    "## 2. Experiment stats\n",
    "- Architecture: U-Net;\n",
    "- Train size: (32 vs 64);\n",
    "- 5 runs with random train images;"
   ]
  },
  {
   "cell_type": "markdown",
   "metadata": {},
   "source": [
    "### 2.1 Experiment 1\n",
    "- Loss: MSE;\n",
    "- without data augmentation;\n",
    "- without preprocessing steps;\n",
    "- full images;"
   ]
  },
  {
   "cell_type": "code",
   "execution_count": 4,
   "metadata": {},
   "outputs": [
    {
     "name": "stdout",
     "output_type": "stream",
     "text": [
      "n_32_sigma_5_randseed_321_loss_mse_full_img\n",
      "n_32_sigma_5_randseed_322_loss_mse_full_img\n",
      "n_32_sigma_5_randseed_323_loss_mse_full_img\n",
      "n_32_sigma_5_randseed_324_loss_mse_full_img\n",
      "n_32_sigma_5_randseed_325_loss_mse_full_img\n"
     ]
    },
    {
     "data": {
      "text/html": [
       "<div>\n",
       "<style scoped>\n",
       "    .dataframe tbody tr th:only-of-type {\n",
       "        vertical-align: middle;\n",
       "    }\n",
       "\n",
       "    .dataframe tbody tr th {\n",
       "        vertical-align: top;\n",
       "    }\n",
       "\n",
       "    .dataframe thead th {\n",
       "        text-align: right;\n",
       "    }\n",
       "</style>\n",
       "<table border=\"1\" class=\"dataframe\">\n",
       "  <thead>\n",
       "    <tr style=\"text-align: right;\">\n",
       "      <th></th>\n",
       "      <th>MAE</th>\n",
       "      <th>RMSE</th>\n",
       "      <th>Underestimate</th>\n",
       "      <th>Overestimate</th>\n",
       "      <th>Difference</th>\n",
       "      <th>Experiments_Remarks</th>\n",
       "    </tr>\n",
       "  </thead>\n",
       "  <tbody>\n",
       "    <tr>\n",
       "      <th>train</th>\n",
       "      <td>4.6 ± 1.9</td>\n",
       "      <td>5.6 ± 2.0</td>\n",
       "      <td>1.2% ± 1.1%</td>\n",
       "      <td>1.4% ± 1.4%</td>\n",
       "      <td>2.5% ± 1.1%</td>\n",
       "      <td>vgg_cells,n_32,loss_mse,full_img</td>\n",
       "    </tr>\n",
       "    <tr>\n",
       "      <th>val</th>\n",
       "      <td>4.1 ± 0.6</td>\n",
       "      <td>5.3 ± 0.8</td>\n",
       "      <td>1.1% ± 0.8%</td>\n",
       "      <td>1.2% ± 0.8%</td>\n",
       "      <td>2.3% ± 0.3%</td>\n",
       "      <td>vgg_cells,n_32,loss_mse,full_img</td>\n",
       "    </tr>\n",
       "    <tr>\n",
       "      <th>test</th>\n",
       "      <td>4.0 ± 0.8</td>\n",
       "      <td>5.0 ± 1.0</td>\n",
       "      <td>1.3% ± 0.9%</td>\n",
       "      <td>1.1% ± 0.8%</td>\n",
       "      <td>2.4% ± 0.5%</td>\n",
       "      <td>vgg_cells,n_32,loss_mse,full_img</td>\n",
       "    </tr>\n",
       "  </tbody>\n",
       "</table>\n",
       "</div>"
      ],
      "text/plain": [
       "             MAE       RMSE Underestimate Overestimate   Difference  \\\n",
       "train  4.6 ± 1.9  5.6 ± 2.0   1.2% ± 1.1%  1.4% ± 1.4%  2.5% ± 1.1%   \n",
       "val    4.1 ± 0.6  5.3 ± 0.8   1.1% ± 0.8%  1.2% ± 0.8%  2.3% ± 0.3%   \n",
       "test   4.0 ± 0.8  5.0 ± 1.0   1.3% ± 0.9%  1.1% ± 0.8%  2.4% ± 0.5%   \n",
       "\n",
       "                    Experiments_Remarks  \n",
       "train  vgg_cells,n_32,loss_mse,full_img  \n",
       "val    vgg_cells,n_32,loss_mse,full_img  \n",
       "test   vgg_cells,n_32,loss_mse,full_img  "
      ]
     },
     "execution_count": 4,
     "metadata": {},
     "output_type": "execute_result"
    }
   ],
   "source": [
    "res_list = load_experiments_results('.', ['n_32', 'loss_mse', 'full_img'])\n",
    "res_df = get_mean_and_std_of_experiments(res_list, ','.join(['vgg_cells', 'n_32', 'loss_mse', 'full_img']))\n",
    "res_df.head()"
   ]
  },
  {
   "cell_type": "code",
   "execution_count": 5,
   "metadata": {},
   "outputs": [
    {
     "name": "stdout",
     "output_type": "stream",
     "text": [
      "n_64_sigma_5_randseed_641_loss_mse_full_img\n",
      "n_64_sigma_5_randseed_642_loss_mse_full_img\n",
      "n_64_sigma_5_randseed_643_loss_mse_full_img\n",
      "n_64_sigma_5_randseed_644_loss_mse_full_img\n",
      "n_64_sigma_5_randseed_645_loss_mse_full_img\n"
     ]
    },
    {
     "data": {
      "text/html": [
       "<div>\n",
       "<style scoped>\n",
       "    .dataframe tbody tr th:only-of-type {\n",
       "        vertical-align: middle;\n",
       "    }\n",
       "\n",
       "    .dataframe tbody tr th {\n",
       "        vertical-align: top;\n",
       "    }\n",
       "\n",
       "    .dataframe thead th {\n",
       "        text-align: right;\n",
       "    }\n",
       "</style>\n",
       "<table border=\"1\" class=\"dataframe\">\n",
       "  <thead>\n",
       "    <tr style=\"text-align: right;\">\n",
       "      <th></th>\n",
       "      <th>MAE</th>\n",
       "      <th>RMSE</th>\n",
       "      <th>Underestimate</th>\n",
       "      <th>Overestimate</th>\n",
       "      <th>Difference</th>\n",
       "      <th>Experiments_Remarks</th>\n",
       "    </tr>\n",
       "  </thead>\n",
       "  <tbody>\n",
       "    <tr>\n",
       "      <th>train</th>\n",
       "      <td>2.7 ± 0.6</td>\n",
       "      <td>3.5 ± 0.7</td>\n",
       "      <td>0.8% ± 0.6%</td>\n",
       "      <td>0.7% ± 0.6%</td>\n",
       "      <td>1.5% ± 0.3%</td>\n",
       "      <td>vgg_cells,n_64,loss_mse,full_img</td>\n",
       "    </tr>\n",
       "    <tr>\n",
       "      <th>val</th>\n",
       "      <td>4.0 ± 0.4</td>\n",
       "      <td>5.0 ± 0.7</td>\n",
       "      <td>1.2% ± 0.7%</td>\n",
       "      <td>1.0% ± 0.6%</td>\n",
       "      <td>2.2% ± 0.2%</td>\n",
       "      <td>vgg_cells,n_64,loss_mse,full_img</td>\n",
       "    </tr>\n",
       "    <tr>\n",
       "      <th>test</th>\n",
       "      <td>3.5 ± 0.4</td>\n",
       "      <td>4.6 ± 0.6</td>\n",
       "      <td>1.2% ± 0.7%</td>\n",
       "      <td>0.8% ± 0.5%</td>\n",
       "      <td>2.0% ± 0.3%</td>\n",
       "      <td>vgg_cells,n_64,loss_mse,full_img</td>\n",
       "    </tr>\n",
       "  </tbody>\n",
       "</table>\n",
       "</div>"
      ],
      "text/plain": [
       "             MAE       RMSE Underestimate Overestimate   Difference  \\\n",
       "train  2.7 ± 0.6  3.5 ± 0.7   0.8% ± 0.6%  0.7% ± 0.6%  1.5% ± 0.3%   \n",
       "val    4.0 ± 0.4  5.0 ± 0.7   1.2% ± 0.7%  1.0% ± 0.6%  2.2% ± 0.2%   \n",
       "test   3.5 ± 0.4  4.6 ± 0.6   1.2% ± 0.7%  0.8% ± 0.5%  2.0% ± 0.3%   \n",
       "\n",
       "                    Experiments_Remarks  \n",
       "train  vgg_cells,n_64,loss_mse,full_img  \n",
       "val    vgg_cells,n_64,loss_mse,full_img  \n",
       "test   vgg_cells,n_64,loss_mse,full_img  "
      ]
     },
     "execution_count": 5,
     "metadata": {},
     "output_type": "execute_result"
    }
   ],
   "source": [
    "res_list = load_experiments_results('.', ['n_64', 'loss_mse', 'full_img'])\n",
    "res_df = get_mean_and_std_of_experiments(res_list, ','.join(['vgg_cells', 'n_64', 'loss_mse', 'full_img']))\n",
    "res_df.head()"
   ]
  },
  {
   "cell_type": "markdown",
   "metadata": {},
   "source": [
    "### 2.2 Experiment 2\n",
    "- Loss: MAE;\n",
    "- without data augmentation;\n",
    "- without preprocessing steps;\n",
    "- full images;"
   ]
  },
  {
   "cell_type": "code",
   "execution_count": 6,
   "metadata": {},
   "outputs": [
    {
     "name": "stdout",
     "output_type": "stream",
     "text": [
      "n_32_sigma_5_randseed_321_loss_mae_full_img\n",
      "n_32_sigma_5_randseed_322_loss_mae_full_img\n",
      "n_32_sigma_5_randseed_323_loss_mae_full_img\n",
      "n_32_sigma_5_randseed_324_loss_mae_full_img\n",
      "n_32_sigma_5_randseed_325_loss_mae_full_img\n"
     ]
    },
    {
     "data": {
      "text/html": [
       "<div>\n",
       "<style scoped>\n",
       "    .dataframe tbody tr th:only-of-type {\n",
       "        vertical-align: middle;\n",
       "    }\n",
       "\n",
       "    .dataframe tbody tr th {\n",
       "        vertical-align: top;\n",
       "    }\n",
       "\n",
       "    .dataframe thead th {\n",
       "        text-align: right;\n",
       "    }\n",
       "</style>\n",
       "<table border=\"1\" class=\"dataframe\">\n",
       "  <thead>\n",
       "    <tr style=\"text-align: right;\">\n",
       "      <th></th>\n",
       "      <th>MAE</th>\n",
       "      <th>RMSE</th>\n",
       "      <th>Underestimate</th>\n",
       "      <th>Overestimate</th>\n",
       "      <th>Difference</th>\n",
       "      <th>Experiments_Remarks</th>\n",
       "    </tr>\n",
       "  </thead>\n",
       "  <tbody>\n",
       "    <tr>\n",
       "      <th>train</th>\n",
       "      <td>6.5 ± 2.5</td>\n",
       "      <td>7.6 ± 2.6</td>\n",
       "      <td>3.3% ± 1.3%</td>\n",
       "      <td>0.1% ± 0.1%</td>\n",
       "      <td>3.4% ± 1.2%</td>\n",
       "      <td>vgg_cells,n_32,loss_mae,full_img</td>\n",
       "    </tr>\n",
       "    <tr>\n",
       "      <th>val</th>\n",
       "      <td>6.8 ± 1.7</td>\n",
       "      <td>8.4 ± 1.8</td>\n",
       "      <td>3.7% ± 1.2%</td>\n",
       "      <td>0.2% ± 0.2%</td>\n",
       "      <td>3.9% ± 1.1%</td>\n",
       "      <td>vgg_cells,n_32,loss_mae,full_img</td>\n",
       "    </tr>\n",
       "    <tr>\n",
       "      <th>test</th>\n",
       "      <td>6.8 ± 2.0</td>\n",
       "      <td>8.4 ± 2.1</td>\n",
       "      <td>3.8% ± 1.3%</td>\n",
       "      <td>0.1% ± 0.1%</td>\n",
       "      <td>3.9% ± 1.1%</td>\n",
       "      <td>vgg_cells,n_32,loss_mae,full_img</td>\n",
       "    </tr>\n",
       "  </tbody>\n",
       "</table>\n",
       "</div>"
      ],
      "text/plain": [
       "             MAE       RMSE Underestimate Overestimate   Difference  \\\n",
       "train  6.5 ± 2.5  7.6 ± 2.6   3.3% ± 1.3%  0.1% ± 0.1%  3.4% ± 1.2%   \n",
       "val    6.8 ± 1.7  8.4 ± 1.8   3.7% ± 1.2%  0.2% ± 0.2%  3.9% ± 1.1%   \n",
       "test   6.8 ± 2.0  8.4 ± 2.1   3.8% ± 1.3%  0.1% ± 0.1%  3.9% ± 1.1%   \n",
       "\n",
       "                    Experiments_Remarks  \n",
       "train  vgg_cells,n_32,loss_mae,full_img  \n",
       "val    vgg_cells,n_32,loss_mae,full_img  \n",
       "test   vgg_cells,n_32,loss_mae,full_img  "
      ]
     },
     "execution_count": 6,
     "metadata": {},
     "output_type": "execute_result"
    }
   ],
   "source": [
    "res_list = load_experiments_results('.', ['n_32', 'loss_mae', 'full_img'])\n",
    "res_df = get_mean_and_std_of_experiments(res_list, ','.join(['vgg_cells', 'n_32', 'loss_mae', 'full_img']))\n",
    "res_df.head()"
   ]
  },
  {
   "cell_type": "code",
   "execution_count": 7,
   "metadata": {},
   "outputs": [
    {
     "name": "stdout",
     "output_type": "stream",
     "text": [
      "n_64_sigma_5_randseed_641_loss_mae_full_img\n",
      "n_64_sigma_5_randseed_642_loss_mae_full_img\n",
      "n_64_sigma_5_randseed_643_loss_mae_full_img\n",
      "n_64_sigma_5_randseed_644_loss_mae_full_img\n",
      "n_64_sigma_5_randseed_645_loss_mae_full_img\n"
     ]
    },
    {
     "data": {
      "text/html": [
       "<div>\n",
       "<style scoped>\n",
       "    .dataframe tbody tr th:only-of-type {\n",
       "        vertical-align: middle;\n",
       "    }\n",
       "\n",
       "    .dataframe tbody tr th {\n",
       "        vertical-align: top;\n",
       "    }\n",
       "\n",
       "    .dataframe thead th {\n",
       "        text-align: right;\n",
       "    }\n",
       "</style>\n",
       "<table border=\"1\" class=\"dataframe\">\n",
       "  <thead>\n",
       "    <tr style=\"text-align: right;\">\n",
       "      <th></th>\n",
       "      <th>MAE</th>\n",
       "      <th>RMSE</th>\n",
       "      <th>Underestimate</th>\n",
       "      <th>Overestimate</th>\n",
       "      <th>Difference</th>\n",
       "      <th>Experiments_Remarks</th>\n",
       "    </tr>\n",
       "  </thead>\n",
       "  <tbody>\n",
       "    <tr>\n",
       "      <th>train</th>\n",
       "      <td>4.8 ± 1.6</td>\n",
       "      <td>5.7 ± 1.7</td>\n",
       "      <td>2.6% ± 1.0%</td>\n",
       "      <td>0.1% ± 0.1%</td>\n",
       "      <td>2.7% ± 0.9%</td>\n",
       "      <td>vgg_cells,n_64,loss_mae,full_img</td>\n",
       "    </tr>\n",
       "    <tr>\n",
       "      <th>val</th>\n",
       "      <td>5.3 ± 1.6</td>\n",
       "      <td>6.7 ± 1.6</td>\n",
       "      <td>2.8% ± 0.8%</td>\n",
       "      <td>0.1% ± 0.1%</td>\n",
       "      <td>3.0% ± 0.8%</td>\n",
       "      <td>vgg_cells,n_64,loss_mae,full_img</td>\n",
       "    </tr>\n",
       "    <tr>\n",
       "      <th>test</th>\n",
       "      <td>5.5 ± 1.5</td>\n",
       "      <td>6.8 ± 1.7</td>\n",
       "      <td>3.0% ± 1.0%</td>\n",
       "      <td>0.2% ± 0.1%</td>\n",
       "      <td>3.2% ± 0.9%</td>\n",
       "      <td>vgg_cells,n_64,loss_mae,full_img</td>\n",
       "    </tr>\n",
       "  </tbody>\n",
       "</table>\n",
       "</div>"
      ],
      "text/plain": [
       "             MAE       RMSE Underestimate Overestimate   Difference  \\\n",
       "train  4.8 ± 1.6  5.7 ± 1.7   2.6% ± 1.0%  0.1% ± 0.1%  2.7% ± 0.9%   \n",
       "val    5.3 ± 1.6  6.7 ± 1.6   2.8% ± 0.8%  0.1% ± 0.1%  3.0% ± 0.8%   \n",
       "test   5.5 ± 1.5  6.8 ± 1.7   3.0% ± 1.0%  0.2% ± 0.1%  3.2% ± 0.9%   \n",
       "\n",
       "                    Experiments_Remarks  \n",
       "train  vgg_cells,n_64,loss_mae,full_img  \n",
       "val    vgg_cells,n_64,loss_mae,full_img  \n",
       "test   vgg_cells,n_64,loss_mae,full_img  "
      ]
     },
     "execution_count": 7,
     "metadata": {},
     "output_type": "execute_result"
    }
   ],
   "source": [
    "res_list = load_experiments_results('.', ['n_64', 'loss_mae', 'full_img'])\n",
    "res_df = get_mean_and_std_of_experiments(res_list, ','.join(['vgg_cells', 'n_64', 'loss_mae', 'full_img']))\n",
    "res_df.head()"
   ]
  }
 ],
 "metadata": {
  "kernelspec": {
   "display_name": "Python 3",
   "language": "python",
   "name": "python3"
  },
  "language_info": {
   "codemirror_mode": {
    "name": "ipython",
    "version": 3
   },
   "file_extension": ".py",
   "mimetype": "text/x-python",
   "name": "python",
   "nbconvert_exporter": "python",
   "pygments_lexer": "ipython3",
   "version": "3.6.7"
  }
 },
 "nbformat": 4,
 "nbformat_minor": 2
}
