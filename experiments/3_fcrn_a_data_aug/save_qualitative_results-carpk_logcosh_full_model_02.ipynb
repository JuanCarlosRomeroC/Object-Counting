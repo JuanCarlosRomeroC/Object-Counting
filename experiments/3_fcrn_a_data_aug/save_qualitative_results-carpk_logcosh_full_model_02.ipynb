{
 "cells": [
  {
   "cell_type": "markdown",
   "metadata": {},
   "source": [
    "## 1. Setup"
   ]
  },
  {
   "cell_type": "code",
   "execution_count": 1,
   "metadata": {},
   "outputs": [],
   "source": [
    "import sys\n",
    "sys.path.append('../..')"
   ]
  },
  {
   "cell_type": "code",
   "execution_count": 2,
   "metadata": {},
   "outputs": [
    {
     "name": "stderr",
     "output_type": "stream",
     "text": [
      "Using TensorFlow backend.\n"
     ]
    }
   ],
   "source": [
    "import matplotlib.pyplot as plt\n",
    "import numpy as np\n",
    "import os\n",
    "import re\n",
    "import shutil\n",
    "import warnings\n",
    "\n",
    "from keras import Model\n",
    "from neural_networks.fcrn import FCRN_A\n",
    "from utils.data.data_generator import DataGenerator\n",
    "from utils.data.data_ops import move_val_split_to_train\n",
    "from utils.data.data_ops import create_val_split_from_train\n",
    "from utils.input_output.io import save_np_arrays\n",
    "from pprint import pprint"
   ]
  },
  {
   "cell_type": "code",
   "execution_count": 3,
   "metadata": {},
   "outputs": [],
   "source": [
    "%matplotlib inline\n",
    "%load_ext autoreload\n",
    "%autoreload 2\n",
    "\n",
    "warnings.filterwarnings('ignore')"
   ]
  },
  {
   "cell_type": "markdown",
   "metadata": {},
   "source": [
    "## 2. Experiment parameters"
   ]
  },
  {
   "cell_type": "code",
   "execution_count": 4,
   "metadata": {},
   "outputs": [],
   "source": [
    "DATASET_NAME = 'carpk'\n",
    "DATASET_PATH = f'../../datasets/{DATASET_NAME}'\n",
    "IMG_DIM = None\n",
    "D_MAP_MULT_FACT = None\n",
    "LOSS_FUNCTIONS = ['mse']#, 'mae', 'logcosh']\n",
    "EXP_DIR_NAMES = []\n",
    "\n",
    "if DATASET_NAME.lower() == 'vgg_cells':\n",
    "    # misc\n",
    "    IMG_DIM = (256, 256, 3)\n",
    "    D_MAP_MULT_FACT = 100.\n",
    "    \n",
    "    # plots\n",
    "    figsize=(25, 5)\n",
    "    fraction = 0.045\n",
    "    pad = 0.038\n",
    "    \n",
    "    # checkpoints\n",
    "    for loss_name in LOSS_FUNCTIONS:\n",
    "        for input_type in ['patch_4_128x128']:#'full_img',\n",
    "            for train_size in [64]:\n",
    "                for rseed_idx in [5]:#range(1, 6):\n",
    "                    exp_dir_name =  f'./vgg_cells/'\\\n",
    "                                    f'n_{train_size}_sigma_5_'\\\n",
    "                                    f'randseed_{train_size}{rseed_idx}_'\\\n",
    "                                    f'loss_{loss_name}_'\\\n",
    "                                    f'{input_type}'\n",
    "                    EXP_DIR_NAMES.append(exp_dir_name)\n",
    "    \n",
    "elif DATASET_NAME.lower() == 'carpk':\n",
    "    # misc\n",
    "    IMG_DIM = (720, 1280, 3)\n",
    "    D_MAP_MULT_FACT = 2000.\n",
    "    \n",
    "    # plots\n",
    "    figsize=(25, 7)\n",
    "    fraction = 0.027\n",
    "    pad = 0.015\n",
    "    \n",
    "    # checkpoints\n",
    "    EXP_DIR_NAMES = ['./carpk/sigma_10_loss_logcosh_full_img_epochs_10_lr_1e-4']\n",
    "                     #'./carpk/sigma_10_loss_mse_full_img',\n",
    "                     #'./carpk/sigma_10_loss_mse_patch_32_128x128_epochs_3']\n",
    "                    #['./carpk/sigma_10_loss_logcosh_patch_32_128x128_15_epochs']\n",
    "                    #['./carpk/sigma_10_loss_logcosh_patch_32_128x128_5_epochs']\n",
    "    \n",
    "elif DATASET_NAME.lower() == 'shanghai_tech/part_b':\n",
    "    # misc\n",
    "    IMG_DIM = (768, 1024, 3)\n",
    "    D_MAP_MULT_FACT = 2000.\n",
    "    \n",
    "    # plots\n",
    "    figsize=(25, 7)\n",
    "    fraction = 0.0355\n",
    "    pad = 0.015\n",
    "    \n",
    "    # checkpoints\n",
    "    EXP_DIR_NAMES = ['./shanghai_tech/part_b/sigma_10_loss_logcosh_full_img_epochs_30',\n",
    "                     './shanghai_tech/part_b/sigma_10_loss_logcosh_patch_32_128x128_epochs_100',\n",
    "                     './shanghai_tech/part_b/sigma_10_loss_mse_full_img',\n",
    "                     './shanghai_tech/part_b/sigma_10_loss_mse_patch_32_128x128_epochs_100']"
   ]
  },
  {
   "cell_type": "code",
   "execution_count": 5,
   "metadata": {},
   "outputs": [],
   "source": [
    "params = {\n",
    "    'dim': IMG_DIM,\n",
    "    'batch_size': 1,\n",
    "    'patches_per_image': 1,\n",
    "    'density_map_multiplication_factor': D_MAP_MULT_FACT,\n",
    "    'shuffle': False\n",
    "}"
   ]
  },
  {
   "cell_type": "code",
   "execution_count": 6,
   "metadata": {
    "scrolled": true
   },
   "outputs": [
    {
     "name": "stdout",
     "output_type": "stream",
     "text": [
      "1\n",
      "['./carpk/sigma_10_loss_logcosh_full_img_epochs_10_lr_1e-4']\n"
     ]
    }
   ],
   "source": [
    "print(len(EXP_DIR_NAMES))\n",
    "pprint(EXP_DIR_NAMES)"
   ]
  },
  {
   "cell_type": "markdown",
   "metadata": {},
   "source": [
    "## 3. Predict and save results"
   ]
  },
  {
   "cell_type": "code",
   "execution_count": 7,
   "metadata": {
    "scrolled": false
   },
   "outputs": [],
   "source": [
    "gt_counts = []\n",
    "pred_counts = []\n",
    "\n",
    "for exp_dir_name in [EXP_DIR_NAMES[0]]:\n",
    "    if 'vgg_cells' in DATASET_PATH:\n",
    "        # for vgg_cells dataset we divide the train set in different train/val split each time\n",
    "        train_path = f'{DATASET_PATH}/train'\n",
    "        val_path = f'{DATASET_PATH}/val'\n",
    "        \n",
    "        train_size = int(re.search(r'/n_\\d{2}_', exp_dir_name).group().split('_')[1])\n",
    "        val_size = 100 - train_size\n",
    "        rand_seed = int(re.search(r'randseed_\\d{3}_', exp_dir_name).group().split('_')[1])\n",
    "        \n",
    "        move_val_split_to_train(val_path, train_path)\n",
    "        create_val_split_from_train(train_path, val_path, val_size, rand_seed)\n",
    "        \n",
    "    # data splits\n",
    "    train_generator = DataGenerator(DATASET_PATH, 'train', **params)\n",
    "    val_generator = DataGenerator(DATASET_PATH, 'val', **params)\n",
    "    test_generator = DataGenerator(DATASET_PATH, 'test', **params)\n",
    "    \n",
    "    # clean old dir for qualitative results\n",
    "    results_path = f'{exp_dir_name}/results/qualitative'\n",
    "    shutil.rmtree(results_path, ignore_errors=True)\n",
    "    os.makedirs(results_path)\n",
    "\n",
    "    # predict and save\n",
    "    #####checkpoint_filename = f'{exp_dir_name}/checkpoints/best_model.hdf5'\n",
    "    checkpoint_filename = f'{exp_dir_name}/checkpoints/model.02-0.01.hdf5'\n",
    "    model = FCRN_A(pretrained_weights=checkpoint_filename)\n",
    "    \n",
    "    for data_generator, split_name in zip([test_generator],\n",
    "                                          ['test']):\n",
    "        # prepare dirs for qualitative results\n",
    "        \n",
    "        results_path_npy = f'{results_path}/{split_name}/npy'\n",
    "        results_path_png = f'{results_path}/{split_name}/png'\n",
    "        results_path_png_diff = f'{results_path}/{split_name}/png_diff'\n",
    "        results_path_png_gt_asc = f'{results_path}/{split_name}/png_gt_asc'\n",
    "        os.makedirs(results_path_npy)\n",
    "        os.makedirs(results_path_png)\n",
    "        os.makedirs(results_path_png_diff)\n",
    "        os.makedirs(results_path_png_gt_asc)\n",
    "        \n",
    "        for idx in range(data_generator.__len__()):\n",
    "            # input image & gt density map, batch_size=1\n",
    "            input_img, gt_density_map = data_generator.__getitem__(idx)\n",
    "            gt_density_map /= D_MAP_MULT_FACT\n",
    "            \n",
    "            # predicted density map\n",
    "            pred_density_map = (model.predict(input_img) / D_MAP_MULT_FACT)[0]\n",
    "            \n",
    "            # gt & pred counts\n",
    "            gt_count = int(np.round(gt_density_map.sum()))\n",
    "            pred_count = pred_density_map.sum()\n",
    "            pred_gt_diff = pred_count - gt_count\n",
    "            \n",
    "            gt_counts.append(gt_count)\n",
    "            pred_counts.append(pred_count)\n",
    "            \n",
    "            error_type = 'match'\n",
    "            if pred_count < gt_count:\n",
    "                error_type = 'underestimate'\n",
    "            elif pred_count > gt_count:\n",
    "                error_type = 'overestimate'\n",
    "            \n",
    "            img_name_png = data_generator.img_names[data_generator.indexes[idx]]\n",
    "            img_name = img_name_png.split('.')[0]\n",
    "            img_name_npy = f'{img_name}_gt_{gt_count}_pred_{pred_count:.2f}'\\\n",
    "                           f'_diff_gt_pred_{pred_gt_diff:.2f}'\n",
    "            img_name_diff = f'{error_type}_{np.abs(pred_gt_diff):7.2f}'\\\n",
    "                            f'_gt_{gt_count}_pred_{pred_count:.2f}'\\\n",
    "                            f'_{img_name}'.replace(' ', '0')\n",
    "            img_name_gt_asc = f'gt_{gt_count:3}_pred_{pred_count:6.2f}_diff_gt_pred_{pred_gt_diff:.2f}'\\\n",
    "                              f'_{img_name}'.replace(' ', '0')\n",
    "            \n",
    "            # .npy arrays\n",
    "            #####save_np_arrays([pred_density_map], [img_name_npy], results_path_npy)\n",
    "            \n",
    "            # plots\n",
    "            vmin = min(gt_density_map.min(), pred_density_map.min())\n",
    "            vmax = max(gt_density_map.max(), pred_density_map.max())\n",
    "            \n",
    "            fig = plt.figure(figsize=figsize)\n",
    "\n",
    "            plt.subplot(1, 4, 1)\n",
    "            plt.title('Input image')\n",
    "            plt.imshow(input_img[0])\n",
    "            plt.axis('off')\n",
    "\n",
    "            plt.subplot(1, 4, 2)\n",
    "            plt.title(f'GT density map ({gt_count})')\n",
    "            plt.imshow(gt_density_map.squeeze(), cmap='jet', vmin=vmin, vmax=vmax)\n",
    "            plt.colorbar(fraction=fraction, pad=pad)\n",
    "            plt.axis('off')\n",
    "\n",
    "            plt.subplot(1, 4, 3)\n",
    "            plt.title(f'Predicted density map ({pred_count:.2f})')\n",
    "            plt.imshow(pred_density_map.squeeze(), cmap='jet', vmin=vmin, vmax=vmax)\n",
    "            plt.colorbar(fraction=fraction, pad=pad)\n",
    "            plt.axis('off')\n",
    "\n",
    "            plt.subplot(1, 4, 4)\n",
    "            plt.title(f'Prediction - GT ({(pred_density_map - gt_density_map).sum():.2f})')\n",
    "            plt.imshow((pred_density_map - gt_density_map).squeeze(), cmap='gray')\n",
    "            plt.colorbar(fraction=fraction, pad=pad)\n",
    "            plt.axis('off')\n",
    "\n",
    "            plt.savefig(f'{results_path_png}/{img_name_npy}.png')\n",
    "            plt.savefig(f'{results_path_png_diff}/{img_name_diff}.png')\n",
    "            plt.savefig(f'{results_path_png_gt_asc}/{img_name_gt_asc}.png')\n",
    "            plt.clf()\n",
    "            plt.close()"
   ]
  },
  {
   "cell_type": "markdown",
   "metadata": {},
   "source": [
    "## 4. Plot GT vs Prediction"
   ]
  },
  {
   "cell_type": "code",
   "execution_count": 8,
   "metadata": {},
   "outputs": [
    {
     "name": "stdout",
     "output_type": "stream",
     "text": [
      "[67, 67, 67, 74, 80, 86, 86, 87, 88, 94, 103, 103, 104, 104, 107, 112, 112, 106, 105, 109, 104, 109, 106, 105, 108, 107, 107, 99, 104, 101, 103, 106, 95, 91, 95, 99, 103, 108, 110, 113, 118, 120, 129, 141, 141, 141, 141, 138, 139, 141, 139, 126, 122, 121, 122, 116, 121, 116, 118, 115, 111, 108, 110, 110, 122, 120, 121, 120, 118, 118, 120, 115, 115, 111, 110, 113, 111, 109, 109, 110, 111, 111, 109, 109, 110, 112, 114, 116, 116, 115, 117, 117, 111, 106, 115, 112, 113, 112, 109, 106, 97, 96, 87, 81, 76, 78, 73, 73, 74, 74, 73, 73, 73, 73, 73, 73, 73, 73, 73, 73, 73, 73, 76, 81, 90, 103, 110, 113, 116, 108, 108, 109, 114, 117, 122, 108, 108, 114, 113, 130, 138, 140, 127, 117, 115, 118, 118, 112, 112, 114, 118, 121, 118, 126, 136, 132, 129, 127, 126, 114, 110, 107, 103, 111, 111, 118, 126, 123, 120, 119, 117, 119, 119, 117, 117, 116, 116, 117, 117, 116, 110, 111, 112, 106, 108, 118, 109, 110, 92, 73, 62, 52, 37, 24, 19, 17, 10, 4, 4, 6, 6, 6, 6, 7, 8, 9, 9, 11, 19, 21, 23, 25, 25, 28, 34, 40, 42, 51, 48, 50, 52, 51, 53, 52, 52, 52, 54, 54, 56, 58, 58, 59, 69, 76, 86, 98, 109, 124, 138, 124, 125, 127, 126, 130, 118, 137, 149, 150, 154, 157, 155, 152, 151, 145, 144, 146, 146, 142, 142, 143, 143, 149, 153, 154, 156, 154, 155, 156, 155, 150, 145, 146, 148, 143, 141, 142, 139, 137, 135, 134, 139, 138, 142, 144, 142, 146, 145, 142, 140, 139, 132, 125, 118, 103, 91, 78, 71, 74, 75, 71, 81, 85, 85, 85, 76, 82, 85, 85, 85, 75, 75, 75, 74, 82, 82, 82, 82, 80, 80, 80, 83, 90, 97, 109, 122, 135, 140, 150, 154, 184, 188, 186, 183, 182, 173, 141, 132, 133, 136, 140, 151, 131, 129, 156, 163, 159, 129, 123, 117, 111, 115, 114, 116, 129, 141, 121, 115, 121, 120, 113, 119, 118, 117, 116, 116, 116, 116, 116, 116, 116, 115, 115, 114, 115, 115, 107, 95, 77, 69, 54, 54, 51, 45, 39, 30, 21, 11, 5, 2, 2, 2, 2, 2, 3, 5, 6, 13, 21, 30, 39, 50, 59, 66, 76, 89, 100, 110, 123, 131, 132, 137, 138, 139, 144, 167, 139, 140, 148, 160, 164, 149, 148, 143, 141, 155, 158, 163, 157, 165, 152, 142, 132, 127, 119, 114, 119, 125, 132, 130, 130, 161, 161, 160, 136, 120, 112, 104, 91, 86, 99, 94, 97, 102, 87, 83, 73, 67, 54, 47]\n",
      "[77.33857, 77.080666, 77.88729, 84.07745, 89.7243, 90.60292, 88.30137, 88.8343, 92.48532, 98.89774, 98.82634, 98.47742, 102.73424, 102.34465, 102.89837, 106.657455, 106.47194, 106.16386, 105.33838, 105.69742, 106.00056, 108.810585, 107.12417, 108.13889, 108.782646, 110.962364, 110.93785, 109.63223, 109.017494, 105.9708, 103.80383, 105.82834, 98.59252, 92.65656, 95.88162, 100.94619, 101.9061, 106.95631, 112.010765, 112.99773, 117.198265, 122.04423, 126.71076, 136.14253, 135.52534, 138.01503, 136.92078, 138.82765, 139.60104, 139.00931, 134.61485, 122.21321, 114.481316, 114.217995, 112.20341, 110.10556, 111.55541, 110.924576, 113.75505, 109.13622, 104.81713, 103.313354, 99.57383, 104.341125, 111.337105, 109.6552, 108.490616, 108.81305, 109.99476, 111.82628, 112.72801, 112.42454, 113.03032, 114.1642, 116.38998, 113.532455, 113.7027, 112.646034, 112.76583, 113.711914, 114.11628, 115.89429, 113.50092, 113.79143, 111.929405, 112.48845, 115.356445, 114.437744, 113.14034, 113.910995, 112.840996, 113.39881, 109.36146, 104.78679, 104.7857, 105.22685, 105.42899, 105.42898, 99.883316, 94.57928, 90.76983, 84.35481, 80.94683, 72.66331, 70.23879, 69.942795, 66.215225, 67.68536, 67.57731, 66.48573, 65.98957, 64.24716, 64.5268, 65.09215, 64.133064, 62.745323, 64.171524, 65.328, 65.401276, 65.24012, 65.326614, 65.111, 69.89265, 76.32927, 83.454926, 95.095634, 104.65548, 106.932, 111.21614, 106.77019, 109.17083, 113.522675, 110.76489, 109.33751, 109.843346, 101.413506, 99.60815, 107.06628, 106.871735, 125.32498, 134.46324, 131.43677, 120.8719, 110.9855, 108.44909, 107.68755, 107.88093, 108.900764, 108.017784, 107.086, 110.49914, 110.746704, 109.56584, 119.99504, 126.83935, 123.20143, 126.4815, 126.03657, 122.96057, 110.87755, 101.98894, 99.53433, 100.28972, 103.2991, 96.69778, 105.157974, 112.72292, 116.27738, 124.821335, 127.97953, 122.224365, 116.25892, 117.31097, 119.42286, 117.53736, 118.258125, 118.45923, 117.920364, 117.08104, 118.94888, 118.67825, 116.70526, 112.41053, 107.701996, 107.078415, 113.651535, 106.57847, 99.97821, 84.83913, 65.62765, 54.24789, 46.436028, 33.765007, 26.724573, 21.419163, 18.090237, 13.905235, 7.8863564, 6.880159, 10.752901, 10.258174, 10.399386, 11.412187, 11.890033, 13.959497, 14.086231, 14.518202, 16.89966, 20.344706, 23.101435, 24.441595, 26.382084, 26.937826, 29.712494, 33.059418, 39.93289, 41.22797, 45.542442, 42.854645, 46.505405, 46.996346, 50.639557, 51.451393, 51.99891, 53.21272, 54.509583, 55.616093, 58.322132, 59.119827, 57.470226, 60.459846, 57.866108, 66.13236, 76.243355, 88.30256, 97.76291, 112.13916, 127.15252, 137.18208, 133.15317, 125.23687, 125.75578, 120.99179, 117.87148, 120.3641, 131.29079, 139.67299, 143.23642, 144.21428, 145.75081, 144.09604, 144.22353, 140.48302, 139.21036, 140.21225, 139.85971, 139.49348, 139.24283, 138.99368, 143.35126, 146.45943, 148.6842, 150.85532, 157.21742, 157.73521, 159.93716, 159.47716, 159.51274, 160.8979, 153.78957, 149.86552, 151.33736, 150.19824, 148.56499, 147.01196, 143.11523, 143.89622, 143.98918, 141.51683, 142.28787, 147.06624, 153.35368, 154.77443, 154.30621, 158.1089, 152.28464, 151.73964, 149.8404, 150.87424, 151.93848, 144.13062, 141.33025, 132.47902, 120.36627, 107.714874, 92.59957, 86.473495, 88.01188, 85.22231, 79.98248, 76.603676, 76.449646, 78.08892, 77.21216, 77.15888, 75.217995, 75.26425, 74.47824, 74.22111, 76.44343, 74.89783, 73.93135, 75.369865, 79.435394, 82.27835, 84.19326, 82.47712, 78.26494, 78.23843, 78.475266, 82.232796, 84.566154, 90.68849, 96.04538, 108.356865, 116.04027, 117.57655, 123.10329, 120.613, 129.12785, 131.55075, 132.2403, 134.54692, 136.12422, 127.181366, 110.93898, 109.96331, 112.38044, 114.29917, 111.42329, 117.274635, 112.886, 110.909225, 117.17337, 119.696465, 121.01744, 107.99084, 103.19517, 95.72505, 107.72281, 121.718414, 117.49984, 123.46039, 130.20332, 130.46947, 128.41454, 117.1835, 112.553055, 104.99788, 100.19746, 101.47163, 103.45948, 102.01802, 100.48359, 99.768135, 100.2924, 100.475624, 102.02967, 101.24311, 101.10559, 100.84335, 98.82512, 99.95418, 92.76314, 89.34179, 85.90566, 75.390236, 62.320957, 55.142147, 39.764027, 39.628597, 36.69499, 35.173462, 28.446466, 27.161335, 22.793669, 16.580067, 12.850311, 11.405862, 11.630303, 10.81281, 11.292288, 11.533145, 11.248933, 13.789424, 14.302647, 18.683361, 22.761766, 28.010391, 34.10159, 45.353336, 57.27347, 67.09951, 69.766014, 81.10458, 84.37039, 86.537125, 89.64585, 97.43006, 96.42294, 98.37126, 102.91799, 111.263916, 124.71862, 131.82907, 124.91346, 121.717834, 127.428154, 128.80318, 123.83266, 115.56483, 108.31759, 97.28083, 95.49886, 108.605255, 112.14189, 108.75041, 106.05883, 113.497665, 117.80883, 111.45284, 101.31354, 98.49444, 95.420006, 95.5087, 90.486755, 86.91517, 98.56273, 102.03337, 107.81699, 115.55788, 112.61531, 114.462166, 110.30244, 102.58779, 89.61847, 83.86515, 77.42704, 80.19885, 81.15518, 88.50753, 88.71432, 85.76397, 83.32677, 77.55224, 68.81715, 60.282097, 55.051014, 52.186398]\n"
     ]
    }
   ],
   "source": [
    "print(gt_counts)\n",
    "print(pred_counts)"
   ]
  },
  {
   "cell_type": "code",
   "execution_count": 9,
   "metadata": {},
   "outputs": [
    {
     "data": {
      "image/png": "[encoded data removed]",
      "text/plain": [
       "<Figure size 504x360 with 1 Axes>"
      ]
     },
     "metadata": {
      "needs_background": "light"
     },
     "output_type": "display_data"
    }
   ],
   "source": [
    "x = 1 + np.arange(len(gt_counts))\n",
    "indices = np.argsort(gt_counts)\n",
    "plt.figure(figsize=(7, 5))\n",
    "plt.title('CARPK')\n",
    "plt.plot(x, np.asarray(pred_counts)[indices], 'b.', label='Prediction')\n",
    "plt.plot(x, np.asarray(gt_counts)[indices], 'g.', label='Ground truth')\n",
    "plt.ylabel('Counts')\n",
    "plt.xlabel('Image indices (ascending order of ground truth counts)')\n",
    "plt.legend()\n",
    "plt.show()"
   ]
  }
 ],
 "metadata": {
  "kernelspec": {
   "display_name": "Python 3",
   "language": "python",
   "name": "python3"
  },
  "language_info": {
   "codemirror_mode": {
    "name": "ipython",
    "version": 3
   },
   "file_extension": ".py",
   "mimetype": "text/x-python",
   "name": "python",
   "nbconvert_exporter": "python",
   "pygments_lexer": "ipython3",
   "version": "3.6.7"
  }
 },
 "nbformat": 4,
 "nbformat_minor": 2
}
