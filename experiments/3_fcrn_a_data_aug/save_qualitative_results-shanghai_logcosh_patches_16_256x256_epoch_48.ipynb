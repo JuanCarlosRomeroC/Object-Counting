{
 "cells": [
  {
   "cell_type": "markdown",
   "metadata": {},
   "source": [
    "## 1. Setup"
   ]
  },
  {
   "cell_type": "code",
   "execution_count": 1,
   "metadata": {},
   "outputs": [],
   "source": [
    "import sys\n",
    "sys.path.append('../..')"
   ]
  },
  {
   "cell_type": "code",
   "execution_count": 2,
   "metadata": {},
   "outputs": [
    {
     "name": "stderr",
     "output_type": "stream",
     "text": [
      "Using TensorFlow backend.\n"
     ]
    }
   ],
   "source": [
    "import matplotlib.pyplot as plt\n",
    "import numpy as np\n",
    "import os\n",
    "import re\n",
    "import shutil\n",
    "import warnings\n",
    "\n",
    "from keras import Model\n",
    "from neural_networks.fcrn import FCRN_A\n",
    "from utils.data.data_generator import DataGenerator\n",
    "from utils.data.data_ops import move_val_split_to_train\n",
    "from utils.data.data_ops import create_val_split_from_train\n",
    "from utils.input_output.io import save_np_arrays\n",
    "from pprint import pprint"
   ]
  },
  {
   "cell_type": "code",
   "execution_count": 3,
   "metadata": {},
   "outputs": [],
   "source": [
    "%matplotlib inline\n",
    "%load_ext autoreload\n",
    "%autoreload 2\n",
    "\n",
    "warnings.filterwarnings('ignore')"
   ]
  },
  {
   "cell_type": "markdown",
   "metadata": {},
   "source": [
    "## 2. Experiment parameters"
   ]
  },
  {
   "cell_type": "code",
   "execution_count": 4,
   "metadata": {},
   "outputs": [],
   "source": [
    "DATASET_NAME = 'shanghai_tech/part_b'\n",
    "DATASET_PATH = f'../../datasets/{DATASET_NAME}'\n",
    "IMG_DIM = None\n",
    "D_MAP_MULT_FACT = None\n",
    "LOSS_FUNCTIONS = ['mse']#, 'mae', 'logcosh']\n",
    "EXP_DIR_NAMES = []\n",
    "\n",
    "if DATASET_NAME.lower() == 'vgg_cells':\n",
    "    # misc\n",
    "    IMG_DIM = (256, 256, 3)\n",
    "    D_MAP_MULT_FACT = 100.\n",
    "    \n",
    "    # plots\n",
    "    figsize=(25, 5)\n",
    "    fraction = 0.045\n",
    "    pad = 0.038\n",
    "    \n",
    "    # checkpoints\n",
    "    for loss_name in LOSS_FUNCTIONS:\n",
    "        for input_type in ['patch_4_128x128']:#'full_img',\n",
    "            for train_size in [64]:\n",
    "                for rseed_idx in [5]:#range(1, 6):\n",
    "                    exp_dir_name =  f'./vgg_cells/'\\\n",
    "                                    f'n_{train_size}_sigma_5_'\\\n",
    "                                    f'randseed_{train_size}{rseed_idx}_'\\\n",
    "                                    f'loss_{loss_name}_'\\\n",
    "                                    f'{input_type}'\n",
    "                    EXP_DIR_NAMES.append(exp_dir_name)\n",
    "    \n",
    "elif DATASET_NAME.lower() == 'carpk':\n",
    "    # misc\n",
    "    IMG_DIM = (720, 1280, 3)\n",
    "    D_MAP_MULT_FACT = 2000.\n",
    "    \n",
    "    # plots\n",
    "    figsize=(25, 7)\n",
    "    fraction = 0.027\n",
    "    pad = 0.015\n",
    "    \n",
    "    # checkpoints\n",
    "    EXP_DIR_NAMES = ['./carpk/sigma_10_loss_logcosh_full_img_epochs_10_lr_1e-4']\n",
    "                     #'./carpk/sigma_10_loss_mse_full_img',\n",
    "                     #'./carpk/sigma_10_loss_mse_patch_32_128x128_epochs_3']\n",
    "                    #['./carpk/sigma_10_loss_logcosh_patch_32_128x128_15_epochs']\n",
    "                    #['./carpk/sigma_10_loss_logcosh_patch_32_128x128_5_epochs']\n",
    "    \n",
    "elif DATASET_NAME.lower() == 'shanghai_tech/part_b':\n",
    "    # misc\n",
    "    IMG_DIM = (768, 1024, 3)\n",
    "    D_MAP_MULT_FACT = 2000.\n",
    "    \n",
    "    # plots\n",
    "    figsize=(25, 7)\n",
    "    fraction = 0.0355\n",
    "    pad = 0.015\n",
    "    \n",
    "    # checkpoints\n",
    "    EXP_DIR_NAMES = ['./shanghai_tech/part_b/sigma_10_loss_logcosh_patch_16_256x256_epochs_50_lr_1e-4']\n",
    "    '''\n",
    "     ['./shanghai_tech/part_b/sigma_10_loss_logcosh_full_img_epochs_30',\n",
    "     './shanghai_tech/part_b/sigma_10_loss_logcosh_patch_32_128x128_epochs_100',\n",
    "     './shanghai_tech/part_b/sigma_10_loss_mse_full_img',\n",
    "     './shanghai_tech/part_b/sigma_10_loss_mse_patch_32_128x128_epochs_100']\n",
    "    '''"
   ]
  },
  {
   "cell_type": "code",
   "execution_count": 5,
   "metadata": {},
   "outputs": [],
   "source": [
    "params = {\n",
    "    'dim': IMG_DIM,\n",
    "    'batch_size': 1,\n",
    "    'patches_per_image': 1,\n",
    "    'density_map_multiplication_factor': D_MAP_MULT_FACT,\n",
    "    'shuffle': False\n",
    "}"
   ]
  },
  {
   "cell_type": "code",
   "execution_count": 6,
   "metadata": {
    "scrolled": true
   },
   "outputs": [
    {
     "name": "stdout",
     "output_type": "stream",
     "text": [
      "1\n",
      "['./shanghai_tech/part_b/sigma_10_loss_logcosh_patch_16_256x256_epochs_50_lr_1e-4']\n"
     ]
    }
   ],
   "source": [
    "print(len(EXP_DIR_NAMES))\n",
    "pprint(EXP_DIR_NAMES)"
   ]
  },
  {
   "cell_type": "markdown",
   "metadata": {},
   "source": [
    "## 3. Predict and save results"
   ]
  },
  {
   "cell_type": "code",
   "execution_count": 7,
   "metadata": {
    "scrolled": false
   },
   "outputs": [],
   "source": [
    "gt_counts = []\n",
    "pred_counts = []\n",
    "\n",
    "for exp_dir_name in [EXP_DIR_NAMES[0]]:\n",
    "    if 'vgg_cells' in DATASET_PATH:\n",
    "        # for vgg_cells dataset we divide the train set in different train/val split each time\n",
    "        train_path = f'{DATASET_PATH}/train'\n",
    "        val_path = f'{DATASET_PATH}/val'\n",
    "        \n",
    "        train_size = int(re.search(r'/n_\\d{2}_', exp_dir_name).group().split('_')[1])\n",
    "        val_size = 100 - train_size\n",
    "        rand_seed = int(re.search(r'randseed_\\d{3}_', exp_dir_name).group().split('_')[1])\n",
    "        \n",
    "        move_val_split_to_train(val_path, train_path)\n",
    "        create_val_split_from_train(train_path, val_path, val_size, rand_seed)\n",
    "        \n",
    "    # data splits\n",
    "    train_generator = DataGenerator(DATASET_PATH, 'train', **params)\n",
    "    val_generator = DataGenerator(DATASET_PATH, 'val', **params)\n",
    "    test_generator = DataGenerator(DATASET_PATH, 'test', **params)\n",
    "    \n",
    "    # clean old dir for qualitative results\n",
    "    results_path = f'{exp_dir_name}/results/qualitative'\n",
    "    shutil.rmtree(results_path, ignore_errors=True)\n",
    "    os.makedirs(results_path)\n",
    "\n",
    "    # predict and save\n",
    "    #####checkpoint_filename = f'{exp_dir_name}/checkpoints/best_model.hdf5'\n",
    "    checkpoint_filename = f'{exp_dir_name}/checkpoints/model.48-0.083.hdf5'\n",
    "    model = FCRN_A(pretrained_weights=checkpoint_filename)\n",
    "    \n",
    "    for data_generator, split_name in zip([test_generator],\n",
    "                                          ['test']):\n",
    "        # prepare dirs for qualitative results\n",
    "        results_path_npy = f'{results_path}/{split_name}/npy'\n",
    "        results_path_png = f'{results_path}/{split_name}/png'\n",
    "        results_path_png_diff = f'{results_path}/{split_name}/png_diff'\n",
    "        results_path_png_gt_asc = f'{results_path}/{split_name}/png_gt_asc'\n",
    "        os.makedirs(results_path_npy)\n",
    "        os.makedirs(results_path_png)\n",
    "        os.makedirs(results_path_png_diff)\n",
    "        os.makedirs(results_path_png_gt_asc)\n",
    "        \n",
    "        for idx in range(data_generator.__len__()):\n",
    "            # input image & gt density map, batch_size=1\n",
    "            input_img, gt_density_map = data_generator.__getitem__(idx)\n",
    "            gt_density_map /= D_MAP_MULT_FACT\n",
    "            \n",
    "            # predicted density map\n",
    "            pred_density_map = (model.predict(input_img) / D_MAP_MULT_FACT)[0]\n",
    "            \n",
    "            # gt & pred counts\n",
    "            gt_count = int(np.round(gt_density_map.sum()))\n",
    "            pred_count = pred_density_map.sum()\n",
    "            pred_gt_diff = pred_count - gt_count\n",
    "            \n",
    "            gt_counts.append(gt_count)\n",
    "            pred_counts.append(pred_count)\n",
    "            \n",
    "            error_type = 'match'\n",
    "            if pred_count < gt_count:\n",
    "                error_type = 'underestimate'\n",
    "            elif pred_count > gt_count:\n",
    "                error_type = 'overestimate'\n",
    "            \n",
    "            img_name_png = data_generator.img_names[data_generator.indexes[idx]]\n",
    "            img_name = img_name_png.split('.')[0]\n",
    "            img_name_npy = f'{img_name}_gt_{gt_count}_pred_{pred_count:.2f}'\\\n",
    "                           f'_diff_gt_pred_{pred_gt_diff:.2f}'\n",
    "            img_name_diff = f'{error_type}_{np.abs(pred_gt_diff):7.2f}'\\\n",
    "                            f'_gt_{gt_count}_pred_{pred_count:.2f}'\\\n",
    "                            f'_{img_name}'.replace(' ', '0')\n",
    "            img_name_gt_asc = f'gt_{gt_count:3}_pred_{pred_count:6.2f}_diff_gt_pred_{pred_gt_diff:.2f}'\\\n",
    "                              f'_{img_name}'.replace(' ', '0')\n",
    "            \n",
    "            # .npy arrays\n",
    "            #####save_np_arrays([pred_density_map], [img_name_npy], results_path_npy)\n",
    "            \n",
    "            # plots\n",
    "            vmin = min(gt_density_map.min(), pred_density_map.min())\n",
    "            vmax = max(gt_density_map.max(), pred_density_map.max())\n",
    "            \n",
    "            fig = plt.figure(figsize=figsize)\n",
    "\n",
    "            plt.subplot(1, 4, 1)\n",
    "            plt.title('Input image')\n",
    "            plt.imshow(input_img[0])\n",
    "            plt.axis('off')\n",
    "\n",
    "            plt.subplot(1, 4, 2)\n",
    "            plt.title(f'GT density map ({gt_count})')\n",
    "            plt.imshow(gt_density_map.squeeze(), cmap='jet', vmin=vmin, vmax=vmax)\n",
    "            plt.colorbar(fraction=fraction, pad=pad)\n",
    "            plt.axis('off')\n",
    "\n",
    "            plt.subplot(1, 4, 3)\n",
    "            plt.title(f'Predicted density map ({pred_count:.2f})')\n",
    "            plt.imshow(pred_density_map.squeeze(), cmap='jet', vmin=vmin, vmax=vmax)\n",
    "            plt.colorbar(fraction=fraction, pad=pad)\n",
    "            plt.axis('off')\n",
    "\n",
    "            plt.subplot(1, 4, 4)\n",
    "            plt.title(f'Prediction - GT ({(pred_density_map - gt_density_map).sum():.2f})')\n",
    "            plt.imshow((pred_density_map - gt_density_map).squeeze(), cmap='gray')\n",
    "            plt.colorbar(fraction=fraction, pad=pad)\n",
    "            plt.axis('off')\n",
    "\n",
    "            plt.savefig(f'{results_path_png}/{img_name_npy}.png')\n",
    "            plt.savefig(f'{results_path_png_diff}/{img_name_diff}.png')\n",
    "            plt.savefig(f'{results_path_png_gt_asc}/{img_name_gt_asc}.png')\n",
    "            plt.clf()\n",
    "            plt.close()"
   ]
  },
  {
   "cell_type": "markdown",
   "metadata": {},
   "source": [
    "## 4. Plot GT vs Prediction"
   ]
  },
  {
   "cell_type": "code",
   "execution_count": 8,
   "metadata": {},
   "outputs": [
    {
     "name": "stdout",
     "output_type": "stream",
     "text": [
      "[23, 181, 157, 37, 70, 57, 44, 227, 165, 476, 139, 303, 164, 110, 20, 131, 48, 183, 101, 203, 40, 143, 146, 513, 70, 175, 51, 54, 67, 72, 56, 165, 32, 149, 48, 80, 115, 162, 137, 120, 72, 122, 198, 132, 147, 29, 70, 35, 24, 251, 59, 67, 61, 248, 252, 147, 57, 121, 47, 505, 297, 464, 167, 43, 46, 91, 263, 92, 117, 48, 54, 73, 122, 60, 170, 167, 57, 127, 71, 298, 14, 11, 104, 143, 45, 229, 20, 41, 79, 235, 101, 60, 253, 187, 184, 106, 104, 159, 56, 40, 277, 90, 301, 58, 172, 213, 61, 107, 93, 9, 88, 52, 15, 48, 131, 180, 187, 148, 57, 86, 106, 72, 149, 89, 33, 51, 138, 284, 138, 52, 161, 109, 73, 448, 300, 70, 74, 154, 144, 142, 265, 94, 96, 159, 64, 240, 93, 79, 133, 29, 212, 180, 196, 323, 51, 166, 79, 94, 89, 177, 143, 105, 85, 376, 104, 62, 107, 216, 24, 274, 31, 131, 91, 49, 194, 131, 55, 87, 38, 53, 184, 137, 95, 36, 28, 59, 62, 79, 304, 207, 142, 54, 164, 61, 200, 88, 38, 67, 57, 196, 61, 87, 146, 24, 226, 38, 54, 66, 89, 19, 45, 92, 119, 177, 93, 327, 46, 153, 28, 66, 206, 98, 61, 51, 196, 33, 79, 68, 176, 110, 230, 200, 47, 63, 176, 93, 60, 51, 29, 50, 54, 429, 44, 196, 41, 166, 156, 42, 89, 48, 95, 331, 31, 41, 106, 28, 158, 90, 72, 84, 35, 82, 265, 190, 26, 48, 60, 192, 79, 79, 96, 48, 195, 34, 411, 174, 60, 50, 235, 176, 108, 59, 94, 47, 48, 191, 54, 91, 261, 539, 123, 213, 282, 90, 62, 470, 129, 44, 57, 54, 59, 54, 54, 163, 23, 36, 195, 92, 63, 217, 52, 48, 211, 107, 249, 113]\n",
      "[30.337416, 177.17342, 101.858, 41.210712, 72.79567, 64.00301, 52.36285, 225.0919, 171.85347, 432.41513, 129.37389, 215.17317, 192.24518, 107.8158, 25.636034, 157.33717, 54.51995, 184.88554, 79.169685, 199.95406, 43.09452, 134.45929, 128.92233, 380.35422, 69.4148, 124.852936, 51.484814, 64.27427, 68.78662, 67.59332, 53.667694, 144.40219, 33.36588, 141.3295, 53.847168, 103.185974, 109.42003, 141.31638, 134.22777, 104.84441, 75.17333, 125.74026, 180.2912, 118.11683, 143.87979, 31.74681, 78.43085, 44.354145, 27.728407, 252.64531, 65.91882, 82.56393, 67.56385, 262.0724, 284.8803, 141.40205, 54.087994, 115.324196, 51.454987, 419.66498, 291.42224, 399.75992, 153.97836, 46.746975, 43.596313, 99.00745, 220.8245, 111.83229, 118.005905, 47.649822, 66.76582, 75.549706, 106.68386, 72.18786, 197.51985, 157.9285, 58.022655, 138.05624, 119.45521, 289.56863, 20.512543, 12.936937, 88.691376, 148.57263, 52.756664, 199.68877, 23.189096, 34.933315, 80.79798, 244.85934, 125.39334, 52.719006, 226.66336, 170.63722, 180.10396, 104.10191, 104.317215, 139.58656, 57.9732, 43.335884, 252.47415, 99.64038, 267.3888, 64.40717, 151.60927, 211.86725, 68.91659, 110.37096, 87.729324, 17.01451, 79.1958, 53.3036, 19.418982, 58.159336, 97.250114, 196.84828, 153.49086, 134.95412, 56.014336, 88.448456, 99.30795, 76.47467, 122.17973, 93.30423, 33.983406, 48.218266, 137.91821, 248.02505, 152.13535, 56.344463, 153.75764, 114.99006, 70.9149, 328.22073, 244.96802, 75.48801, 82.55667, 123.79635, 168.81226, 140.49452, 276.298, 96.237946, 114.45975, 127.74135, 73.877686, 217.69794, 64.71012, 85.29856, 109.63266, 41.08038, 212.96072, 160.95602, 193.29573, 238.19533, 53.42743, 132.86299, 83.4127, 81.63644, 96.01045, 186.65967, 153.53116, 84.56293, 52.48471, 298.3572, 128.88594, 70.070724, 99.048935, 175.0555, 20.469648, 222.51671, 30.666433, 146.37474, 99.77021, 50.48667, 204.08435, 163.45273, 51.284782, 116.56881, 46.844696, 49.56762, 166.73273, 106.22351, 90.12129, 44.316223, 29.83385, 68.34845, 69.306694, 86.47527, 303.58438, 183.21388, 119.111855, 62.445778, 143.86394, 64.70815, 177.55212, 91.168015, 52.81542, 69.48095, 63.619045, 177.91573, 42.572903, 95.21427, 143.75282, 39.44732, 202.39809, 42.85959, 66.83177, 68.05065, 94.214745, 24.949799, 43.504436, 109.31366, 93.64219, 158.6079, 90.17178, 318.42892, 49.39215, 128.69049, 28.536, 72.60855, 195.09271, 101.840904, 59.37612, 49.918808, 173.81313, 40.415516, 68.58565, 78.40285, 168.35999, 100.551636, 203.47372, 144.94693, 52.53038, 88.06876, 176.62965, 104.14121, 64.736404, 57.420902, 32.701153, 53.65081, 61.325745, 355.32764, 46.634766, 165.26392, 55.526497, 131.43341, 139.00146, 40.19311, 83.87098, 51.67798, 91.973404, 208.12866, 33.055786, 45.72593, 113.28362, 30.049904, 134.10332, 73.48189, 76.459015, 94.039795, 38.57076, 59.10231, 232.70433, 194.51913, 25.433786, 48.56148, 53.6031, 205.32759, 67.02687, 80.67218, 105.35147, 45.969456, 209.90137, 35.411163, 369.8517, 179.72699, 68.77749, 45.32491, 268.2683, 171.18967, 106.86082, 70.621445, 106.695755, 54.05066, 45.9021, 201.67236, 52.88207, 96.645424, 148.75436, 331.68326, 115.88371, 194.8031, 207.5562, 84.116646, 69.09515, 326.8035, 123.17062, 53.299526, 64.23047, 65.060936, 67.21101, 64.216354, 61.466995, 135.45859, 36.38382, 46.393253, 182.282, 96.01033, 60.594902, 235.16916, 44.124763, 54.72359, 206.36992, 116.84105, 201.07738, 115.495575]\n"
     ]
    }
   ],
   "source": [
    "print(gt_counts)\n",
    "print(pred_counts)"
   ]
  },
  {
   "cell_type": "code",
   "execution_count": 10,
   "metadata": {},
   "outputs": [
    {
     "data": {
      "image/png": "[encoded data removed]",
      "text/plain": [
       "<Figure size 504x360 with 1 Axes>"
      ]
     },
     "metadata": {
      "needs_background": "light"
     },
     "output_type": "display_data"
    }
   ],
   "source": [
    "x = 1 + np.arange(len(gt_counts))\n",
    "indices = np.argsort(gt_counts)\n",
    "plt.figure(figsize=(7, 5))\n",
    "plt.title('ShanghaiTech (Part B)')\n",
    "plt.plot(x, np.asarray(pred_counts)[indices], 'b.', label='Prediction')\n",
    "plt.plot(x, np.asarray(gt_counts)[indices], 'g.', label='Ground truth')\n",
    "plt.ylabel('Counts')\n",
    "plt.xlabel('Image indices (ascending order of ground truth counts)')\n",
    "plt.legend()\n",
    "plt.show()"
   ]
  }
 ],
 "metadata": {
  "kernelspec": {
   "display_name": "Python 3",
   "language": "python",
   "name": "python3"
  },
  "language_info": {
   "codemirror_mode": {
    "name": "ipython",
    "version": 3
   },
   "file_extension": ".py",
   "mimetype": "text/x-python",
   "name": "python",
   "nbconvert_exporter": "python",
   "pygments_lexer": "ipython3",
   "version": "3.6.7"
  }
 },
 "nbformat": 4,
 "nbformat_minor": 2
}
