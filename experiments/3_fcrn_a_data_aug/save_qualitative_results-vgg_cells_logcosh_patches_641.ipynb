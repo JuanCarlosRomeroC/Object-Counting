{
 "cells": [
  {
   "cell_type": "markdown",
   "metadata": {},
   "source": [
    "## 1. Setup"
   ]
  },
  {
   "cell_type": "code",
   "execution_count": 1,
   "metadata": {},
   "outputs": [],
   "source": [
    "import sys\n",
    "sys.path.append('../..')"
   ]
  },
  {
   "cell_type": "code",
   "execution_count": 2,
   "metadata": {},
   "outputs": [
    {
     "name": "stderr",
     "output_type": "stream",
     "text": [
      "Using TensorFlow backend.\n"
     ]
    }
   ],
   "source": [
    "import matplotlib.pyplot as plt\n",
    "import numpy as np\n",
    "import os\n",
    "import re\n",
    "import shutil\n",
    "import warnings\n",
    "\n",
    "from keras import Model\n",
    "from neural_networks.fcrn import FCRN_A\n",
    "from utils.data.data_generator import DataGenerator\n",
    "from utils.data.data_ops import move_val_split_to_train\n",
    "from utils.data.data_ops import create_val_split_from_train\n",
    "from utils.input_output.io import save_np_arrays\n",
    "from pprint import pprint"
   ]
  },
  {
   "cell_type": "code",
   "execution_count": 3,
   "metadata": {},
   "outputs": [],
   "source": [
    "%matplotlib inline\n",
    "%load_ext autoreload\n",
    "%autoreload 2\n",
    "\n",
    "warnings.filterwarnings('ignore')"
   ]
  },
  {
   "cell_type": "markdown",
   "metadata": {},
   "source": [
    "## 2. Experiment parameters"
   ]
  },
  {
   "cell_type": "code",
   "execution_count": 4,
   "metadata": {},
   "outputs": [],
   "source": [
    "DATASET_NAME = 'vgg_cells'\n",
    "DATASET_PATH = f'../../datasets/{DATASET_NAME}'\n",
    "IMG_DIM = None\n",
    "D_MAP_MULT_FACT = None\n",
    "LOSS_FUNCTIONS = ['logcosh']\n",
    "EXP_DIR_NAMES = []\n",
    "\n",
    "if DATASET_NAME.lower() == 'vgg_cells':\n",
    "    # misc\n",
    "    IMG_DIM = (256, 256, 3)\n",
    "    D_MAP_MULT_FACT = 100.\n",
    "    \n",
    "    # plots\n",
    "    figsize=(25, 5)\n",
    "    fraction = 0.045\n",
    "    pad = 0.038\n",
    "    \n",
    "    # checkpoints\n",
    "    for loss_name in LOSS_FUNCTIONS:\n",
    "        for input_type in ['patch_4_128x128']:#'full_img',\n",
    "            for train_size in [64]:\n",
    "                for rseed_idx in [1]:#range(1, 6):\n",
    "                    exp_dir_name =  f'./vgg_cells/'\\\n",
    "                                    f'n_{train_size}_sigma_5_'\\\n",
    "                                    f'randseed_{train_size}{rseed_idx}_'\\\n",
    "                                    f'loss_{loss_name}_'\\\n",
    "                                    f'{input_type}'\n",
    "                    EXP_DIR_NAMES.append(exp_dir_name)\n",
    "    \n",
    "elif DATASET_NAME.lower() == 'carpk':\n",
    "    # misc\n",
    "    IMG_DIM = (720, 1280, 3)\n",
    "    D_MAP_MULT_FACT = 2000.\n",
    "    \n",
    "    # plots\n",
    "    figsize=(25, 7)\n",
    "    fraction = 0.027\n",
    "    pad = 0.015\n",
    "    \n",
    "    # checkpoints\n",
    "    EXP_DIR_NAMES = ['./carpk/sigma_10_loss_logcosh_full_img_epochs_10_lr_1e-4']\n",
    "                     #'./carpk/sigma_10_loss_mse_full_img',\n",
    "                     #'./carpk/sigma_10_loss_mse_patch_32_128x128_epochs_3']\n",
    "                    #['./carpk/sigma_10_loss_logcosh_patch_32_128x128_15_epochs']\n",
    "                    #['./carpk/sigma_10_loss_logcosh_patch_32_128x128_5_epochs']\n",
    "    \n",
    "elif DATASET_NAME.lower() == 'shanghai_tech/part_b':\n",
    "    # misc\n",
    "    IMG_DIM = (768, 1024, 3)\n",
    "    D_MAP_MULT_FACT = 2000.\n",
    "    \n",
    "    # plots\n",
    "    figsize=(25, 7)\n",
    "    fraction = 0.0355\n",
    "    pad = 0.015\n",
    "    \n",
    "    # checkpoints\n",
    "    EXP_DIR_NAMES = ['./shanghai_tech/part_b/sigma_10_loss_logcosh_full_img_epochs_30',\n",
    "                     './shanghai_tech/part_b/sigma_10_loss_logcosh_patch_32_128x128_epochs_100',\n",
    "                     './shanghai_tech/part_b/sigma_10_loss_mse_full_img',\n",
    "                     './shanghai_tech/part_b/sigma_10_loss_mse_patch_32_128x128_epochs_100']"
   ]
  },
  {
   "cell_type": "code",
   "execution_count": 5,
   "metadata": {},
   "outputs": [],
   "source": [
    "params = {\n",
    "    'dim': IMG_DIM,\n",
    "    'batch_size': 1,\n",
    "    'patches_per_image': 1,\n",
    "    'density_map_multiplication_factor': D_MAP_MULT_FACT,\n",
    "    'shuffle': False\n",
    "}"
   ]
  },
  {
   "cell_type": "code",
   "execution_count": 6,
   "metadata": {
    "scrolled": true
   },
   "outputs": [
    {
     "name": "stdout",
     "output_type": "stream",
     "text": [
      "1\n",
      "['./vgg_cells/n_64_sigma_5_randseed_641_loss_logcosh_patch_4_128x128']\n"
     ]
    }
   ],
   "source": [
    "print(len(EXP_DIR_NAMES))\n",
    "pprint(EXP_DIR_NAMES)"
   ]
  },
  {
   "cell_type": "markdown",
   "metadata": {},
   "source": [
    "## 3. Predict and save results"
   ]
  },
  {
   "cell_type": "code",
   "execution_count": 7,
   "metadata": {
    "scrolled": false
   },
   "outputs": [],
   "source": [
    "gt_counts = []\n",
    "pred_counts = []\n",
    "\n",
    "for exp_dir_name in [EXP_DIR_NAMES[0]]:\n",
    "    if 'vgg_cells' in DATASET_PATH:\n",
    "        # for vgg_cells dataset we divide the train set in different train/val split each time\n",
    "        train_path = f'{DATASET_PATH}/train'\n",
    "        val_path = f'{DATASET_PATH}/val'\n",
    "        \n",
    "        train_size = int(re.search(r'/n_\\d{2}_', exp_dir_name).group().split('_')[1])\n",
    "        val_size = 100 - train_size\n",
    "        rand_seed = int(re.search(r'randseed_\\d{3}_', exp_dir_name).group().split('_')[1])\n",
    "        \n",
    "        move_val_split_to_train(val_path, train_path)\n",
    "        create_val_split_from_train(train_path, val_path, val_size, rand_seed)\n",
    "        \n",
    "    # data splits\n",
    "    train_generator = DataGenerator(DATASET_PATH, 'train', **params)\n",
    "    val_generator = DataGenerator(DATASET_PATH, 'val', **params)\n",
    "    test_generator = DataGenerator(DATASET_PATH, 'test', **params)\n",
    "    \n",
    "    # clean old dir for qualitative results\n",
    "    results_path = f'{exp_dir_name}/results/qualitative'\n",
    "    shutil.rmtree(results_path, ignore_errors=True)\n",
    "    os.makedirs(results_path)\n",
    "\n",
    "    # predict and save\n",
    "    checkpoint_filename = f'{exp_dir_name}/checkpoints/best_model.hdf5'\n",
    "    #####checkpoint_filename = f'{exp_dir_name}/checkpoints/model.02-0.01.hdf5'\n",
    "    model = FCRN_A(pretrained_weights=checkpoint_filename)\n",
    "    \n",
    "    for data_generator, split_name in zip([test_generator],\n",
    "                                          ['test']):\n",
    "        # prepare dirs for qualitative results\n",
    "        \n",
    "        results_path_npy = f'{results_path}/{split_name}/npy'\n",
    "        results_path_png = f'{results_path}/{split_name}/png'\n",
    "        results_path_png_diff = f'{results_path}/{split_name}/png_diff'\n",
    "        results_path_png_gt_asc = f'{results_path}/{split_name}/png_gt_asc'\n",
    "        os.makedirs(results_path_npy)\n",
    "        os.makedirs(results_path_png)\n",
    "        os.makedirs(results_path_png_diff)\n",
    "        os.makedirs(results_path_png_gt_asc)\n",
    "        \n",
    "        for idx in range(data_generator.__len__()):\n",
    "            # input image & gt density map, batch_size=1\n",
    "            input_img, gt_density_map = data_generator.__getitem__(idx)\n",
    "            gt_density_map /= D_MAP_MULT_FACT\n",
    "            \n",
    "            # predicted density map\n",
    "            pred_density_map = (model.predict(input_img) / D_MAP_MULT_FACT)[0]\n",
    "            \n",
    "            # gt & pred counts\n",
    "            gt_count = int(np.round(gt_density_map.sum()))\n",
    "            pred_count = pred_density_map.sum()\n",
    "            pred_gt_diff = pred_count - gt_count\n",
    "            \n",
    "            gt_counts.append(gt_count)\n",
    "            pred_counts.append(pred_count)\n",
    "            \n",
    "            error_type = 'match'\n",
    "            if pred_count < gt_count:\n",
    "                error_type = 'underestimate'\n",
    "            elif pred_count > gt_count:\n",
    "                error_type = 'overestimate'\n",
    "            \n",
    "            img_name_png = data_generator.img_names[data_generator.indexes[idx]]\n",
    "            img_name = img_name_png.split('.')[0]\n",
    "            img_name_npy = f'{img_name}_gt_{gt_count}_pred_{pred_count:.2f}'\\\n",
    "                           f'_diff_gt_pred_{pred_gt_diff:.2f}'\n",
    "            img_name_diff = f'{error_type}_{np.abs(pred_gt_diff):7.2f}'\\\n",
    "                            f'_gt_{gt_count}_pred_{pred_count:.2f}'\\\n",
    "                            f'_{img_name}'.replace(' ', '0')\n",
    "            img_name_gt_asc = f'gt_{gt_count:3}_pred_{pred_count:6.2f}_diff_gt_pred_{pred_gt_diff:.2f}'\\\n",
    "                              f'_{img_name}'.replace(' ', '0')\n",
    "            \n",
    "            # .npy arrays\n",
    "            #####save_np_arrays([pred_density_map], [img_name_npy], results_path_npy)\n",
    "            \n",
    "            # plots\n",
    "            vmin = min(gt_density_map.min(), pred_density_map.min())\n",
    "            vmax = max(gt_density_map.max(), pred_density_map.max())\n",
    "            \n",
    "            fig = plt.figure(figsize=figsize)\n",
    "\n",
    "            plt.subplot(1, 4, 1)\n",
    "            plt.title('Input image')\n",
    "            plt.imshow(input_img[0])\n",
    "            plt.axis('off')\n",
    "\n",
    "            plt.subplot(1, 4, 2)\n",
    "            plt.title(f'GT density map ({gt_count})')\n",
    "            plt.imshow(gt_density_map.squeeze(), cmap='jet', vmin=vmin, vmax=vmax)\n",
    "            plt.colorbar(fraction=fraction, pad=pad)\n",
    "            plt.axis('off')\n",
    "\n",
    "            plt.subplot(1, 4, 3)\n",
    "            plt.title(f'Predicted density map ({pred_count:.2f})')\n",
    "            plt.imshow(pred_density_map.squeeze(), cmap='jet', vmin=vmin, vmax=vmax)\n",
    "            plt.colorbar(fraction=fraction, pad=pad)\n",
    "            plt.axis('off')\n",
    "\n",
    "            plt.subplot(1, 4, 4)\n",
    "            plt.title(f'Prediction - GT ({(pred_density_map - gt_density_map).sum():.2f})')\n",
    "            plt.imshow((pred_density_map - gt_density_map).squeeze(), cmap='gray')\n",
    "            plt.colorbar(fraction=fraction, pad=pad)\n",
    "            plt.axis('off')\n",
    "\n",
    "            plt.savefig(f'{results_path_png}/{img_name_npy}.png')\n",
    "            plt.savefig(f'{results_path_png_diff}/{img_name_diff}.png')\n",
    "            plt.savefig(f'{results_path_png_gt_asc}/{img_name_gt_asc}.png')\n",
    "            plt.clf()\n",
    "            plt.close()"
   ]
  },
  {
   "cell_type": "markdown",
   "metadata": {},
   "source": [
    "## 4. Plot GT vs Prediction"
   ]
  },
  {
   "cell_type": "code",
   "execution_count": 8,
   "metadata": {},
   "outputs": [
    {
     "name": "stdout",
     "output_type": "stream",
     "text": [
      "[104, 257, 254, 102, 147, 116, 156, 306, 134, 139, 194, 221, 126, 130, 242, 193, 220, 252, 211, 92, 237, 108, 200, 277, 120, 144, 90, 162, 190, 134, 160, 174, 92, 198, 244, 188, 208, 74, 306, 129, 267, 111, 177, 260, 217, 98, 100, 140, 142, 308, 119, 197, 257, 210, 74, 317, 98, 119, 133, 174, 215, 297, 176, 235, 202, 145, 110, 96, 162, 159, 132, 136, 222, 115, 102, 100, 146, 155, 206, 81, 86, 292, 244, 218, 248, 224, 95, 132, 98, 273, 154, 128, 200, 156, 200, 84, 218, 79, 153, 124]\n",
      "[104.15086, 251.36172, 254.01115, 102.37757, 142.05902, 117.112976, 153.43315, 307.338, 132.7973, 141.94124, 194.0079, 222.57527, 128.3732, 128.36441, 241.45905, 190.59476, 220.48856, 246.04941, 212.93707, 93.52779, 233.4298, 111.95982, 200.30347, 273.6378, 118.315, 143.71245, 90.71804, 162.48969, 191.04219, 135.63014, 164.59218, 174.3776, 91.89111, 194.66176, 237.78201, 181.77594, 208.69144, 73.87036, 310.64398, 127.16113, 263.37976, 111.45651, 178.37677, 254.8656, 208.78284, 100.37275, 99.93674, 137.7823, 147.36142, 308.46713, 116.55588, 195.3205, 255.88237, 208.79462, 74.38132, 309.2322, 96.77197, 119.885994, 133.8786, 175.32562, 211.78195, 287.3186, 177.81491, 233.55655, 199.35345, 147.10103, 108.884415, 97.5696, 163.03868, 156.35884, 132.93776, 133.22131, 221.89496, 119.216675, 102.52099, 101.843216, 144.24223, 155.0004, 205.85944, 80.95047, 87.9766, 291.0565, 249.57327, 217.19043, 245.5136, 223.35344, 97.25477, 132.68874, 103.32716, 269.11127, 154.40732, 126.79594, 200.21275, 162.46028, 199.93312, 86.14163, 219.87906, 80.43215, 152.64366, 126.69283]\n"
     ]
    }
   ],
   "source": [
    "print(gt_counts)\n",
    "print(pred_counts)"
   ]
  },
  {
   "cell_type": "code",
   "execution_count": 10,
   "metadata": {},
   "outputs": [
    {
     "data": {
      "image/png": "[encoded data removed]",
      "text/plain": [
       "<Figure size 504x360 with 1 Axes>"
      ]
     },
     "metadata": {
      "needs_background": "light"
     },
     "output_type": "display_data"
    }
   ],
   "source": [
    "x = 1 + np.arange(len(gt_counts))\n",
    "indices = np.argsort(gt_counts)\n",
    "plt.figure(figsize=(7, 5))\n",
    "plt.title('VGG Cells')\n",
    "plt.plot(x, np.asarray(pred_counts)[indices], 'b.', label='Prediction')\n",
    "plt.plot(x, np.asarray(gt_counts)[indices], 'g.', label='Ground truth')\n",
    "plt.ylabel('Counts')\n",
    "plt.xlabel('Image indices (ascending order of ground truth counts)')\n",
    "plt.legend()\n",
    "plt.show()"
   ]
  }
 ],
 "metadata": {
  "kernelspec": {
   "display_name": "Python 3",
   "language": "python",
   "name": "python3"
  },
  "language_info": {
   "codemirror_mode": {
    "name": "ipython",
    "version": 3
   },
   "file_extension": ".py",
   "mimetype": "text/x-python",
   "name": "python",
   "nbconvert_exporter": "python",
   "pygments_lexer": "ipython3",
   "version": "3.6.7"
  }
 },
 "nbformat": 4,
 "nbformat_minor": 2
}
