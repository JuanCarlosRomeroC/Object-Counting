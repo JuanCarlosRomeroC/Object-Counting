{
 "cells": [
  {
   "cell_type": "markdown",
   "metadata": {},
   "source": [
    "## 1. Setup"
   ]
  },
  {
   "cell_type": "code",
   "execution_count": 1,
   "metadata": {},
   "outputs": [],
   "source": [
    "import sys\n",
    "sys.path.append('../..')"
   ]
  },
  {
   "cell_type": "code",
   "execution_count": 2,
   "metadata": {},
   "outputs": [
    {
     "name": "stderr",
     "output_type": "stream",
     "text": [
      "Using TensorFlow backend.\n"
     ]
    }
   ],
   "source": [
    "import config\n",
    "import matplotlib.pyplot as plt\n",
    "import numpy as np\n",
    "import os\n",
    "import warnings\n",
    "\n",
    "from keras.callbacks import ModelCheckpoint, Callback, TensorBoard\n",
    "from neural_networks.fcrn import FCRN_A\n",
    "from neural_networks.keras_utils import EvalMetricsCallback\n",
    "from utils.data.data_augmentation import augment4_from_dir_and_save\n",
    "from utils.data.data_generator import DataGenerator\n",
    "from utils.data.data_ops import move_val_split_to_train\n",
    "from utils.data.data_ops import create_val_split_from_train\n",
    "from utils.input_output.io import read_json, write_json\n",
    "from utils.visualization.vis import plot_logs"
   ]
  },
  {
   "cell_type": "code",
   "execution_count": 3,
   "metadata": {},
   "outputs": [],
   "source": [
    "%matplotlib inline\n",
    "%load_ext autoreload\n",
    "%autoreload 2\n",
    "\n",
    "warnings.filterwarnings('ignore')"
   ]
  },
  {
   "cell_type": "markdown",
   "metadata": {},
   "source": [
    "## 2. Load the dataset"
   ]
  },
  {
   "cell_type": "markdown",
   "metadata": {},
   "source": [
    "#### Create validation split from the initial training data"
   ]
  },
  {
   "cell_type": "code",
   "execution_count": 4,
   "metadata": {},
   "outputs": [
    {
     "data": {
      "text/plain": [
       "'\\nmove_val_split_to_train(config.VAL_PATH, config.TRAIN_PATH)\\ncreate_val_split_from_train(config.TRAIN_PATH, config.VAL_PATH, config.VAL_SIZE, config.RAND_SEED)\\n'"
      ]
     },
     "execution_count": 4,
     "metadata": {},
     "output_type": "execute_result"
    }
   ],
   "source": [
    "'''\n",
    "move_val_split_to_train(config.VAL_PATH, config.TRAIN_PATH)\n",
    "create_val_split_from_train(config.TRAIN_PATH, config.VAL_PATH, config.VAL_SIZE, config.RAND_SEED)\n",
    "'''"
   ]
  },
  {
   "cell_type": "markdown",
   "metadata": {},
   "source": [
    "#### Data augmentation (train/val split)"
   ]
  },
  {
   "cell_type": "code",
   "execution_count": 5,
   "metadata": {},
   "outputs": [
    {
     "data": {
      "text/plain": [
       "'\\naugment4_from_dir_and_save(in_path=config.TRAIN_PATH,\\n                            save_path=config.TRAIN_PATH,\\n                            rseed=config.RAND_SEED)\\n\\naugment4_from_dir_and_save(in_path=config.VAL_PATH,\\n                            save_path=config.VAL_PATH,\\n                            rseed=config.RAND_SEED + 1)\\n'"
      ]
     },
     "execution_count": 5,
     "metadata": {},
     "output_type": "execute_result"
    }
   ],
   "source": [
    "'''\n",
    "augment4_from_dir_and_save(in_path=config.TRAIN_PATH,\n",
    "                            save_path=config.TRAIN_PATH,\n",
    "                            rseed=config.RAND_SEED)\n",
    "\n",
    "augment4_from_dir_and_save(in_path=config.VAL_PATH,\n",
    "                            save_path=config.VAL_PATH,\n",
    "                            rseed=config.RAND_SEED + 1)\n",
    "'''"
   ]
  },
  {
   "cell_type": "markdown",
   "metadata": {},
   "source": [
    "#### Data generators"
   ]
  },
  {
   "cell_type": "code",
   "execution_count": 6,
   "metadata": {},
   "outputs": [],
   "source": [
    "train_params = {\n",
    "    'dim': config.PATCH_DIM,\n",
    "    'batch_size': config.BATCH_SIZE,\n",
    "    'patches_per_image': config.PATCHES_PER_IMAGE,\n",
    "    'density_map_multiplication_factor': config.DENSITY_MAP_MULTIPLICATION_FACTOR,\n",
    "    'shuffle': config.SHUFFLE,\n",
    "    'ignored_images': config.IGNORED_IMAGES,\n",
    "    'data_augmentation': True\n",
    "}\n",
    "\n",
    "val_params = {\n",
    "    'dim': config.IMG_DIM,\n",
    "    'batch_size': 1,\n",
    "    'patches_per_image': 1,\n",
    "    'density_map_multiplication_factor': config.DENSITY_MAP_MULTIPLICATION_FACTOR,\n",
    "    'shuffle': False,\n",
    "    'data_augmentation': True\n",
    "}\n",
    "\n",
    "eval_params = val_params.copy()"
   ]
  },
  {
   "cell_type": "code",
   "execution_count": 7,
   "metadata": {},
   "outputs": [],
   "source": [
    "train_generator = DataGenerator(config.DATASET_PATH, 'train', **train_params)\n",
    "val_generator = DataGenerator(config.DATASET_PATH, 'val', **val_params)\n",
    "\n",
    "### for eval\n",
    "train_generator_for_eval = DataGenerator(config.DATASET_PATH, 'train', **eval_params)\n",
    "val_generator_for_eval = DataGenerator(config.DATASET_PATH, 'val', **eval_params)"
   ]
  },
  {
   "cell_type": "markdown",
   "metadata": {},
   "source": [
    "## 3. Instantiate a FCRN_A"
   ]
  },
  {
   "cell_type": "code",
   "execution_count": 8,
   "metadata": {
    "scrolled": false
   },
   "outputs": [],
   "source": [
    "model = FCRN_A(loss_name=config.LOSS_NAME, learning_rate=config.LEARNING_RATE)"
   ]
  },
  {
   "cell_type": "markdown",
   "metadata": {},
   "source": [
    "## 4. Train the model"
   ]
  },
  {
   "cell_type": "code",
   "execution_count": 9,
   "metadata": {},
   "outputs": [],
   "source": [
    "!rm -rf $config.CHECKPOINTS_PATH\n",
    "!rm -rf $config.LOGS_PATH\n",
    "os.makedirs(config.CHECKPOINTS_PATH)\n",
    "os.makedirs(config.LOGS_PATH)"
   ]
  },
  {
   "cell_type": "code",
   "execution_count": 10,
   "metadata": {
    "scrolled": false
   },
   "outputs": [
    {
     "name": "stdout",
     "output_type": "stream",
     "text": [
      "Epoch 1/50\n",
      "1276/1276 [==============================] - 655s 513ms/step - loss: 1.5959 - val_loss: 1.2358\n",
      "Epoch 2/50\n",
      "1276/1276 [==============================] - 628s 492ms/step - loss: 1.4454 - val_loss: 1.0889\n",
      "Epoch 3/50\n",
      "1276/1276 [==============================] - 626s 490ms/step - loss: 1.3321 - val_loss: 0.9082\n",
      "Epoch 4/50\n",
      "1276/1276 [==============================] - 625s 490ms/step - loss: 1.2575 - val_loss: 1.0866\n",
      "Epoch 5/50\n",
      "1276/1276 [==============================] - 623s 488ms/step - loss: 1.1613 - val_loss: 0.8122\n",
      "Epoch 6/50\n",
      "1276/1276 [==============================] - 620s 486ms/step - loss: 1.1189 - val_loss: 0.9633\n",
      "Epoch 7/50\n",
      "1276/1276 [==============================] - 619s 485ms/step - loss: 1.0426 - val_loss: 0.7644\n",
      "Epoch 8/50\n",
      "1276/1276 [==============================] - 620s 486ms/step - loss: 1.0117 - val_loss: 0.9051\n",
      "Epoch 9/50\n",
      "1276/1276 [==============================] - 620s 486ms/step - loss: 1.0101 - val_loss: 0.7817\n",
      "Epoch 10/50\n",
      "1276/1276 [==============================] - 618s 485ms/step - loss: 0.9255 - val_loss: 0.9018\n",
      "Epoch 11/50\n",
      "1276/1276 [==============================] - 621s 486ms/step - loss: 0.9040 - val_loss: 0.7997\n",
      "Epoch 12/50\n",
      "1276/1276 [==============================] - 617s 484ms/step - loss: 0.8547 - val_loss: 0.6854\n",
      "Epoch 13/50\n",
      "1276/1276 [==============================] - 617s 484ms/step - loss: 0.8375 - val_loss: 0.6443\n",
      "Epoch 14/50\n",
      "1276/1276 [==============================] - 616s 482ms/step - loss: 0.8021 - val_loss: 0.6508\n",
      "Epoch 15/50\n",
      "1276/1276 [==============================] - 614s 481ms/step - loss: 0.7542 - val_loss: 0.6524\n",
      "Epoch 16/50\n",
      "1276/1276 [==============================] - 615s 482ms/step - loss: 0.6861 - val_loss: 0.6126\n",
      "Epoch 17/50\n",
      "1276/1276 [==============================] - 613s 481ms/step - loss: 0.6958 - val_loss: 0.5852\n",
      "Epoch 18/50\n",
      "1276/1276 [==============================] - 614s 481ms/step - loss: 0.6443 - val_loss: 0.5794\n",
      "Epoch 19/50\n",
      "1276/1276 [==============================] - 612s 480ms/step - loss: 0.5964 - val_loss: 0.5929\n",
      "Epoch 20/50\n",
      "1276/1276 [==============================] - 613s 480ms/step - loss: 0.5840 - val_loss: 0.6063\n",
      "Epoch 21/50\n",
      "1276/1276 [==============================] - 612s 479ms/step - loss: 0.5340 - val_loss: 0.5756\n",
      "Epoch 22/50\n",
      "1276/1276 [==============================] - 613s 481ms/step - loss: 0.5117 - val_loss: 0.6330\n",
      "Epoch 23/50\n",
      "1276/1276 [==============================] - 613s 480ms/step - loss: 0.4927 - val_loss: 0.6815\n",
      "Epoch 24/50\n",
      "1276/1276 [==============================] - 612s 479ms/step - loss: 0.4498 - val_loss: 0.5737\n",
      "Epoch 25/50\n",
      "1276/1276 [==============================] - 612s 479ms/step - loss: 0.4172 - val_loss: 0.5699\n",
      "Epoch 26/50\n",
      "1276/1276 [==============================] - 611s 479ms/step - loss: 0.4039 - val_loss: 1.0091\n",
      "Epoch 27/50\n",
      "1276/1276 [==============================] - 612s 480ms/step - loss: 0.4130 - val_loss: 0.5252\n",
      "Epoch 28/50\n",
      "1276/1276 [==============================] - 612s 480ms/step - loss: 0.3405 - val_loss: 0.5232\n",
      "Epoch 29/50\n",
      "1276/1276 [==============================] - 611s 479ms/step - loss: 0.3272 - val_loss: 0.5291\n",
      "Epoch 30/50\n",
      "1276/1276 [==============================] - 613s 481ms/step - loss: 0.2986 - val_loss: 0.5446\n",
      "Epoch 31/50\n",
      "1276/1276 [==============================] - 611s 479ms/step - loss: 0.6907 - val_loss: 0.5348\n",
      "Epoch 32/50\n",
      "1276/1276 [==============================] - 611s 479ms/step - loss: 0.3062 - val_loss: 0.5067\n",
      "Epoch 33/50\n",
      "1276/1276 [==============================] - 613s 481ms/step - loss: 0.2547 - val_loss: 0.5217\n",
      "Epoch 34/50\n",
      "1276/1276 [==============================] - 613s 480ms/step - loss: 0.3152 - val_loss: 0.8566\n",
      "Epoch 35/50\n",
      "1276/1276 [==============================] - 614s 481ms/step - loss: 0.2570 - val_loss: 0.7727\n",
      "Epoch 36/50\n",
      "1276/1276 [==============================] - 611s 479ms/step - loss: 0.2569 - val_loss: 0.5310\n",
      "Epoch 37/50\n",
      "1276/1276 [==============================] - 614s 481ms/step - loss: 0.2305 - val_loss: 0.5257\n",
      "Epoch 38/50\n",
      "1276/1276 [==============================] - 611s 479ms/step - loss: 0.2751 - val_loss: 0.5245\n",
      "Epoch 39/50\n",
      "1276/1276 [==============================] - 612s 480ms/step - loss: 0.2021 - val_loss: 0.5015\n",
      "Epoch 40/50\n",
      "1276/1276 [==============================] - 612s 480ms/step - loss: 0.2125 - val_loss: 0.5015\n",
      "Epoch 41/50\n",
      "1276/1276 [==============================] - 612s 480ms/step - loss: 0.1897 - val_loss: 0.4925\n",
      "Epoch 42/50\n",
      "1276/1276 [==============================] - 610s 478ms/step - loss: 0.1895 - val_loss: 0.4983\n",
      "Epoch 43/50\n",
      "1276/1276 [==============================] - 609s 478ms/step - loss: 0.1780 - val_loss: 0.6061\n",
      "Epoch 44/50\n",
      "1276/1276 [==============================] - 607s 476ms/step - loss: 0.1844 - val_loss: 0.4979\n",
      "Epoch 45/50\n",
      "1276/1276 [==============================] - 605s 474ms/step - loss: 0.1861 - val_loss: 0.5491\n",
      "Epoch 46/50\n",
      "1276/1276 [==============================] - 605s 474ms/step - loss: 0.1593 - val_loss: 0.4941\n",
      "Epoch 47/50\n",
      "1276/1276 [==============================] - 603s 472ms/step - loss: 0.1628 - val_loss: 0.5043\n",
      "Epoch 48/50\n",
      "1276/1276 [==============================] - 598s 468ms/step - loss: 0.1576 - val_loss: 0.5123\n",
      "Epoch 49/50\n",
      "1276/1276 [==============================] - 598s 469ms/step - loss: 0.1421 - val_loss: 0.5171\n",
      "Epoch 50/50\n",
      "1276/1276 [==============================] - 597s 468ms/step - loss: 0.1411 - val_loss: 0.5280\n",
      "CPU times: user 14h 6min 18s, sys: 10h 30s, total: 1d 6min 49s\n",
      "Wall time: 8h 31min 57s\n"
     ]
    }
   ],
   "source": [
    "%%time\n",
    "'''\n",
    "eval_metrics_callback = EvalMetricsCallback(config.DENSITY_MAP_MULTIPLICATION_FACTOR,\n",
    "                                            train_generator_for_eval,\n",
    "                                            val_generator_for_eval)\n",
    "'''\n",
    "tensorboard_checkpoint = TensorBoard(log_dir=config.LOGS_PATH + 'tensorboard',\n",
    "                                     write_graph=False,\n",
    "                                     update_freq='batch')\n",
    "\n",
    "model_checkpoint = ModelCheckpoint(config.CHECKPOINT_FILENAME,\n",
    "                                   monitor='val_loss',\n",
    "                                   save_best_only=False)\n",
    "\n",
    "model_history = model.fit_generator(generator=train_generator,\n",
    "                                    validation_data=val_generator,\n",
    "                                    epochs=config.EPOCHS,\n",
    "                                    callbacks=[model_checkpoint, tensorboard_checkpoint],\n",
    "                                    verbose=1)"
   ]
  },
  {
   "cell_type": "markdown",
   "metadata": {},
   "source": [
    "#### Save and load train stats/logs/history"
   ]
  },
  {
   "cell_type": "code",
   "execution_count": 11,
   "metadata": {},
   "outputs": [],
   "source": [
    "logs = model.history.history.copy()\n",
    "\n",
    "logs['train_loss'] = logs.pop('loss')\n",
    "logs['train_size'] = train_generator.get_size()\n",
    "logs['val_size'] = val_generator.get_size()\n",
    "logs['rand_seed'] = config.RAND_SEED\n",
    "logs['shuffle'] = config.SHUFFLE\n",
    "logs['loss_name'] = config.LOSS_NAME\n",
    "logs['img_dim'] = config.IMG_DIM\n",
    "logs['patch_dim'] = config.PATCH_DIM\n",
    "logs['patches_per_image'] = config.PATCHES_PER_IMAGE\n",
    "logs['density_map_sigma'] = config.GT_SIGMA\n",
    "logs['density_map_multiplication_factor'] = config.DENSITY_MAP_MULTIPLICATION_FACTOR\n",
    "logs['sub_experiment_name'] = config.SUB_EXPERIMENT_NAME\n",
    "logs['architecture'] = config.ARCHITECTURE_NAME"
   ]
  },
  {
   "cell_type": "code",
   "execution_count": 12,
   "metadata": {
    "scrolled": false
   },
   "outputs": [
    {
     "name": "stdout",
     "output_type": "stream",
     "text": [
      "min val_loss: 0.4925, epoch: 41\n"
     ]
    },
    {
     "data": {
      "image/png": "[encoded data removed]",
      "text/plain": [
       "<Figure size 1080x360 with 2 Axes>"
      ]
     },
     "metadata": {
      "needs_background": "light"
     },
     "output_type": "display_data"
    },
    {
     "data": {
      "text/plain": [
       "\"\\nplot_logs(logs['train_mae'], logs['val_mae'], f'Mean_absolute_error (counts)')\\nplot_logs(logs['train_rmse'], logs['val_rmse'], f'RMSE (counts)')\\nplot_logs(logs['train_underestimate'], logs['val_underestimate'], f'Underestimate (% from GT counts)')\\nplot_logs(logs['train_overestimate'], logs['val_overestimate'], f'Overestimate (% from GT counts)')\\nplot_logs(logs['train_difference'], logs['val_difference'], f'Difference (% from GT counts)')\\n\""
      ]
     },
     "execution_count": 12,
     "metadata": {},
     "output_type": "execute_result"
    }
   ],
   "source": [
    "write_json(logs, config.LOGS_FILENAME)\n",
    "logs = read_json(config.LOGS_FILENAME)\n",
    "\n",
    "print(f'min val_loss: {np.min(logs[\"val_loss\"]):.4f}, epoch: {1 + np.argmin(logs[\"val_loss\"])}')\n",
    "\n",
    "plot_logs(logs['train_loss'], logs['val_loss'], f'{config.LOSS_NAME} loss (density maps)')\n",
    "'''\n",
    "plot_logs(logs['train_mae'], logs['val_mae'], f'Mean_absolute_error (counts)')\n",
    "plot_logs(logs['train_rmse'], logs['val_rmse'], f'RMSE (counts)')\n",
    "plot_logs(logs['train_underestimate'], logs['val_underestimate'], f'Underestimate (% from GT counts)')\n",
    "plot_logs(logs['train_overestimate'], logs['val_overestimate'], f'Overestimate (% from GT counts)')\n",
    "plot_logs(logs['train_difference'], logs['val_difference'], f'Difference (% from GT counts)')\n",
    "'''"
   ]
  }
 ],
 "metadata": {
  "kernelspec": {
   "display_name": "Python 3",
   "language": "python",
   "name": "python3"
  },
  "language_info": {
   "codemirror_mode": {
    "name": "ipython",
    "version": 3
   },
   "file_extension": ".py",
   "mimetype": "text/x-python",
   "name": "python",
   "nbconvert_exporter": "python",
   "pygments_lexer": "ipython3",
   "version": "3.6.7"
  }
 },
 "nbformat": 4,
 "nbformat_minor": 2
}
