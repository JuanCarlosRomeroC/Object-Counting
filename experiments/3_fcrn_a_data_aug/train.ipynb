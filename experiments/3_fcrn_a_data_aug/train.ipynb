{
 "cells": [
  {
   "cell_type": "markdown",
   "metadata": {},
   "source": [
    "## 1. Setup"
   ]
  },
  {
   "cell_type": "code",
   "execution_count": 1,
   "metadata": {},
   "outputs": [],
   "source": [
    "import sys\n",
    "sys.path.append('../..')"
   ]
  },
  {
   "cell_type": "code",
   "execution_count": 2,
   "metadata": {},
   "outputs": [
    {
     "name": "stderr",
     "output_type": "stream",
     "text": [
      "Using TensorFlow backend.\n"
     ]
    }
   ],
   "source": [
    "import config\n",
    "import matplotlib.pyplot as plt\n",
    "import numpy as np\n",
    "import os\n",
    "import warnings\n",
    "\n",
    "from keras.callbacks import ModelCheckpoint, Callback, TensorBoard\n",
    "from neural_networks.fcrn import FCRN_A\n",
    "from neural_networks.keras_utils import EvalMetricsCallback\n",
    "from utils.data.data_augmentation import augment4_from_dir_and_save\n",
    "from utils.data.data_generator import DataGenerator\n",
    "from utils.data.data_ops import move_val_split_to_train\n",
    "from utils.data.data_ops import create_val_split_from_train\n",
    "from utils.input_output.io import read_json, write_json\n",
    "from utils.visualization.vis import plot_logs"
   ]
  },
  {
   "cell_type": "code",
   "execution_count": 3,
   "metadata": {},
   "outputs": [],
   "source": [
    "%matplotlib inline\n",
    "%load_ext autoreload\n",
    "%autoreload 2\n",
    "\n",
    "warnings.filterwarnings('ignore')"
   ]
  },
  {
   "cell_type": "markdown",
   "metadata": {},
   "source": [
    "## 2. Load the dataset"
   ]
  },
  {
   "cell_type": "markdown",
   "metadata": {},
   "source": [
    "#### Create validation split from the initial training data"
   ]
  },
  {
   "cell_type": "code",
   "execution_count": 4,
   "metadata": {},
   "outputs": [
    {
     "data": {
      "text/plain": [
       "'\\nmove_val_split_to_train(config.VAL_PATH, config.TRAIN_PATH)\\ncreate_val_split_from_train(config.TRAIN_PATH, config.VAL_PATH, config.VAL_SIZE, config.RAND_SEED)\\n'"
      ]
     },
     "execution_count": 4,
     "metadata": {},
     "output_type": "execute_result"
    }
   ],
   "source": [
    "'''\n",
    "move_val_split_to_train(config.VAL_PATH, config.TRAIN_PATH)\n",
    "create_val_split_from_train(config.TRAIN_PATH, config.VAL_PATH, config.VAL_SIZE, config.RAND_SEED)\n",
    "'''"
   ]
  },
  {
   "cell_type": "markdown",
   "metadata": {},
   "source": [
    "#### Data augmentation (train/val split)"
   ]
  },
  {
   "cell_type": "code",
   "execution_count": 5,
   "metadata": {},
   "outputs": [
    {
     "data": {
      "text/plain": [
       "'\\naugment4_from_dir_and_save(in_path=config.TRAIN_PATH,\\n                            save_path=config.TRAIN_PATH,\\n                            rseed=config.RAND_SEED)\\n\\naugment4_from_dir_and_save(in_path=config.VAL_PATH,\\n                            save_path=config.VAL_PATH,\\n                            rseed=config.RAND_SEED + 1)\\n'"
      ]
     },
     "execution_count": 5,
     "metadata": {},
     "output_type": "execute_result"
    }
   ],
   "source": [
    "'''\n",
    "augment4_from_dir_and_save(in_path=config.TRAIN_PATH,\n",
    "                            save_path=config.TRAIN_PATH,\n",
    "                            rseed=config.RAND_SEED)\n",
    "\n",
    "augment4_from_dir_and_save(in_path=config.VAL_PATH,\n",
    "                            save_path=config.VAL_PATH,\n",
    "                            rseed=config.RAND_SEED + 1)\n",
    "'''"
   ]
  },
  {
   "cell_type": "markdown",
   "metadata": {},
   "source": [
    "#### Data generators"
   ]
  },
  {
   "cell_type": "code",
   "execution_count": 6,
   "metadata": {},
   "outputs": [],
   "source": [
    "train_params = {\n",
    "    'dim': config.PATCH_DIM,\n",
    "    'batch_size': config.BATCH_SIZE,\n",
    "    'patches_per_image': config.PATCHES_PER_IMAGE,\n",
    "    'density_map_multiplication_factor': config.DENSITY_MAP_MULTIPLICATION_FACTOR,\n",
    "    'shuffle': config.SHUFFLE,\n",
    "    'ignored_images': config.IGNORED_IMAGES,\n",
    "    'data_augmentation': True\n",
    "}\n",
    "\n",
    "val_params = {\n",
    "    'dim': config.IMG_DIM,\n",
    "    'batch_size': 1,\n",
    "    'patches_per_image': 1,\n",
    "    'density_map_multiplication_factor': config.DENSITY_MAP_MULTIPLICATION_FACTOR,\n",
    "    'shuffle': False,\n",
    "    'data_augmentation': True\n",
    "}\n",
    "\n",
    "eval_params = val_params.copy()"
   ]
  },
  {
   "cell_type": "code",
   "execution_count": 7,
   "metadata": {},
   "outputs": [],
   "source": [
    "train_generator = DataGenerator(config.DATASET_PATH, 'train', **train_params)\n",
    "val_generator = DataGenerator(config.DATASET_PATH, 'val', **val_params)\n",
    "\n",
    "### for eval\n",
    "train_generator_for_eval = DataGenerator(config.DATASET_PATH, 'train', **eval_params)\n",
    "val_generator_for_eval = DataGenerator(config.DATASET_PATH, 'val', **eval_params)"
   ]
  },
  {
   "cell_type": "markdown",
   "metadata": {},
   "source": [
    "## 3. Instantiate a FCRN_A"
   ]
  },
  {
   "cell_type": "code",
   "execution_count": 8,
   "metadata": {
    "scrolled": false
   },
   "outputs": [],
   "source": [
    "model = FCRN_A(loss_name=config.LOSS_NAME, learning_rate=config.LEARNING_RATE)"
   ]
  },
  {
   "cell_type": "markdown",
   "metadata": {},
   "source": [
    "## 4. Train the model"
   ]
  },
  {
   "cell_type": "code",
   "execution_count": 9,
   "metadata": {},
   "outputs": [],
   "source": [
    "!rm -rf $config.CHECKPOINTS_PATH\n",
    "!rm -rf $config.LOGS_PATH\n",
    "os.makedirs(config.CHECKPOINTS_PATH)\n",
    "os.makedirs(config.LOGS_PATH)"
   ]
  },
  {
   "cell_type": "code",
   "execution_count": 10,
   "metadata": {
    "scrolled": false
   },
   "outputs": [
    {
     "name": "stdout",
     "output_type": "stream",
     "text": [
      "Epoch 1/50\n",
      "1276/1276 [==============================] - 825s 647ms/step - loss: 0.1387 - val_loss: 0.1844\n",
      "Epoch 2/50\n",
      "1276/1276 [==============================] - 826s 647ms/step - loss: 0.1271 - val_loss: 0.1711\n",
      "Epoch 3/50\n",
      "1276/1276 [==============================] - 822s 644ms/step - loss: 0.1142 - val_loss: 0.1492\n",
      "Epoch 4/50\n",
      "1276/1276 [==============================] - 819s 642ms/step - loss: 0.1091 - val_loss: 0.1568\n",
      "Epoch 5/50\n",
      "1276/1276 [==============================] - 824s 645ms/step - loss: 0.1033 - val_loss: 0.1313\n",
      "Epoch 6/50\n",
      "1276/1276 [==============================] - 825s 646ms/step - loss: 0.0951 - val_loss: 0.1277\n",
      "Epoch 7/50\n",
      "1276/1276 [==============================] - 822s 644ms/step - loss: 0.0961 - val_loss: 0.1273\n",
      "Epoch 8/50\n",
      "1276/1276 [==============================] - 818s 641ms/step - loss: 0.0911 - val_loss: 0.1187\n",
      "Epoch 9/50\n",
      "1276/1276 [==============================] - 818s 641ms/step - loss: 0.0875 - val_loss: 0.1154\n",
      "Epoch 10/50\n",
      "1276/1276 [==============================] - 823s 645ms/step - loss: 0.0848 - val_loss: 0.1149\n",
      "Epoch 11/50\n",
      "1276/1276 [==============================] - 823s 645ms/step - loss: 0.0835 - val_loss: 0.1115\n",
      "Epoch 12/50\n",
      "1276/1276 [==============================] - 825s 647ms/step - loss: 0.0781 - val_loss: 0.1090\n",
      "Epoch 13/50\n",
      "1276/1276 [==============================] - 824s 646ms/step - loss: 0.0798 - val_loss: 0.1101\n",
      "Epoch 14/50\n",
      "1276/1276 [==============================] - 829s 650ms/step - loss: 0.0781 - val_loss: 0.1143\n",
      "Epoch 15/50\n",
      "1276/1276 [==============================] - 822s 644ms/step - loss: 0.0739 - val_loss: 0.1026\n",
      "Epoch 16/50\n",
      "1276/1276 [==============================] - 829s 649ms/step - loss: 0.0750 - val_loss: 0.1087\n",
      "Epoch 17/50\n",
      "1276/1276 [==============================] - 819s 642ms/step - loss: 0.0733 - val_loss: 0.1014\n",
      "Epoch 18/50\n",
      "1276/1276 [==============================] - 826s 647ms/step - loss: 0.0717 - val_loss: 0.1042\n",
      "Epoch 19/50\n",
      "1276/1276 [==============================] - 828s 649ms/step - loss: 0.0688 - val_loss: 0.1001\n",
      "Epoch 20/50\n",
      "1276/1276 [==============================] - 823s 645ms/step - loss: 0.0681 - val_loss: 0.1072\n",
      "Epoch 21/50\n",
      "1276/1276 [==============================] - 822s 644ms/step - loss: 0.0675 - val_loss: 0.1033\n",
      "Epoch 22/50\n",
      "1276/1276 [==============================] - 821s 643ms/step - loss: 0.0672 - val_loss: 0.0936\n",
      "Epoch 23/50\n",
      "1276/1276 [==============================] - 827s 648ms/step - loss: 0.0642 - val_loss: 0.0968\n",
      "Epoch 24/50\n",
      "1276/1276 [==============================] - 818s 641ms/step - loss: 0.0641 - val_loss: 0.0939\n",
      "Epoch 25/50\n",
      "1276/1276 [==============================] - 823s 645ms/step - loss: 0.0645 - val_loss: 0.0933\n",
      "Epoch 26/50\n",
      "1276/1276 [==============================] - 826s 648ms/step - loss: 0.0609 - val_loss: 0.0948\n",
      "Epoch 27/50\n",
      "1276/1276 [==============================] - 820s 643ms/step - loss: 0.0573 - val_loss: 0.0925\n",
      "Epoch 28/50\n",
      "1276/1276 [==============================] - 824s 645ms/step - loss: 0.0591 - val_loss: 0.0898\n",
      "Epoch 29/50\n",
      "1276/1276 [==============================] - 821s 643ms/step - loss: 0.0599 - val_loss: 0.1100\n",
      "Epoch 30/50\n",
      "1276/1276 [==============================] - 823s 645ms/step - loss: 0.0618 - val_loss: 0.0903\n",
      "Epoch 31/50\n",
      "1276/1276 [==============================] - 823s 645ms/step - loss: 0.0579 - val_loss: 0.0923\n",
      "Epoch 32/50\n",
      "1276/1276 [==============================] - 824s 645ms/step - loss: 0.0558 - val_loss: 0.0957\n",
      "Epoch 33/50\n",
      "1276/1276 [==============================] - 827s 648ms/step - loss: 0.0555 - val_loss: 0.0882\n",
      "Epoch 34/50\n",
      "1276/1276 [==============================] - 819s 642ms/step - loss: 0.0551 - val_loss: 0.0895\n",
      "Epoch 35/50\n",
      "1276/1276 [==============================] - 829s 649ms/step - loss: 0.0571 - val_loss: 0.0884\n",
      "Epoch 36/50\n",
      "1276/1276 [==============================] - 830s 650ms/step - loss: 0.0546 - val_loss: 0.0866\n",
      "Epoch 37/50\n",
      "1276/1276 [==============================] - 823s 645ms/step - loss: 0.0516 - val_loss: 0.0892\n",
      "Epoch 38/50\n",
      "1276/1276 [==============================] - 824s 646ms/step - loss: 0.0528 - val_loss: 0.0891\n",
      "Epoch 39/50\n",
      "1276/1276 [==============================] - 826s 648ms/step - loss: 0.0520 - val_loss: 0.0883\n",
      "Epoch 40/50\n",
      "1276/1276 [==============================] - 823s 645ms/step - loss: 0.0506 - val_loss: 0.0933\n",
      "Epoch 41/50\n",
      "1276/1276 [==============================] - 827s 648ms/step - loss: 0.0515 - val_loss: 0.0989\n",
      "Epoch 42/50\n",
      "1276/1276 [==============================] - 821s 644ms/step - loss: 0.0479 - val_loss: 0.0918\n",
      "Epoch 43/50\n",
      "1276/1276 [==============================] - 824s 646ms/step - loss: 0.0489 - val_loss: 0.0848\n",
      "Epoch 44/50\n",
      "1276/1276 [==============================] - 831s 651ms/step - loss: 0.0493 - val_loss: 0.0858\n",
      "Epoch 45/50\n",
      "1276/1276 [==============================] - 827s 648ms/step - loss: 0.0483 - val_loss: 0.0851\n",
      "Epoch 46/50\n",
      "1276/1276 [==============================] - 824s 646ms/step - loss: 0.0465 - val_loss: 0.0853\n",
      "Epoch 47/50\n",
      "1276/1276 [==============================] - 831s 651ms/step - loss: 0.0482 - val_loss: 0.0839\n",
      "Epoch 48/50\n",
      "1276/1276 [==============================] - 824s 646ms/step - loss: 0.0453 - val_loss: 0.0826\n",
      "Epoch 49/50\n",
      "1276/1276 [==============================] - 826s 647ms/step - loss: 0.0470 - val_loss: 0.0854\n",
      "Epoch 50/50\n",
      "1276/1276 [==============================] - 823s 645ms/step - loss: 0.0453 - val_loss: 0.0828\n",
      "CPU times: user 1d 5h 58min 50s, sys: 6h 20min 12s, total: 1d 12h 19min 2s\n",
      "Wall time: 11h 27min 31s\n"
     ]
    }
   ],
   "source": [
    "%%time\n",
    "'''\n",
    "eval_metrics_callback = EvalMetricsCallback(config.DENSITY_MAP_MULTIPLICATION_FACTOR,\n",
    "                                            train_generator_for_eval,\n",
    "                                            val_generator_for_eval)\n",
    "'''\n",
    "tensorboard_checkpoint = TensorBoard(log_dir=config.LOGS_PATH + 'tensorboard',\n",
    "                                     write_graph=False,\n",
    "                                     update_freq='batch')\n",
    "\n",
    "model_checkpoint = ModelCheckpoint(config.CHECKPOINT_FILENAME,\n",
    "                                   monitor='val_loss',\n",
    "                                   save_best_only=False)\n",
    "\n",
    "model_history = model.fit_generator(generator=train_generator,\n",
    "                                    validation_data=val_generator,\n",
    "                                    epochs=config.EPOCHS,\n",
    "                                    callbacks=[model_checkpoint, tensorboard_checkpoint],\n",
    "                                    verbose=1)"
   ]
  },
  {
   "cell_type": "markdown",
   "metadata": {},
   "source": [
    "#### Save and load train stats/logs/history"
   ]
  },
  {
   "cell_type": "code",
   "execution_count": 11,
   "metadata": {},
   "outputs": [],
   "source": [
    "logs = model.history.history.copy()\n",
    "\n",
    "logs['train_loss'] = logs.pop('loss')\n",
    "logs['train_size'] = train_generator.get_size()\n",
    "logs['val_size'] = val_generator.get_size()\n",
    "logs['rand_seed'] = config.RAND_SEED\n",
    "logs['shuffle'] = config.SHUFFLE\n",
    "logs['loss_name'] = config.LOSS_NAME\n",
    "logs['img_dim'] = config.IMG_DIM\n",
    "logs['patch_dim'] = config.PATCH_DIM\n",
    "logs['patches_per_image'] = config.PATCHES_PER_IMAGE\n",
    "logs['density_map_sigma'] = config.GT_SIGMA\n",
    "logs['density_map_multiplication_factor'] = config.DENSITY_MAP_MULTIPLICATION_FACTOR\n",
    "logs['sub_experiment_name'] = config.SUB_EXPERIMENT_NAME\n",
    "logs['architecture'] = config.ARCHITECTURE_NAME"
   ]
  },
  {
   "cell_type": "code",
   "execution_count": 12,
   "metadata": {
    "scrolled": false
   },
   "outputs": [
    {
     "name": "stdout",
     "output_type": "stream",
     "text": [
      "min val_loss: 0.0826, epoch: 48\n"
     ]
    },
    {
     "data": {
      "image/png": "[encoded data removed]",
      "text/plain": [
       "<Figure size 1080x360 with 2 Axes>"
      ]
     },
     "metadata": {
      "needs_background": "light"
     },
     "output_type": "display_data"
    },
    {
     "data": {
      "text/plain": [
       "\"\\nplot_logs(logs['train_mae'], logs['val_mae'], f'Mean_absolute_error (counts)')\\nplot_logs(logs['train_rmse'], logs['val_rmse'], f'RMSE (counts)')\\nplot_logs(logs['train_underestimate'], logs['val_underestimate'], f'Underestimate (% from GT counts)')\\nplot_logs(logs['train_overestimate'], logs['val_overestimate'], f'Overestimate (% from GT counts)')\\nplot_logs(logs['train_difference'], logs['val_difference'], f'Difference (% from GT counts)')\\n\""
      ]
     },
     "execution_count": 12,
     "metadata": {},
     "output_type": "execute_result"
    }
   ],
   "source": [
    "write_json(logs, config.LOGS_FILENAME)\n",
    "logs = read_json(config.LOGS_FILENAME)\n",
    "\n",
    "print(f'min val_loss: {np.min(logs[\"val_loss\"]):.4f}, epoch: {1 + np.argmin(logs[\"val_loss\"])}')\n",
    "\n",
    "plot_logs(logs['train_loss'], logs['val_loss'], f'{config.LOSS_NAME} loss (density maps)')\n",
    "'''\n",
    "plot_logs(logs['train_mae'], logs['val_mae'], f'Mean_absolute_error (counts)')\n",
    "plot_logs(logs['train_rmse'], logs['val_rmse'], f'RMSE (counts)')\n",
    "plot_logs(logs['train_underestimate'], logs['val_underestimate'], f'Underestimate (% from GT counts)')\n",
    "plot_logs(logs['train_overestimate'], logs['val_overestimate'], f'Overestimate (% from GT counts)')\n",
    "plot_logs(logs['train_difference'], logs['val_difference'], f'Difference (% from GT counts)')\n",
    "'''"
   ]
  }
 ],
 "metadata": {
  "kernelspec": {
   "display_name": "Python 3",
   "language": "python",
   "name": "python3"
  },
  "language_info": {
   "codemirror_mode": {
    "name": "ipython",
    "version": 3
   },
   "file_extension": ".py",
   "mimetype": "text/x-python",
   "name": "python",
   "nbconvert_exporter": "python",
   "pygments_lexer": "ipython3",
   "version": "3.6.7"
  }
 },
 "nbformat": 4,
 "nbformat_minor": 2
}
