{
 "cells": [
  {
   "cell_type": "markdown",
   "metadata": {},
   "source": [
    "## 1. Setup"
   ]
  },
  {
   "cell_type": "code",
   "execution_count": 1,
   "metadata": {},
   "outputs": [],
   "source": [
    "import sys\n",
    "sys.path.append('../..')"
   ]
  },
  {
   "cell_type": "code",
   "execution_count": 2,
   "metadata": {},
   "outputs": [
    {
     "name": "stderr",
     "output_type": "stream",
     "text": [
      "Using TensorFlow backend.\n"
     ]
    }
   ],
   "source": [
    "import config\n",
    "import matplotlib.pyplot as plt\n",
    "import numpy as np\n",
    "import os\n",
    "import warnings\n",
    "\n",
    "from keras.callbacks import ModelCheckpoint, Callback\n",
    "from neural_networks.fcrn import FCRN_A\n",
    "from neural_networks.keras_utils import EvalMetricsCallback\n",
    "from utils.data.data_augmentation import augment16_from_dir_and_save\n",
    "from utils.data.data_generator import DataGenerator\n",
    "from utils.data.data_ops import move_val_split_to_train\n",
    "from utils.data.data_ops import create_val_split_from_train\n",
    "from utils.input_output.io import read_json, write_json\n",
    "from utils.visualization.vis import plot_logs"
   ]
  },
  {
   "cell_type": "code",
   "execution_count": 3,
   "metadata": {},
   "outputs": [],
   "source": [
    "%matplotlib inline\n",
    "%load_ext autoreload\n",
    "%autoreload 2\n",
    "\n",
    "warnings.filterwarnings('ignore')"
   ]
  },
  {
   "cell_type": "markdown",
   "metadata": {},
   "source": [
    "## 2. Load the dataset"
   ]
  },
  {
   "cell_type": "markdown",
   "metadata": {},
   "source": [
    "#### Create validation split from the initial training data"
   ]
  },
  {
   "cell_type": "code",
   "execution_count": 4,
   "metadata": {},
   "outputs": [],
   "source": [
    "move_val_split_to_train(config.VAL_PATH, config.TRAIN_PATH)\n",
    "create_val_split_from_train(config.TRAIN_PATH, config.VAL_PATH, config.VAL_SIZE, config.RAND_SEED)"
   ]
  },
  {
   "cell_type": "markdown",
   "metadata": {},
   "source": [
    "#### Data augmentation (train/val split)"
   ]
  },
  {
   "cell_type": "code",
   "execution_count": 5,
   "metadata": {},
   "outputs": [],
   "source": [
    "augment16_from_dir_and_save(in_path=config.TRAIN_PATH,\n",
    "                            save_path=config.TRAIN_PATH,\n",
    "                            rseed=config.RAND_SEED)\n",
    "\n",
    "augment16_from_dir_and_save(in_path=config.VAL_PATH,\n",
    "                            save_path=config.VAL_PATH,\n",
    "                            rseed=config.RAND_SEED + 1)"
   ]
  },
  {
   "cell_type": "markdown",
   "metadata": {},
   "source": [
    "#### Data generators"
   ]
  },
  {
   "cell_type": "code",
   "execution_count": 6,
   "metadata": {},
   "outputs": [],
   "source": [
    "train_params = {\n",
    "    'dim': config.PATCH_DIM,\n",
    "    'batch_size': config.BATCH_SIZE,\n",
    "    'patches_per_image': config.PATCHES_PER_IMAGE,\n",
    "    'density_map_multiplication_factor': config.DENSITY_MAP_MULTIPLICATION_FACTOR,\n",
    "    'shuffle': config.SHUFFLE,\n",
    "    'ignored_images': config.IGNORED_IMAGES,\n",
    "    'data_augmentation': True\n",
    "}\n",
    "\n",
    "val_params = {\n",
    "    'dim': config.IMG_DIM,\n",
    "    'batch_size': 1,\n",
    "    'patches_per_image': 1,\n",
    "    'density_map_multiplication_factor': config.DENSITY_MAP_MULTIPLICATION_FACTOR,\n",
    "    'shuffle': False,\n",
    "    'data_augmentation': True\n",
    "}\n",
    "\n",
    "eval_params = val_params.copy()"
   ]
  },
  {
   "cell_type": "code",
   "execution_count": 7,
   "metadata": {},
   "outputs": [],
   "source": [
    "train_generator = DataGenerator(config.DATASET_PATH, 'train', **train_params)\n",
    "val_generator = DataGenerator(config.DATASET_PATH, 'val', **val_params)\n",
    "\n",
    "### for eval\n",
    "train_generator_for_eval = DataGenerator(config.DATASET_PATH, 'train', **eval_params)\n",
    "val_generator_for_eval = DataGenerator(config.DATASET_PATH, 'val', **eval_params)"
   ]
  },
  {
   "cell_type": "markdown",
   "metadata": {},
   "source": [
    "## 3. Instantiate a FCRN_A"
   ]
  },
  {
   "cell_type": "code",
   "execution_count": 8,
   "metadata": {
    "scrolled": false
   },
   "outputs": [],
   "source": [
    "model = FCRN_A(loss_name=config.LOSS_NAME)"
   ]
  },
  {
   "cell_type": "markdown",
   "metadata": {},
   "source": [
    "## 4. Train the model"
   ]
  },
  {
   "cell_type": "code",
   "execution_count": 9,
   "metadata": {},
   "outputs": [],
   "source": [
    "!rm -rf $config.CHECKPOINTS_PATH\n",
    "!rm -rf $config.LOGS_PATH\n",
    "os.makedirs(config.CHECKPOINTS_PATH)\n",
    "os.makedirs(config.LOGS_PATH)"
   ]
  },
  {
   "cell_type": "code",
   "execution_count": 10,
   "metadata": {
    "scrolled": false
   },
   "outputs": [
    {
     "name": "stdout",
     "output_type": "stream",
     "text": [
      "Epoch 1/50\n",
      "256/256 [==============================] - 40s 157ms/step - loss: 0.0920 - val_loss: 0.0173\n",
      "Epoch 2/50\n",
      "256/256 [==============================] - 37s 145ms/step - loss: 0.0131 - val_loss: 0.0140\n",
      "Epoch 3/50\n",
      "256/256 [==============================] - 37s 145ms/step - loss: 0.0116 - val_loss: 0.0120\n",
      "Epoch 4/50\n",
      "256/256 [==============================] - 37s 145ms/step - loss: 0.0096 - val_loss: 0.0121\n",
      "Epoch 5/50\n",
      "256/256 [==============================] - 37s 146ms/step - loss: 0.0090 - val_loss: 0.0110\n",
      "Epoch 6/50\n",
      "256/256 [==============================] - 39s 153ms/step - loss: 0.0095 - val_loss: 0.0108\n",
      "Epoch 7/50\n",
      "256/256 [==============================] - 38s 147ms/step - loss: 0.0086 - val_loss: 0.0109\n",
      "Epoch 8/50\n",
      "256/256 [==============================] - 41s 159ms/step - loss: 0.0082 - val_loss: 0.0113\n",
      "Epoch 9/50\n",
      "256/256 [==============================] - 38s 149ms/step - loss: 0.0079 - val_loss: 0.0104\n",
      "Epoch 10/50\n",
      "256/256 [==============================] - 41s 161ms/step - loss: 0.0081 - val_loss: 0.0106\n",
      "Epoch 11/50\n",
      "256/256 [==============================] - 38s 149ms/step - loss: 0.0075 - val_loss: 0.0101\n",
      "Epoch 12/50\n",
      "256/256 [==============================] - 38s 150ms/step - loss: 0.0075 - val_loss: 0.0106\n",
      "Epoch 13/50\n",
      "256/256 [==============================] - 45s 176ms/step - loss: 0.0075 - val_loss: 0.0105\n",
      "Epoch 14/50\n",
      "256/256 [==============================] - 38s 149ms/step - loss: 0.0073 - val_loss: 0.0101\n",
      "Epoch 15/50\n",
      "256/256 [==============================] - 38s 149ms/step - loss: 0.0072 - val_loss: 0.0105\n",
      "Epoch 16/50\n",
      "256/256 [==============================] - 48s 186ms/step - loss: 0.0070 - val_loss: 0.0095\n",
      "Epoch 17/50\n",
      "256/256 [==============================] - 38s 149ms/step - loss: 0.0068 - val_loss: 0.0106\n",
      "Epoch 18/50\n",
      "256/256 [==============================] - 44s 172ms/step - loss: 0.0069 - val_loss: 0.0102\n",
      "Epoch 19/50\n",
      "256/256 [==============================] - 38s 149ms/step - loss: 0.0071 - val_loss: 0.0107\n",
      "Epoch 20/50\n",
      "256/256 [==============================] - 45s 175ms/step - loss: 0.0066 - val_loss: 0.0097\n",
      "Epoch 21/50\n",
      "256/256 [==============================] - 38s 149ms/step - loss: 0.0068 - val_loss: 0.0093\n",
      "Epoch 22/50\n",
      "256/256 [==============================] - 44s 173ms/step - loss: 0.0065 - val_loss: 0.0115\n",
      "Epoch 23/50\n",
      "256/256 [==============================] - 38s 149ms/step - loss: 0.0064 - val_loss: 0.0095\n",
      "Epoch 24/50\n",
      "256/256 [==============================] - 43s 169ms/step - loss: 0.0062 - val_loss: 0.0095\n",
      "Epoch 25/50\n",
      "256/256 [==============================] - 38s 149ms/step - loss: 0.0063 - val_loss: 0.0106\n",
      "Epoch 26/50\n",
      "256/256 [==============================] - 45s 175ms/step - loss: 0.0063 - val_loss: 0.0102\n",
      "Epoch 27/50\n",
      "256/256 [==============================] - 38s 149ms/step - loss: 0.0061 - val_loss: 0.0096\n",
      "Epoch 28/50\n",
      "256/256 [==============================] - 38s 150ms/step - loss: 0.0062 - val_loss: 0.0098\n",
      "Epoch 29/50\n",
      "256/256 [==============================] - 48s 186ms/step - loss: 0.0059 - val_loss: 0.0093\n",
      "Epoch 30/50\n",
      "256/256 [==============================] - 38s 149ms/step - loss: 0.0058 - val_loss: 0.0100\n",
      "Epoch 31/50\n",
      "256/256 [==============================] - 43s 167ms/step - loss: 0.0059 - val_loss: 0.0094\n",
      "Epoch 32/50\n",
      "256/256 [==============================] - 38s 149ms/step - loss: 0.0057 - val_loss: 0.0098\n",
      "Epoch 33/50\n",
      "256/256 [==============================] - 45s 176ms/step - loss: 0.0055 - val_loss: 0.0091\n",
      "Epoch 34/50\n",
      "256/256 [==============================] - 38s 149ms/step - loss: 0.0056 - val_loss: 0.0093\n",
      "Epoch 35/50\n",
      "256/256 [==============================] - 43s 169ms/step - loss: 0.0055 - val_loss: 0.0098\n",
      "Epoch 36/50\n",
      "256/256 [==============================] - 38s 149ms/step - loss: 0.0053 - val_loss: 0.0091\n",
      "Epoch 37/50\n",
      "256/256 [==============================] - 43s 166ms/step - loss: 0.0052 - val_loss: 0.0097\n",
      "Epoch 38/50\n",
      "256/256 [==============================] - 43s 167ms/step - loss: 0.0051 - val_loss: 0.0097\n",
      "Epoch 39/50\n",
      "256/256 [==============================] - 40s 155ms/step - loss: 0.0053 - val_loss: 0.0091\n",
      "Epoch 40/50\n",
      "256/256 [==============================] - 43s 169ms/step - loss: 0.0051 - val_loss: 0.0096\n",
      "Epoch 41/50\n",
      "256/256 [==============================] - 38s 149ms/step - loss: 0.0050 - val_loss: 0.0092\n",
      "Epoch 42/50\n",
      "256/256 [==============================] - 38s 149ms/step - loss: 0.0050 - val_loss: 0.0091\n",
      "Epoch 43/50\n",
      "256/256 [==============================] - 47s 184ms/step - loss: 0.0047 - val_loss: 0.0090\n",
      "Epoch 44/50\n",
      "256/256 [==============================] - 38s 149ms/step - loss: 0.0049 - val_loss: 0.0090\n",
      "Epoch 45/50\n",
      "256/256 [==============================] - 38s 149ms/step - loss: 0.0047 - val_loss: 0.0091\n",
      "Epoch 46/50\n",
      "256/256 [==============================] - 44s 170ms/step - loss: 0.0048 - val_loss: 0.0098\n",
      "Epoch 47/50\n",
      "256/256 [==============================] - 38s 149ms/step - loss: 0.0045 - val_loss: 0.0100\n",
      "Epoch 48/50\n",
      "256/256 [==============================] - 42s 166ms/step - loss: 0.0046 - val_loss: 0.0091\n",
      "Epoch 49/50\n",
      "256/256 [==============================] - 38s 149ms/step - loss: 0.0045 - val_loss: 0.0091\n",
      "Epoch 50/50\n",
      "256/256 [==============================] - 42s 164ms/step - loss: 0.0043 - val_loss: 0.0090\n",
      "CPU times: user 37min 48s, sys: 4min 16s, total: 42min 5s\n",
      "Wall time: 33min 49s\n"
     ]
    }
   ],
   "source": [
    "%%time\n",
    "'''\n",
    "eval_metrics_callback = EvalMetricsCallback(config.DENSITY_MAP_MULTIPLICATION_FACTOR,\n",
    "                                            train_generator_for_eval,\n",
    "                                            val_generator_for_eval)\n",
    "'''\n",
    "\n",
    "model_checkpoint = ModelCheckpoint(config.CHECKPOINT_FILENAME,\n",
    "                                   monitor='val_loss',\n",
    "                                   save_best_only=True)\n",
    "\n",
    "model_history = model.fit_generator(generator=train_generator,\n",
    "                                    validation_data=val_generator,\n",
    "                                    epochs=config.EPOCHS,\n",
    "                                    callbacks=[model_checkpoint],\n",
    "                                    verbose=1)"
   ]
  },
  {
   "cell_type": "markdown",
   "metadata": {},
   "source": [
    "#### Save and load train stats/logs/history"
   ]
  },
  {
   "cell_type": "code",
   "execution_count": 11,
   "metadata": {},
   "outputs": [],
   "source": [
    "logs = model.history.history.copy()\n",
    "\n",
    "logs['train_loss'] = logs.pop('loss')\n",
    "logs['train_size'] = train_generator.get_size()\n",
    "logs['val_size'] = val_generator.get_size()\n",
    "logs['rand_seed'] = config.RAND_SEED\n",
    "logs['shuffle'] = config.SHUFFLE\n",
    "logs['loss_name'] = config.LOSS_NAME\n",
    "logs['img_dim'] = config.IMG_DIM\n",
    "logs['patch_dim'] = config.PATCH_DIM\n",
    "logs['patches_per_image'] = config.PATCHES_PER_IMAGE\n",
    "logs['density_map_sigma'] = config.GT_SIGMA\n",
    "logs['density_map_multiplication_factor'] = config.DENSITY_MAP_MULTIPLICATION_FACTOR\n",
    "logs['sub_experiment_name'] = config.SUB_EXPERIMENT_NAME\n",
    "logs['architecture'] = config.ARCHITECTURE_NAME"
   ]
  },
  {
   "cell_type": "code",
   "execution_count": 12,
   "metadata": {
    "scrolled": false
   },
   "outputs": [
    {
     "name": "stdout",
     "output_type": "stream",
     "text": [
      "min val_loss: 0.0090, epoch: 44\n"
     ]
    },
    {
     "data": {
      "image/png": "[encoded data removed]",
      "text/plain": [
       "<Figure size 1080x360 with 2 Axes>"
      ]
     },
     "metadata": {
      "needs_background": "light"
     },
     "output_type": "display_data"
    },
    {
     "data": {
      "text/plain": [
       "\"\\nplot_logs(logs['train_mae'], logs['val_mae'], f'Mean_absolute_error (counts)')\\nplot_logs(logs['train_rmse'], logs['val_rmse'], f'RMSE (counts)')\\nplot_logs(logs['train_underestimate'], logs['val_underestimate'], f'Underestimate (% from GT counts)')\\nplot_logs(logs['train_overestimate'], logs['val_overestimate'], f'Overestimate (% from GT counts)')\\nplot_logs(logs['train_difference'], logs['val_difference'], f'Difference (% from GT counts)')\\n\""
      ]
     },
     "execution_count": 12,
     "metadata": {},
     "output_type": "execute_result"
    }
   ],
   "source": [
    "write_json(logs, config.LOGS_FILENAME)\n",
    "logs = read_json(config.LOGS_FILENAME)\n",
    "\n",
    "print(f'min val_loss: {np.min(logs[\"val_loss\"]):.4f}, epoch: {1 + np.argmin(logs[\"val_loss\"])}')\n",
    "\n",
    "plot_logs(logs['train_loss'], logs['val_loss'], f'{config.LOSS_NAME} loss (density maps)')\n",
    "'''\n",
    "plot_logs(logs['train_mae'], logs['val_mae'], f'Mean_absolute_error (counts)')\n",
    "plot_logs(logs['train_rmse'], logs['val_rmse'], f'RMSE (counts)')\n",
    "plot_logs(logs['train_underestimate'], logs['val_underestimate'], f'Underestimate (% from GT counts)')\n",
    "plot_logs(logs['train_overestimate'], logs['val_overestimate'], f'Overestimate (% from GT counts)')\n",
    "plot_logs(logs['train_difference'], logs['val_difference'], f'Difference (% from GT counts)')\n",
    "'''"
   ]
  },
  {
   "cell_type": "code",
   "execution_count": null,
   "metadata": {},
   "outputs": [],
   "source": []
  }
 ],
 "metadata": {
  "kernelspec": {
   "display_name": "Python 3",
   "language": "python",
   "name": "python3"
  },
  "language_info": {
   "codemirror_mode": {
    "name": "ipython",
    "version": 3
   },
   "file_extension": ".py",
   "mimetype": "text/x-python",
   "name": "python",
   "nbconvert_exporter": "python",
   "pygments_lexer": "ipython3",
   "version": "3.6.7"
  }
 },
 "nbformat": 4,
 "nbformat_minor": 2
}
