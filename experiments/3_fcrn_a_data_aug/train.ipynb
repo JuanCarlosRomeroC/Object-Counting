{
 "cells": [
  {
   "cell_type": "markdown",
   "metadata": {},
   "source": [
    "## 1. Setup"
   ]
  },
  {
   "cell_type": "code",
   "execution_count": 1,
   "metadata": {},
   "outputs": [],
   "source": [
    "import sys\n",
    "sys.path.append('../..')"
   ]
  },
  {
   "cell_type": "code",
   "execution_count": 2,
   "metadata": {},
   "outputs": [
    {
     "name": "stderr",
     "output_type": "stream",
     "text": [
      "Using TensorFlow backend.\n"
     ]
    }
   ],
   "source": [
    "import config\n",
    "import matplotlib.pyplot as plt\n",
    "import numpy as np\n",
    "import os\n",
    "import warnings\n",
    "\n",
    "from keras.callbacks import ModelCheckpoint, Callback, TensorBoard\n",
    "from neural_networks.fcrn import FCRN_A\n",
    "from neural_networks.keras_utils import EvalMetricsCallback\n",
    "from utils.data.data_augmentation import augment4_from_dir_and_save\n",
    "from utils.data.data_generator import DataGenerator\n",
    "from utils.data.data_ops import move_val_split_to_train\n",
    "from utils.data.data_ops import create_val_split_from_train\n",
    "from utils.input_output.io import read_json, write_json\n",
    "from utils.visualization.vis import plot_logs"
   ]
  },
  {
   "cell_type": "code",
   "execution_count": 3,
   "metadata": {},
   "outputs": [],
   "source": [
    "%matplotlib inline\n",
    "%load_ext autoreload\n",
    "%autoreload 2\n",
    "\n",
    "warnings.filterwarnings('ignore')"
   ]
  },
  {
   "cell_type": "markdown",
   "metadata": {},
   "source": [
    "## 2. Load the dataset"
   ]
  },
  {
   "cell_type": "markdown",
   "metadata": {},
   "source": [
    "#### Create validation split from the initial training data"
   ]
  },
  {
   "cell_type": "code",
   "execution_count": 4,
   "metadata": {},
   "outputs": [
    {
     "data": {
      "text/plain": [
       "'\\nmove_val_split_to_train(config.VAL_PATH, config.TRAIN_PATH)\\ncreate_val_split_from_train(config.TRAIN_PATH, config.VAL_PATH, config.VAL_SIZE, config.RAND_SEED)\\n'"
      ]
     },
     "execution_count": 4,
     "metadata": {},
     "output_type": "execute_result"
    }
   ],
   "source": [
    "'''\n",
    "move_val_split_to_train(config.VAL_PATH, config.TRAIN_PATH)\n",
    "create_val_split_from_train(config.TRAIN_PATH, config.VAL_PATH, config.VAL_SIZE, config.RAND_SEED)\n",
    "'''"
   ]
  },
  {
   "cell_type": "markdown",
   "metadata": {},
   "source": [
    "#### Data augmentation (train/val split)"
   ]
  },
  {
   "cell_type": "code",
   "execution_count": 5,
   "metadata": {},
   "outputs": [
    {
     "data": {
      "text/plain": [
       "'\\naugment4_from_dir_and_save(in_path=config.TRAIN_PATH,\\n                            save_path=config.TRAIN_PATH,\\n                            rseed=config.RAND_SEED)\\n\\naugment4_from_dir_and_save(in_path=config.VAL_PATH,\\n                            save_path=config.VAL_PATH,\\n                            rseed=config.RAND_SEED + 1)\\n'"
      ]
     },
     "execution_count": 5,
     "metadata": {},
     "output_type": "execute_result"
    }
   ],
   "source": [
    "'''\n",
    "augment4_from_dir_and_save(in_path=config.TRAIN_PATH,\n",
    "                            save_path=config.TRAIN_PATH,\n",
    "                            rseed=config.RAND_SEED)\n",
    "\n",
    "augment4_from_dir_and_save(in_path=config.VAL_PATH,\n",
    "                            save_path=config.VAL_PATH,\n",
    "                            rseed=config.RAND_SEED + 1)\n",
    "'''"
   ]
  },
  {
   "cell_type": "markdown",
   "metadata": {},
   "source": [
    "#### Data generators"
   ]
  },
  {
   "cell_type": "code",
   "execution_count": 6,
   "metadata": {},
   "outputs": [],
   "source": [
    "train_params = {\n",
    "    'dim': config.PATCH_DIM,\n",
    "    'batch_size': config.BATCH_SIZE,\n",
    "    'patches_per_image': config.PATCHES_PER_IMAGE,\n",
    "    'density_map_multiplication_factor': config.DENSITY_MAP_MULTIPLICATION_FACTOR,\n",
    "    'shuffle': config.SHUFFLE,\n",
    "    'ignored_images': config.IGNORED_IMAGES,\n",
    "    'data_augmentation': True\n",
    "}\n",
    "\n",
    "val_params = {\n",
    "    'dim': config.IMG_DIM,\n",
    "    'batch_size': 1,\n",
    "    'patches_per_image': 1,\n",
    "    'density_map_multiplication_factor': config.DENSITY_MAP_MULTIPLICATION_FACTOR,\n",
    "    'shuffle': False,\n",
    "    'data_augmentation': True\n",
    "}\n",
    "\n",
    "eval_params = val_params.copy()"
   ]
  },
  {
   "cell_type": "code",
   "execution_count": 7,
   "metadata": {},
   "outputs": [],
   "source": [
    "train_generator = DataGenerator(config.DATASET_PATH, 'train', **train_params)\n",
    "val_generator = DataGenerator(config.DATASET_PATH, 'val', **val_params)\n",
    "\n",
    "### for eval\n",
    "train_generator_for_eval = DataGenerator(config.DATASET_PATH, 'train', **eval_params)\n",
    "val_generator_for_eval = DataGenerator(config.DATASET_PATH, 'val', **eval_params)"
   ]
  },
  {
   "cell_type": "markdown",
   "metadata": {},
   "source": [
    "## 3. Instantiate a FCRN_A"
   ]
  },
  {
   "cell_type": "code",
   "execution_count": 8,
   "metadata": {
    "scrolled": false
   },
   "outputs": [],
   "source": [
    "model = FCRN_A(loss_name=config.LOSS_NAME, learning_rate=config.LEARNING_RATE)"
   ]
  },
  {
   "cell_type": "markdown",
   "metadata": {},
   "source": [
    "## 4. Train the model"
   ]
  },
  {
   "cell_type": "code",
   "execution_count": 9,
   "metadata": {},
   "outputs": [],
   "source": [
    "!rm -rf $config.CHECKPOINTS_PATH\n",
    "!rm -rf $config.LOGS_PATH\n",
    "os.makedirs(config.CHECKPOINTS_PATH)\n",
    "os.makedirs(config.LOGS_PATH)"
   ]
  },
  {
   "cell_type": "code",
   "execution_count": 10,
   "metadata": {
    "scrolled": false
   },
   "outputs": [
    {
     "name": "stdout",
     "output_type": "stream",
     "text": [
      "Epoch 1/50\n",
      "1276/1276 [==============================] - 615s 482ms/step - loss: 0.2059 - val_loss: 0.1742\n",
      "Epoch 2/50\n",
      "1276/1276 [==============================] - 589s 462ms/step - loss: 0.1868 - val_loss: 0.1588\n",
      "Epoch 3/50\n",
      "1276/1276 [==============================] - 590s 462ms/step - loss: 0.1711 - val_loss: 0.1827\n",
      "Epoch 4/50\n",
      "1276/1276 [==============================] - 587s 460ms/step - loss: 0.1610 - val_loss: 0.1389\n",
      "Epoch 5/50\n",
      "1276/1276 [==============================] - 586s 460ms/step - loss: 0.1504 - val_loss: 0.1371\n",
      "Epoch 6/50\n",
      "1276/1276 [==============================] - 587s 460ms/step - loss: 0.1424 - val_loss: 0.1290\n",
      "Epoch 7/50\n",
      "1276/1276 [==============================] - 583s 457ms/step - loss: 0.1369 - val_loss: 0.1301\n",
      "Epoch 8/50\n",
      "1276/1276 [==============================] - 585s 459ms/step - loss: 0.1313 - val_loss: 0.1154\n",
      "Epoch 9/50\n",
      "1276/1276 [==============================] - 583s 457ms/step - loss: 0.1274 - val_loss: 0.1140\n",
      "Epoch 10/50\n",
      "1276/1276 [==============================] - 580s 455ms/step - loss: 0.1228 - val_loss: 0.1100\n",
      "Epoch 11/50\n",
      "1276/1276 [==============================] - 579s 454ms/step - loss: 0.1153 - val_loss: 0.1050\n",
      "Epoch 12/50\n",
      "1276/1276 [==============================] - 576s 451ms/step - loss: 0.1112 - val_loss: 0.1045\n",
      "Epoch 13/50\n",
      "1276/1276 [==============================] - 576s 451ms/step - loss: 0.1080 - val_loss: 0.1080\n",
      "Epoch 14/50\n",
      "1276/1276 [==============================] - 576s 451ms/step - loss: 0.1060 - val_loss: 0.1030\n",
      "Epoch 15/50\n",
      "1276/1276 [==============================] - 572s 449ms/step - loss: 0.1003 - val_loss: 0.1204\n",
      "Epoch 16/50\n",
      "1276/1276 [==============================] - 575s 451ms/step - loss: 0.0969 - val_loss: 0.1003\n",
      "Epoch 17/50\n",
      "1276/1276 [==============================] - 570s 447ms/step - loss: 0.0977 - val_loss: 0.1025\n",
      "Epoch 18/50\n",
      "1276/1276 [==============================] - 568s 445ms/step - loss: 0.0887 - val_loss: 0.0961\n",
      "Epoch 19/50\n",
      "1276/1276 [==============================] - 566s 444ms/step - loss: 0.0860 - val_loss: 0.1202\n",
      "Epoch 20/50\n",
      "1276/1276 [==============================] - 566s 443ms/step - loss: 0.0835 - val_loss: 0.0961\n",
      "Epoch 21/50\n",
      "1276/1276 [==============================] - 569s 446ms/step - loss: 0.0779 - val_loss: 0.0934\n",
      "Epoch 22/50\n",
      "1276/1276 [==============================] - 566s 443ms/step - loss: 0.0751 - val_loss: 0.0963\n",
      "Epoch 23/50\n",
      "1276/1276 [==============================] - 567s 444ms/step - loss: 0.0743 - val_loss: 0.1017\n",
      "Epoch 24/50\n",
      "1276/1276 [==============================] - 565s 443ms/step - loss: 0.0699 - val_loss: 0.0930\n",
      "Epoch 25/50\n",
      "1276/1276 [==============================] - 562s 441ms/step - loss: 0.0678 - val_loss: 0.0923\n",
      "Epoch 26/50\n",
      "1276/1276 [==============================] - 563s 441ms/step - loss: 0.0635 - val_loss: 0.0937\n",
      "Epoch 27/50\n",
      "1276/1276 [==============================] - 560s 439ms/step - loss: 0.0612 - val_loss: 0.0931\n",
      "Epoch 28/50\n",
      "1276/1276 [==============================] - 564s 442ms/step - loss: 0.0585 - val_loss: 0.1065\n",
      "Epoch 29/50\n",
      "1276/1276 [==============================] - 560s 439ms/step - loss: 0.0578 - val_loss: 0.0962\n",
      "Epoch 30/50\n",
      "1276/1276 [==============================] - 561s 439ms/step - loss: 0.0551 - val_loss: 0.0960\n",
      "Epoch 31/50\n",
      "1276/1276 [==============================] - 562s 441ms/step - loss: 0.0540 - val_loss: 0.0939\n",
      "Epoch 32/50\n",
      "1276/1276 [==============================] - 555s 435ms/step - loss: 0.0527 - val_loss: 0.1059\n",
      "Epoch 33/50\n",
      "1276/1276 [==============================] - 557s 436ms/step - loss: 0.0501 - val_loss: 0.0961\n",
      "Epoch 34/50\n",
      "1276/1276 [==============================] - 554s 435ms/step - loss: 0.0482 - val_loss: 0.0953\n",
      "Epoch 35/50\n",
      "1276/1276 [==============================] - 555s 435ms/step - loss: 0.0487 - val_loss: 0.0963\n",
      "Epoch 36/50\n",
      "1276/1276 [==============================] - 552s 433ms/step - loss: 0.0439 - val_loss: 0.1054\n",
      "Epoch 37/50\n",
      "1276/1276 [==============================] - 550s 431ms/step - loss: 0.0447 - val_loss: 0.0950\n",
      "Epoch 38/50\n",
      "1276/1276 [==============================] - 548s 429ms/step - loss: 0.0424 - val_loss: 0.0927\n",
      "Epoch 39/50\n",
      "1276/1276 [==============================] - 554s 434ms/step - loss: 0.0451 - val_loss: 0.0950\n",
      "Epoch 40/50\n",
      "1276/1276 [==============================] - 547s 428ms/step - loss: 0.0415 - val_loss: 0.0938\n",
      "Epoch 41/50\n",
      "1276/1276 [==============================] - 547s 429ms/step - loss: 0.0386 - val_loss: 0.0927\n",
      "Epoch 42/50\n",
      "1276/1276 [==============================] - 549s 430ms/step - loss: 0.0413 - val_loss: 0.0924\n",
      "Epoch 43/50\n",
      "1276/1276 [==============================] - 545s 427ms/step - loss: 0.0380 - val_loss: 0.1131\n",
      "Epoch 44/50\n",
      "1276/1276 [==============================] - 546s 428ms/step - loss: 0.0383 - val_loss: 0.0932\n",
      "Epoch 45/50\n",
      "1276/1276 [==============================] - 545s 427ms/step - loss: 0.0359 - val_loss: 0.0942\n",
      "Epoch 46/50\n",
      "1276/1276 [==============================] - 545s 427ms/step - loss: 0.0352 - val_loss: 0.0956\n",
      "Epoch 47/50\n",
      "1276/1276 [==============================] - 550s 431ms/step - loss: 0.0350 - val_loss: 0.0958\n",
      "Epoch 48/50\n",
      "1276/1276 [==============================] - 543s 426ms/step - loss: 0.0345 - val_loss: 0.0930\n",
      "Epoch 49/50\n",
      "1276/1276 [==============================] - 546s 428ms/step - loss: 0.0330 - val_loss: 0.0973\n",
      "Epoch 50/50\n",
      "1276/1276 [==============================] - 544s 426ms/step - loss: 0.0339 - val_loss: 0.0937\n",
      "CPU times: user 14h 15min 15s, sys: 8h 47min 17s, total: 23h 2min 33s\n",
      "Wall time: 7h 51min 3s\n"
     ]
    }
   ],
   "source": [
    "%%time\n",
    "'''\n",
    "eval_metrics_callback = EvalMetricsCallback(config.DENSITY_MAP_MULTIPLICATION_FACTOR,\n",
    "                                            train_generator_for_eval,\n",
    "                                            val_generator_for_eval)\n",
    "'''\n",
    "tensorboard_checkpoint = TensorBoard(log_dir=config.LOGS_PATH + 'tensorboard',\n",
    "                                     write_graph=False,\n",
    "                                     update_freq='batch')\n",
    "\n",
    "model_checkpoint = ModelCheckpoint(config.CHECKPOINT_FILENAME,\n",
    "                                   monitor='val_loss',\n",
    "                                   save_best_only=False)\n",
    "\n",
    "model_history = model.fit_generator(generator=train_generator,\n",
    "                                    validation_data=val_generator,\n",
    "                                    epochs=config.EPOCHS,\n",
    "                                    callbacks=[model_checkpoint, tensorboard_checkpoint],\n",
    "                                    verbose=1)"
   ]
  },
  {
   "cell_type": "markdown",
   "metadata": {},
   "source": [
    "#### Save and load train stats/logs/history"
   ]
  },
  {
   "cell_type": "code",
   "execution_count": 11,
   "metadata": {},
   "outputs": [],
   "source": [
    "logs = model.history.history.copy()\n",
    "\n",
    "logs['train_loss'] = logs.pop('loss')\n",
    "logs['train_size'] = train_generator.get_size()\n",
    "logs['val_size'] = val_generator.get_size()\n",
    "logs['rand_seed'] = config.RAND_SEED\n",
    "logs['shuffle'] = config.SHUFFLE\n",
    "logs['loss_name'] = config.LOSS_NAME\n",
    "logs['img_dim'] = config.IMG_DIM\n",
    "logs['patch_dim'] = config.PATCH_DIM\n",
    "logs['patches_per_image'] = config.PATCHES_PER_IMAGE\n",
    "logs['density_map_sigma'] = config.GT_SIGMA\n",
    "logs['density_map_multiplication_factor'] = config.DENSITY_MAP_MULTIPLICATION_FACTOR\n",
    "logs['sub_experiment_name'] = config.SUB_EXPERIMENT_NAME\n",
    "logs['architecture'] = config.ARCHITECTURE_NAME"
   ]
  },
  {
   "cell_type": "code",
   "execution_count": 12,
   "metadata": {
    "scrolled": false
   },
   "outputs": [
    {
     "name": "stdout",
     "output_type": "stream",
     "text": [
      "min val_loss: 0.0923, epoch: 25\n"
     ]
    },
    {
     "data": {
      "image/png": "[encoded data removed]",
      "text/plain": [
       "<Figure size 1080x360 with 2 Axes>"
      ]
     },
     "metadata": {
      "needs_background": "light"
     },
     "output_type": "display_data"
    },
    {
     "data": {
      "text/plain": [
       "\"\\nplot_logs(logs['train_mae'], logs['val_mae'], f'Mean_absolute_error (counts)')\\nplot_logs(logs['train_rmse'], logs['val_rmse'], f'RMSE (counts)')\\nplot_logs(logs['train_underestimate'], logs['val_underestimate'], f'Underestimate (% from GT counts)')\\nplot_logs(logs['train_overestimate'], logs['val_overestimate'], f'Overestimate (% from GT counts)')\\nplot_logs(logs['train_difference'], logs['val_difference'], f'Difference (% from GT counts)')\\n\""
      ]
     },
     "execution_count": 12,
     "metadata": {},
     "output_type": "execute_result"
    }
   ],
   "source": [
    "write_json(logs, config.LOGS_FILENAME)\n",
    "logs = read_json(config.LOGS_FILENAME)\n",
    "\n",
    "print(f'min val_loss: {np.min(logs[\"val_loss\"]):.4f}, epoch: {1 + np.argmin(logs[\"val_loss\"])}')\n",
    "\n",
    "plot_logs(logs['train_loss'], logs['val_loss'], f'{config.LOSS_NAME} loss (density maps)')\n",
    "'''\n",
    "plot_logs(logs['train_mae'], logs['val_mae'], f'Mean_absolute_error (counts)')\n",
    "plot_logs(logs['train_rmse'], logs['val_rmse'], f'RMSE (counts)')\n",
    "plot_logs(logs['train_underestimate'], logs['val_underestimate'], f'Underestimate (% from GT counts)')\n",
    "plot_logs(logs['train_overestimate'], logs['val_overestimate'], f'Overestimate (% from GT counts)')\n",
    "plot_logs(logs['train_difference'], logs['val_difference'], f'Difference (% from GT counts)')\n",
    "'''"
   ]
  }
 ],
 "metadata": {
  "kernelspec": {
   "display_name": "Python 3",
   "language": "python",
   "name": "python3"
  },
  "language_info": {
   "codemirror_mode": {
    "name": "ipython",
    "version": 3
   },
   "file_extension": ".py",
   "mimetype": "text/x-python",
   "name": "python",
   "nbconvert_exporter": "python",
   "pygments_lexer": "ipython3",
   "version": "3.6.7"
  }
 },
 "nbformat": 4,
 "nbformat_minor": 2
}
