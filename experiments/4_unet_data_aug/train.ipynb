{
 "cells": [
  {
   "cell_type": "markdown",
   "metadata": {},
   "source": [
    "## 1. Setup"
   ]
  },
  {
   "cell_type": "code",
   "execution_count": 1,
   "metadata": {},
   "outputs": [],
   "source": [
    "import sys\n",
    "sys.path.append('../..')"
   ]
  },
  {
   "cell_type": "code",
   "execution_count": 2,
   "metadata": {},
   "outputs": [
    {
     "name": "stderr",
     "output_type": "stream",
     "text": [
      "Using TensorFlow backend.\n"
     ]
    }
   ],
   "source": [
    "import config\n",
    "import matplotlib.pyplot as plt\n",
    "import numpy as np\n",
    "import os\n",
    "import warnings\n",
    "\n",
    "from keras.callbacks import ModelCheckpoint, Callback, TensorBoard\n",
    "from neural_networks.unet import UNet\n",
    "from neural_networks.keras_utils import EvalMetricsCallback\n",
    "from utils.data.data_augmentation import augment16_from_dir_and_save\n",
    "from utils.data.data_generator import DataGenerator\n",
    "from utils.data.data_ops import move_val_split_to_train\n",
    "from utils.data.data_ops import create_val_split_from_train\n",
    "from utils.input_output.io import read_json, write_json\n",
    "from utils.visualization.vis import plot_logs"
   ]
  },
  {
   "cell_type": "code",
   "execution_count": 3,
   "metadata": {},
   "outputs": [],
   "source": [
    "%matplotlib inline\n",
    "%load_ext autoreload\n",
    "%autoreload 2\n",
    "\n",
    "warnings.filterwarnings('ignore')"
   ]
  },
  {
   "cell_type": "markdown",
   "metadata": {},
   "source": [
    "## 2. Load the dataset"
   ]
  },
  {
   "cell_type": "markdown",
   "metadata": {},
   "source": [
    "#### Create validation split from the initial training data"
   ]
  },
  {
   "cell_type": "code",
   "execution_count": 4,
   "metadata": {},
   "outputs": [
    {
     "data": {
      "text/plain": [
       "'\\nmove_val_split_to_train(config.VAL_PATH, config.TRAIN_PATH)\\ncreate_val_split_from_train(config.TRAIN_PATH, config.VAL_PATH, config.VAL_SIZE, config.RAND_SEED)\\n'"
      ]
     },
     "execution_count": 4,
     "metadata": {},
     "output_type": "execute_result"
    }
   ],
   "source": [
    "'''\n",
    "move_val_split_to_train(config.VAL_PATH, config.TRAIN_PATH)\n",
    "create_val_split_from_train(config.TRAIN_PATH, config.VAL_PATH, config.VAL_SIZE, config.RAND_SEED)\n",
    "'''"
   ]
  },
  {
   "cell_type": "markdown",
   "metadata": {},
   "source": [
    "#### Data augmentation (train/val split)"
   ]
  },
  {
   "cell_type": "code",
   "execution_count": 5,
   "metadata": {},
   "outputs": [
    {
     "data": {
      "text/plain": [
       "'\\naugment16_from_dir_and_save(in_path=config.TRAIN_PATH,\\n                            save_path=config.TRAIN_PATH,\\n                            rseed=config.RAND_SEED)\\n\\naugment16_from_dir_and_save(in_path=config.VAL_PATH,\\n                            save_path=config.VAL_PATH,\\n                            rseed=config.RAND_SEED + 1)\\n'"
      ]
     },
     "execution_count": 5,
     "metadata": {},
     "output_type": "execute_result"
    }
   ],
   "source": [
    "'''\n",
    "augment16_from_dir_and_save(in_path=config.TRAIN_PATH,\n",
    "                            save_path=config.TRAIN_PATH,\n",
    "                            rseed=config.RAND_SEED)\n",
    "\n",
    "augment16_from_dir_and_save(in_path=config.VAL_PATH,\n",
    "                            save_path=config.VAL_PATH,\n",
    "                            rseed=config.RAND_SEED + 1)\n",
    "'''"
   ]
  },
  {
   "cell_type": "markdown",
   "metadata": {},
   "source": [
    "#### Data generators"
   ]
  },
  {
   "cell_type": "code",
   "execution_count": 6,
   "metadata": {},
   "outputs": [],
   "source": [
    "train_params = {\n",
    "    'dim': config.PATCH_DIM,\n",
    "    'batch_size': config.BATCH_SIZE,\n",
    "    'patches_per_image': config.PATCHES_PER_IMAGE,\n",
    "    'density_map_multiplication_factor': config.DENSITY_MAP_MULTIPLICATION_FACTOR,\n",
    "    'shuffle': config.SHUFFLE,\n",
    "    'ignored_images': config.IGNORED_IMAGES,\n",
    "    'data_augmentation': True\n",
    "}\n",
    "\n",
    "val_params = {\n",
    "    'dim': config.IMG_DIM,\n",
    "    'batch_size': 1,\n",
    "    'patches_per_image': 1,\n",
    "    'density_map_multiplication_factor': config.DENSITY_MAP_MULTIPLICATION_FACTOR,\n",
    "    'shuffle': False,\n",
    "    'data_augmentation': True\n",
    "}\n",
    "\n",
    "eval_params = val_params.copy()"
   ]
  },
  {
   "cell_type": "code",
   "execution_count": 7,
   "metadata": {},
   "outputs": [],
   "source": [
    "train_generator = DataGenerator(config.DATASET_PATH, 'train', **train_params)\n",
    "val_generator = DataGenerator(config.DATASET_PATH, 'val', **val_params)\n",
    "\n",
    "### for eval\n",
    "train_generator_for_eval = DataGenerator(config.DATASET_PATH, 'train', **eval_params)\n",
    "val_generator_for_eval = DataGenerator(config.DATASET_PATH, 'val', **eval_params)"
   ]
  },
  {
   "cell_type": "markdown",
   "metadata": {},
   "source": [
    "## 3. Instantiate a UNet"
   ]
  },
  {
   "cell_type": "code",
   "execution_count": 8,
   "metadata": {
    "scrolled": false
   },
   "outputs": [],
   "source": [
    "model = UNet(loss_name=config.LOSS_NAME, learning_rate=config.LEARNING_RATE)"
   ]
  },
  {
   "cell_type": "markdown",
   "metadata": {},
   "source": [
    "## 4. Train the model"
   ]
  },
  {
   "cell_type": "code",
   "execution_count": 9,
   "metadata": {},
   "outputs": [],
   "source": [
    "!rm -rf $config.CHECKPOINTS_PATH\n",
    "!rm -rf $config.LOGS_PATH\n",
    "os.makedirs(config.CHECKPOINTS_PATH)\n",
    "os.makedirs(config.LOGS_PATH)"
   ]
  },
  {
   "cell_type": "code",
   "execution_count": 10,
   "metadata": {
    "scrolled": false
   },
   "outputs": [
    {
     "name": "stdout",
     "output_type": "stream",
     "text": [
      "Epoch 1/50\n",
      "1276/1276 [==============================] - 881s 690ms/step - loss: 0.7886 - val_loss: 1.1870\n",
      "Epoch 2/50\n",
      "1276/1276 [==============================] - 883s 692ms/step - loss: 0.7100 - val_loss: 1.0338\n",
      "Epoch 3/50\n",
      "1276/1276 [==============================] - 886s 694ms/step - loss: 0.6694 - val_loss: 0.9739\n",
      "Epoch 4/50\n",
      "1276/1276 [==============================] - 899s 705ms/step - loss: 0.6362 - val_loss: 0.9941\n",
      "Epoch 5/50\n",
      "1276/1276 [==============================] - 899s 704ms/step - loss: 0.6340 - val_loss: 0.9776\n",
      "Epoch 6/50\n",
      "1276/1276 [==============================] - 905s 709ms/step - loss: 0.6128 - val_loss: 1.2302\n",
      "Epoch 7/50\n",
      "1276/1276 [==============================] - 868s 680ms/step - loss: 0.5701 - val_loss: 0.7533\n",
      "Epoch 8/50\n",
      "1276/1276 [==============================] - 897s 703ms/step - loss: 0.6373 - val_loss: 1.0515\n",
      "Epoch 9/50\n",
      "1276/1276 [==============================] - 877s 687ms/step - loss: 0.5894 - val_loss: 0.8813\n",
      "Epoch 10/50\n",
      "1276/1276 [==============================] - 909s 713ms/step - loss: 0.5542 - val_loss: 1.4420\n",
      "Epoch 11/50\n",
      "1276/1276 [==============================] - 872s 683ms/step - loss: 0.6074 - val_loss: 0.8267\n",
      "Epoch 12/50\n",
      "1276/1276 [==============================] - 899s 705ms/step - loss: 0.5325 - val_loss: 0.6866\n",
      "Epoch 13/50\n",
      "1276/1276 [==============================] - 908s 712ms/step - loss: 0.5119 - val_loss: 0.7680\n",
      "Epoch 14/50\n",
      "1276/1276 [==============================] - 891s 698ms/step - loss: 0.4697 - val_loss: 0.6540\n",
      "Epoch 15/50\n",
      "1276/1276 [==============================] - 910s 713ms/step - loss: 0.4811 - val_loss: 0.7795\n",
      "Epoch 16/50\n",
      "1276/1276 [==============================] - 914s 716ms/step - loss: 0.4680 - val_loss: 0.6443\n",
      "Epoch 17/50\n",
      "1276/1276 [==============================] - 910s 713ms/step - loss: 0.5301 - val_loss: 0.7196\n",
      "Epoch 18/50\n",
      "1276/1276 [==============================] - 906s 710ms/step - loss: 0.4451 - val_loss: 0.6537\n",
      "Epoch 19/50\n",
      "1276/1276 [==============================] - 878s 688ms/step - loss: 0.4635 - val_loss: 0.8515\n",
      "Epoch 20/50\n",
      "1276/1276 [==============================] - 920s 721ms/step - loss: 0.4120 - val_loss: 0.6305\n",
      "Epoch 21/50\n",
      "1276/1276 [==============================] - 909s 712ms/step - loss: 0.4758 - val_loss: 0.6728\n",
      "Epoch 22/50\n",
      "1276/1276 [==============================] - 905s 709ms/step - loss: 0.4809 - val_loss: 0.6470\n",
      "Epoch 23/50\n",
      "1276/1276 [==============================] - 903s 708ms/step - loss: 0.4258 - val_loss: 0.6683\n",
      "Epoch 24/50\n",
      "1276/1276 [==============================] - 912s 715ms/step - loss: 0.3976 - val_loss: 0.5650\n",
      "Epoch 25/50\n",
      "1276/1276 [==============================] - 916s 718ms/step - loss: 0.3954 - val_loss: 0.5868\n",
      "Epoch 26/50\n",
      "1276/1276 [==============================] - 899s 705ms/step - loss: 0.3842 - val_loss: 0.5699\n",
      "Epoch 27/50\n",
      "1276/1276 [==============================] - 905s 709ms/step - loss: 0.3661 - val_loss: 0.5509\n",
      "Epoch 28/50\n",
      "1276/1276 [==============================] - 898s 704ms/step - loss: 0.3447 - val_loss: 0.5648\n",
      "Epoch 29/50\n",
      "1276/1276 [==============================] - 907s 711ms/step - loss: 0.3533 - val_loss: 0.8525\n",
      "Epoch 30/50\n",
      "1276/1276 [==============================] - 902s 707ms/step - loss: 0.3354 - val_loss: 1.0112\n",
      "Epoch 31/50\n",
      "1276/1276 [==============================] - 903s 708ms/step - loss: 0.3909 - val_loss: 0.5160\n",
      "Epoch 32/50\n",
      "1276/1276 [==============================] - 899s 704ms/step - loss: 0.3546 - val_loss: 0.6024\n",
      "Epoch 33/50\n",
      "1276/1276 [==============================] - 908s 711ms/step - loss: 0.3161 - val_loss: 0.4988\n",
      "Epoch 34/50\n",
      "1276/1276 [==============================] - 906s 710ms/step - loss: 0.3360 - val_loss: 0.6981\n",
      "Epoch 35/50\n",
      "1276/1276 [==============================] - 912s 715ms/step - loss: 0.3291 - val_loss: 0.6867\n",
      "Epoch 36/50\n",
      "1276/1276 [==============================] - 900s 705ms/step - loss: 0.3432 - val_loss: 0.6237\n",
      "Epoch 37/50\n",
      "1276/1276 [==============================] - 908s 712ms/step - loss: 0.3034 - val_loss: 0.5281\n",
      "Epoch 38/50\n",
      "1276/1276 [==============================] - 904s 709ms/step - loss: 0.3241 - val_loss: 0.5133\n",
      "Epoch 39/50\n",
      "1276/1276 [==============================] - 901s 706ms/step - loss: 0.3123 - val_loss: 0.5587\n",
      "Epoch 40/50\n",
      "1276/1276 [==============================] - 903s 708ms/step - loss: 0.2774 - val_loss: 0.5290\n",
      "Epoch 41/50\n",
      "1276/1276 [==============================] - 901s 706ms/step - loss: 0.3191 - val_loss: 0.5455\n",
      "Epoch 42/50\n",
      "1276/1276 [==============================] - 909s 712ms/step - loss: 0.2835 - val_loss: 0.4628\n",
      "Epoch 43/50\n",
      "1276/1276 [==============================] - 906s 710ms/step - loss: 0.2793 - val_loss: 0.4918\n",
      "Epoch 44/50\n",
      "1276/1276 [==============================] - 908s 712ms/step - loss: 0.2905 - val_loss: 0.4657\n",
      "Epoch 45/50\n",
      "1276/1276 [==============================] - 906s 710ms/step - loss: 0.2800 - val_loss: 0.4922\n",
      "Epoch 46/50\n",
      "1276/1276 [==============================] - 913s 716ms/step - loss: 0.2564 - val_loss: 0.4655\n",
      "Epoch 47/50\n",
      "1276/1276 [==============================] - 902s 707ms/step - loss: 0.3466 - val_loss: 0.6461\n",
      "Epoch 48/50\n",
      "1276/1276 [==============================] - 901s 706ms/step - loss: 0.3394 - val_loss: 0.5277\n",
      "Epoch 49/50\n",
      "1276/1276 [==============================] - 902s 707ms/step - loss: 0.2519 - val_loss: 0.5102\n",
      "Epoch 50/50\n",
      "1276/1276 [==============================] - 914s 716ms/step - loss: 0.2650 - val_loss: 0.4546\n",
      "CPU times: user 1d 2h 57min 52s, sys: 7h 2min, total: 1d 9h 59min 53s\n",
      "Wall time: 12h 31min 35s\n"
     ]
    }
   ],
   "source": [
    "%%time\n",
    "'''\n",
    "eval_metrics_callback = EvalMetricsCallback(config.DENSITY_MAP_MULTIPLICATION_FACTOR,\n",
    "                                            train_generator_for_eval,\n",
    "                                            val_generator_for_eval)\n",
    "\n",
    "tensorboard_checkpoint = TensorBoard(log_dir=config.LOGS_PATH + 'tensorboard',\n",
    "                                     write_graph=False,\n",
    "                                     update_freq='batch')\n",
    "'''\n",
    "model_checkpoint = ModelCheckpoint(config.CHECKPOINT_FILENAME,\n",
    "                                   monitor='val_loss',\n",
    "                                   save_best_only=False)\n",
    "\n",
    "model_history = model.fit_generator(generator=train_generator,\n",
    "                                    validation_data=val_generator,\n",
    "                                    epochs=config.EPOCHS,\n",
    "                                    callbacks=[model_checkpoint],\n",
    "                                    verbose=1)"
   ]
  },
  {
   "cell_type": "markdown",
   "metadata": {},
   "source": [
    "#### Save and load train stats/logs/history"
   ]
  },
  {
   "cell_type": "code",
   "execution_count": 11,
   "metadata": {},
   "outputs": [],
   "source": [
    "logs = model.history.history.copy()\n",
    "\n",
    "logs['train_loss'] = logs.pop('loss')\n",
    "logs['train_size'] = train_generator.get_size()\n",
    "logs['val_size'] = val_generator.get_size()\n",
    "logs['rand_seed'] = config.RAND_SEED\n",
    "logs['shuffle'] = config.SHUFFLE\n",
    "logs['loss_name'] = config.LOSS_NAME\n",
    "logs['img_dim'] = config.IMG_DIM\n",
    "logs['patch_dim'] = config.PATCH_DIM\n",
    "logs['patches_per_image'] = config.PATCHES_PER_IMAGE\n",
    "logs['density_map_sigma'] = config.GT_SIGMA\n",
    "logs['density_map_multiplication_factor'] = config.DENSITY_MAP_MULTIPLICATION_FACTOR\n",
    "logs['sub_experiment_name'] = config.SUB_EXPERIMENT_NAME\n",
    "logs['architecture'] = config.ARCHITECTURE_NAME"
   ]
  },
  {
   "cell_type": "code",
   "execution_count": 12,
   "metadata": {
    "scrolled": false
   },
   "outputs": [
    {
     "name": "stdout",
     "output_type": "stream",
     "text": [
      "min val_loss: 0.4546, epoch: 50\n"
     ]
    },
    {
     "data": {
      "image/png": "[encoded data removed]",
      "text/plain": [
       "<Figure size 1080x360 with 2 Axes>"
      ]
     },
     "metadata": {
      "needs_background": "light"
     },
     "output_type": "display_data"
    },
    {
     "data": {
      "text/plain": [
       "\"\\nplot_logs(logs['train_mae'], logs['val_mae'], f'Mean_absolute_error (counts)')\\nplot_logs(logs['train_rmse'], logs['val_rmse'], f'RMSE (counts)')\\nplot_logs(logs['train_underestimate'], logs['val_underestimate'], f'Underestimate (% from GT counts)')\\nplot_logs(logs['train_overestimate'], logs['val_overestimate'], f'Overestimate (% from GT counts)')\\nplot_logs(logs['train_difference'], logs['val_difference'], f'Difference (% from GT counts)')\\n\""
      ]
     },
     "execution_count": 12,
     "metadata": {},
     "output_type": "execute_result"
    }
   ],
   "source": [
    "write_json(logs, config.LOGS_FILENAME)\n",
    "logs = read_json(config.LOGS_FILENAME)\n",
    "\n",
    "print(f'min val_loss: {np.min(logs[\"val_loss\"]):.4f}, epoch: {1 + np.argmin(logs[\"val_loss\"])}')\n",
    "\n",
    "plot_logs(logs['train_loss'], logs['val_loss'], f'{config.LOSS_NAME} loss (density maps)')\n",
    "'''\n",
    "plot_logs(logs['train_mae'], logs['val_mae'], f'Mean_absolute_error (counts)')\n",
    "plot_logs(logs['train_rmse'], logs['val_rmse'], f'RMSE (counts)')\n",
    "plot_logs(logs['train_underestimate'], logs['val_underestimate'], f'Underestimate (% from GT counts)')\n",
    "plot_logs(logs['train_overestimate'], logs['val_overestimate'], f'Overestimate (% from GT counts)')\n",
    "plot_logs(logs['train_difference'], logs['val_difference'], f'Difference (% from GT counts)')\n",
    "'''"
   ]
  }
 ],
 "metadata": {
  "kernelspec": {
   "display_name": "Python 3",
   "language": "python",
   "name": "python3"
  },
  "language_info": {
   "codemirror_mode": {
    "name": "ipython",
    "version": 3
   },
   "file_extension": ".py",
   "mimetype": "text/x-python",
   "name": "python",
   "nbconvert_exporter": "python",
   "pygments_lexer": "ipython3",
   "version": "3.6.7"
  }
 },
 "nbformat": 4,
 "nbformat_minor": 2
}
