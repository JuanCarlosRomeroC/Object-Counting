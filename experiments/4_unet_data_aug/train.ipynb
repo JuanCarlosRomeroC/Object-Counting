{
 "cells": [
  {
   "cell_type": "markdown",
   "metadata": {},
   "source": [
    "## 1. Setup"
   ]
  },
  {
   "cell_type": "code",
   "execution_count": 1,
   "metadata": {},
   "outputs": [],
   "source": [
    "import sys\n",
    "sys.path.append('../..')"
   ]
  },
  {
   "cell_type": "code",
   "execution_count": 2,
   "metadata": {},
   "outputs": [
    {
     "name": "stderr",
     "output_type": "stream",
     "text": [
      "Using TensorFlow backend.\n"
     ]
    }
   ],
   "source": [
    "import config\n",
    "import matplotlib.pyplot as plt\n",
    "import numpy as np\n",
    "import os\n",
    "import warnings\n",
    "\n",
    "from keras.callbacks import ModelCheckpoint, Callback, TensorBoard\n",
    "from neural_networks.unet import UNet\n",
    "from neural_networks.keras_utils import EvalMetricsCallback\n",
    "from utils.data.data_augmentation import augment16_from_dir_and_save\n",
    "from utils.data.data_generator import DataGenerator\n",
    "from utils.data.data_ops import move_val_split_to_train\n",
    "from utils.data.data_ops import create_val_split_from_train\n",
    "from utils.input_output.io import read_json, write_json\n",
    "from utils.visualization.vis import plot_logs"
   ]
  },
  {
   "cell_type": "code",
   "execution_count": 3,
   "metadata": {},
   "outputs": [],
   "source": [
    "%matplotlib inline\n",
    "%load_ext autoreload\n",
    "%autoreload 2\n",
    "\n",
    "warnings.filterwarnings('ignore')"
   ]
  },
  {
   "cell_type": "markdown",
   "metadata": {},
   "source": [
    "## 2. Load the dataset"
   ]
  },
  {
   "cell_type": "markdown",
   "metadata": {},
   "source": [
    "#### Create validation split from the initial training data"
   ]
  },
  {
   "cell_type": "code",
   "execution_count": 4,
   "metadata": {},
   "outputs": [
    {
     "data": {
      "text/plain": [
       "'\\nmove_val_split_to_train(config.VAL_PATH, config.TRAIN_PATH)\\ncreate_val_split_from_train(config.TRAIN_PATH, config.VAL_PATH, config.VAL_SIZE, config.RAND_SEED)\\n'"
      ]
     },
     "execution_count": 4,
     "metadata": {},
     "output_type": "execute_result"
    }
   ],
   "source": [
    "'''\n",
    "move_val_split_to_train(config.VAL_PATH, config.TRAIN_PATH)\n",
    "create_val_split_from_train(config.TRAIN_PATH, config.VAL_PATH, config.VAL_SIZE, config.RAND_SEED)\n",
    "'''"
   ]
  },
  {
   "cell_type": "markdown",
   "metadata": {},
   "source": [
    "#### Data augmentation (train/val split)"
   ]
  },
  {
   "cell_type": "code",
   "execution_count": 5,
   "metadata": {},
   "outputs": [
    {
     "data": {
      "text/plain": [
       "'\\naugment16_from_dir_and_save(in_path=config.TRAIN_PATH,\\n                            save_path=config.TRAIN_PATH,\\n                            rseed=config.RAND_SEED)\\n\\naugment16_from_dir_and_save(in_path=config.VAL_PATH,\\n                            save_path=config.VAL_PATH,\\n                            rseed=config.RAND_SEED + 1)\\n'"
      ]
     },
     "execution_count": 5,
     "metadata": {},
     "output_type": "execute_result"
    }
   ],
   "source": [
    "'''\n",
    "augment16_from_dir_and_save(in_path=config.TRAIN_PATH,\n",
    "                            save_path=config.TRAIN_PATH,\n",
    "                            rseed=config.RAND_SEED)\n",
    "\n",
    "augment16_from_dir_and_save(in_path=config.VAL_PATH,\n",
    "                            save_path=config.VAL_PATH,\n",
    "                            rseed=config.RAND_SEED + 1)\n",
    "'''"
   ]
  },
  {
   "cell_type": "markdown",
   "metadata": {},
   "source": [
    "#### Data generators"
   ]
  },
  {
   "cell_type": "code",
   "execution_count": 6,
   "metadata": {},
   "outputs": [],
   "source": [
    "train_params = {\n",
    "    'dim': config.PATCH_DIM,\n",
    "    'batch_size': config.BATCH_SIZE,\n",
    "    'patches_per_image': config.PATCHES_PER_IMAGE,\n",
    "    'density_map_multiplication_factor': config.DENSITY_MAP_MULTIPLICATION_FACTOR,\n",
    "    'shuffle': config.SHUFFLE,\n",
    "    'ignored_images': config.IGNORED_IMAGES,\n",
    "    'data_augmentation': True\n",
    "}\n",
    "\n",
    "val_params = {\n",
    "    'dim': config.IMG_DIM,\n",
    "    'batch_size': 1,\n",
    "    'patches_per_image': 1,\n",
    "    'density_map_multiplication_factor': config.DENSITY_MAP_MULTIPLICATION_FACTOR,\n",
    "    'shuffle': False,\n",
    "    'data_augmentation': True\n",
    "}\n",
    "\n",
    "eval_params = val_params.copy()"
   ]
  },
  {
   "cell_type": "code",
   "execution_count": 7,
   "metadata": {},
   "outputs": [],
   "source": [
    "train_generator = DataGenerator(config.DATASET_PATH, 'train', **train_params)\n",
    "val_generator = DataGenerator(config.DATASET_PATH, 'val', **val_params)\n",
    "\n",
    "### for eval\n",
    "train_generator_for_eval = DataGenerator(config.DATASET_PATH, 'train', **eval_params)\n",
    "val_generator_for_eval = DataGenerator(config.DATASET_PATH, 'val', **eval_params)"
   ]
  },
  {
   "cell_type": "markdown",
   "metadata": {},
   "source": [
    "## 3. Instantiate a UNet"
   ]
  },
  {
   "cell_type": "code",
   "execution_count": 8,
   "metadata": {
    "scrolled": false
   },
   "outputs": [],
   "source": [
    "model = UNet(loss_name=config.LOSS_NAME, learning_rate=config.LEARNING_RATE)"
   ]
  },
  {
   "cell_type": "markdown",
   "metadata": {},
   "source": [
    "## 4. Train the model"
   ]
  },
  {
   "cell_type": "code",
   "execution_count": 9,
   "metadata": {},
   "outputs": [],
   "source": [
    "!rm -rf $config.CHECKPOINTS_PATH\n",
    "!rm -rf $config.LOGS_PATH\n",
    "os.makedirs(config.CHECKPOINTS_PATH)\n",
    "os.makedirs(config.LOGS_PATH)"
   ]
  },
  {
   "cell_type": "code",
   "execution_count": 10,
   "metadata": {
    "scrolled": false
   },
   "outputs": [
    {
     "name": "stdout",
     "output_type": "stream",
     "text": [
      "Epoch 1/10\n",
      "14400/14400 [==============================] - 11012s 765ms/step - loss: 0.0713 - val_loss: 0.0472\n",
      "Epoch 2/10\n",
      "14400/14400 [==============================] - 10987s 763ms/step - loss: 0.0318 - val_loss: 0.0399\n",
      "Epoch 3/10\n",
      "14400/14400 [==============================] - 11005s 764ms/step - loss: 0.0239 - val_loss: 0.0310\n",
      "Epoch 4/10\n",
      "14400/14400 [==============================] - 11022s 765ms/step - loss: 0.0201 - val_loss: 0.0281\n",
      "Epoch 5/10\n",
      "14400/14400 [==============================] - 11041s 767ms/step - loss: 0.0179 - val_loss: 0.0268\n",
      "Epoch 6/10\n",
      "14400/14400 [==============================] - 11073s 769ms/step - loss: 0.0163 - val_loss: 0.0261\n",
      "Epoch 7/10\n",
      "14400/14400 [==============================] - 11080s 769ms/step - loss: 0.0152 - val_loss: 0.0248\n",
      "Epoch 8/10\n",
      "14400/14400 [==============================] - 11074s 769ms/step - loss: 0.0143 - val_loss: 0.0240\n",
      "Epoch 9/10\n",
      "14400/14400 [==============================] - 11090s 770ms/step - loss: 0.0136 - val_loss: 0.0229\n",
      "Epoch 10/10\n",
      "14400/14400 [==============================] - 11104s 771ms/step - loss: 0.0130 - val_loss: 0.0229\n",
      "CPU times: user 2d 21h 16min 15s, sys: 16h 1min 4s, total: 3d 13h 17min 19s\n",
      "Wall time: 1d 6h 41min 42s\n"
     ]
    }
   ],
   "source": [
    "%%time\n",
    "'''\n",
    "eval_metrics_callback = EvalMetricsCallback(config.DENSITY_MAP_MULTIPLICATION_FACTOR,\n",
    "                                            train_generator_for_eval,\n",
    "                                            val_generator_for_eval)\n",
    "\n",
    "tensorboard_checkpoint = TensorBoard(log_dir=config.LOGS_PATH + 'tensorboard',\n",
    "                                     write_graph=False,\n",
    "                                     update_freq='batch')\n",
    "'''\n",
    "model_checkpoint = ModelCheckpoint(config.CHECKPOINT_FILENAME,\n",
    "                                   monitor='val_loss',\n",
    "                                   save_best_only=False)\n",
    "\n",
    "model_history = model.fit_generator(generator=train_generator,\n",
    "                                    validation_data=val_generator,\n",
    "                                    epochs=config.EPOCHS,\n",
    "                                    callbacks=[model_checkpoint],\n",
    "                                    verbose=1)"
   ]
  },
  {
   "cell_type": "markdown",
   "metadata": {},
   "source": [
    "#### Save and load train stats/logs/history"
   ]
  },
  {
   "cell_type": "code",
   "execution_count": 11,
   "metadata": {},
   "outputs": [],
   "source": [
    "logs = model.history.history.copy()\n",
    "\n",
    "logs['train_loss'] = logs.pop('loss')\n",
    "logs['train_size'] = train_generator.get_size()\n",
    "logs['val_size'] = val_generator.get_size()\n",
    "logs['rand_seed'] = config.RAND_SEED\n",
    "logs['shuffle'] = config.SHUFFLE\n",
    "logs['loss_name'] = config.LOSS_NAME\n",
    "logs['img_dim'] = config.IMG_DIM\n",
    "logs['patch_dim'] = config.PATCH_DIM\n",
    "logs['patches_per_image'] = config.PATCHES_PER_IMAGE\n",
    "logs['density_map_sigma'] = config.GT_SIGMA\n",
    "logs['density_map_multiplication_factor'] = config.DENSITY_MAP_MULTIPLICATION_FACTOR\n",
    "logs['sub_experiment_name'] = config.SUB_EXPERIMENT_NAME\n",
    "logs['architecture'] = config.ARCHITECTURE_NAME"
   ]
  },
  {
   "cell_type": "code",
   "execution_count": 12,
   "metadata": {
    "scrolled": false
   },
   "outputs": [
    {
     "name": "stdout",
     "output_type": "stream",
     "text": [
      "min val_loss: 0.0229, epoch: 10\n"
     ]
    },
    {
     "data": {
      "image/png": "[encoded data removed]",
      "text/plain": [
       "<Figure size 1080x360 with 2 Axes>"
      ]
     },
     "metadata": {
      "needs_background": "light"
     },
     "output_type": "display_data"
    },
    {
     "data": {
      "text/plain": [
       "\"\\nplot_logs(logs['train_mae'], logs['val_mae'], f'Mean_absolute_error (counts)')\\nplot_logs(logs['train_rmse'], logs['val_rmse'], f'RMSE (counts)')\\nplot_logs(logs['train_underestimate'], logs['val_underestimate'], f'Underestimate (% from GT counts)')\\nplot_logs(logs['train_overestimate'], logs['val_overestimate'], f'Overestimate (% from GT counts)')\\nplot_logs(logs['train_difference'], logs['val_difference'], f'Difference (% from GT counts)')\\n\""
      ]
     },
     "execution_count": 12,
     "metadata": {},
     "output_type": "execute_result"
    }
   ],
   "source": [
    "write_json(logs, config.LOGS_FILENAME)\n",
    "logs = read_json(config.LOGS_FILENAME)\n",
    "\n",
    "print(f'min val_loss: {np.min(logs[\"val_loss\"]):.4f}, epoch: {1 + np.argmin(logs[\"val_loss\"])}')\n",
    "\n",
    "plot_logs(logs['train_loss'], logs['val_loss'], f'{config.LOSS_NAME} loss (density maps)')\n",
    "'''\n",
    "plot_logs(logs['train_mae'], logs['val_mae'], f'Mean_absolute_error (counts)')\n",
    "plot_logs(logs['train_rmse'], logs['val_rmse'], f'RMSE (counts)')\n",
    "plot_logs(logs['train_underestimate'], logs['val_underestimate'], f'Underestimate (% from GT counts)')\n",
    "plot_logs(logs['train_overestimate'], logs['val_overestimate'], f'Overestimate (% from GT counts)')\n",
    "plot_logs(logs['train_difference'], logs['val_difference'], f'Difference (% from GT counts)')\n",
    "'''"
   ]
  }
 ],
 "metadata": {
  "kernelspec": {
   "display_name": "Python 3",
   "language": "python",
   "name": "python3"
  },
  "language_info": {
   "codemirror_mode": {
    "name": "ipython",
    "version": 3
   },
   "file_extension": ".py",
   "mimetype": "text/x-python",
   "name": "python",
   "nbconvert_exporter": "python",
   "pygments_lexer": "ipython3",
   "version": "3.6.7"
  }
 },
 "nbformat": 4,
 "nbformat_minor": 2
}
