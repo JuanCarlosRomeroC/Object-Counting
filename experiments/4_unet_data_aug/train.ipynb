{
 "cells": [
  {
   "cell_type": "markdown",
   "metadata": {},
   "source": [
    "## 1. Setup"
   ]
  },
  {
   "cell_type": "code",
   "execution_count": 1,
   "metadata": {},
   "outputs": [],
   "source": [
    "import sys\n",
    "sys.path.append('../..')"
   ]
  },
  {
   "cell_type": "code",
   "execution_count": 2,
   "metadata": {},
   "outputs": [
    {
     "name": "stderr",
     "output_type": "stream",
     "text": [
      "Using TensorFlow backend.\n"
     ]
    }
   ],
   "source": [
    "import config\n",
    "import matplotlib.pyplot as plt\n",
    "import numpy as np\n",
    "import os\n",
    "import warnings\n",
    "\n",
    "from keras.callbacks import ModelCheckpoint, Callback, TensorBoard\n",
    "from neural_networks.unet import UNet\n",
    "from neural_networks.keras_utils import EvalMetricsCallback\n",
    "from utils.data.data_augmentation import augment16_from_dir_and_save\n",
    "from utils.data.data_generator import DataGenerator\n",
    "from utils.data.data_ops import move_val_split_to_train\n",
    "from utils.data.data_ops import create_val_split_from_train\n",
    "from utils.input_output.io import read_json, write_json\n",
    "from utils.visualization.vis import plot_logs"
   ]
  },
  {
   "cell_type": "code",
   "execution_count": 3,
   "metadata": {},
   "outputs": [],
   "source": [
    "%matplotlib inline\n",
    "%load_ext autoreload\n",
    "%autoreload 2\n",
    "\n",
    "warnings.filterwarnings('ignore')"
   ]
  },
  {
   "cell_type": "markdown",
   "metadata": {},
   "source": [
    "## 2. Load the dataset"
   ]
  },
  {
   "cell_type": "markdown",
   "metadata": {},
   "source": [
    "#### Create validation split from the initial training data"
   ]
  },
  {
   "cell_type": "code",
   "execution_count": 4,
   "metadata": {},
   "outputs": [
    {
     "data": {
      "text/plain": [
       "'\\nmove_val_split_to_train(config.VAL_PATH, config.TRAIN_PATH)\\ncreate_val_split_from_train(config.TRAIN_PATH, config.VAL_PATH, config.VAL_SIZE, config.RAND_SEED)\\n'"
      ]
     },
     "execution_count": 4,
     "metadata": {},
     "output_type": "execute_result"
    }
   ],
   "source": [
    "'''\n",
    "move_val_split_to_train(config.VAL_PATH, config.TRAIN_PATH)\n",
    "create_val_split_from_train(config.TRAIN_PATH, config.VAL_PATH, config.VAL_SIZE, config.RAND_SEED)\n",
    "'''"
   ]
  },
  {
   "cell_type": "markdown",
   "metadata": {},
   "source": [
    "#### Data augmentation (train/val split)"
   ]
  },
  {
   "cell_type": "code",
   "execution_count": 5,
   "metadata": {},
   "outputs": [
    {
     "data": {
      "text/plain": [
       "'\\naugment16_from_dir_and_save(in_path=config.TRAIN_PATH,\\n                            save_path=config.TRAIN_PATH,\\n                            rseed=config.RAND_SEED)\\n\\naugment16_from_dir_and_save(in_path=config.VAL_PATH,\\n                            save_path=config.VAL_PATH,\\n                            rseed=config.RAND_SEED + 1)\\n'"
      ]
     },
     "execution_count": 5,
     "metadata": {},
     "output_type": "execute_result"
    }
   ],
   "source": [
    "'''\n",
    "augment16_from_dir_and_save(in_path=config.TRAIN_PATH,\n",
    "                            save_path=config.TRAIN_PATH,\n",
    "                            rseed=config.RAND_SEED)\n",
    "\n",
    "augment16_from_dir_and_save(in_path=config.VAL_PATH,\n",
    "                            save_path=config.VAL_PATH,\n",
    "                            rseed=config.RAND_SEED + 1)\n",
    "'''"
   ]
  },
  {
   "cell_type": "markdown",
   "metadata": {},
   "source": [
    "#### Data generators"
   ]
  },
  {
   "cell_type": "code",
   "execution_count": 6,
   "metadata": {},
   "outputs": [],
   "source": [
    "train_params = {\n",
    "    'dim': config.PATCH_DIM,\n",
    "    'batch_size': config.BATCH_SIZE,\n",
    "    'patches_per_image': config.PATCHES_PER_IMAGE,\n",
    "    'density_map_multiplication_factor': config.DENSITY_MAP_MULTIPLICATION_FACTOR,\n",
    "    'shuffle': config.SHUFFLE,\n",
    "    'ignored_images': config.IGNORED_IMAGES,\n",
    "    'data_augmentation': True\n",
    "}\n",
    "\n",
    "val_params = {\n",
    "    'dim': config.IMG_DIM,\n",
    "    'batch_size': 1,\n",
    "    'patches_per_image': 1,\n",
    "    'density_map_multiplication_factor': config.DENSITY_MAP_MULTIPLICATION_FACTOR,\n",
    "    'shuffle': False,\n",
    "    'data_augmentation': True\n",
    "}\n",
    "\n",
    "eval_params = val_params.copy()"
   ]
  },
  {
   "cell_type": "code",
   "execution_count": 7,
   "metadata": {},
   "outputs": [],
   "source": [
    "train_generator = DataGenerator(config.DATASET_PATH, 'train', **train_params)\n",
    "val_generator = DataGenerator(config.DATASET_PATH, 'val', **val_params)\n",
    "\n",
    "### for eval\n",
    "train_generator_for_eval = DataGenerator(config.DATASET_PATH, 'train', **eval_params)\n",
    "val_generator_for_eval = DataGenerator(config.DATASET_PATH, 'val', **eval_params)"
   ]
  },
  {
   "cell_type": "markdown",
   "metadata": {},
   "source": [
    "## 3. Instantiate a UNet"
   ]
  },
  {
   "cell_type": "code",
   "execution_count": 8,
   "metadata": {
    "scrolled": false
   },
   "outputs": [],
   "source": [
    "model = UNet(loss_name=config.LOSS_NAME, learning_rate=config.LEARNING_RATE)"
   ]
  },
  {
   "cell_type": "markdown",
   "metadata": {},
   "source": [
    "## 4. Train the model"
   ]
  },
  {
   "cell_type": "code",
   "execution_count": 9,
   "metadata": {},
   "outputs": [],
   "source": [
    "!rm -rf $config.CHECKPOINTS_PATH\n",
    "!rm -rf $config.LOGS_PATH\n",
    "os.makedirs(config.CHECKPOINTS_PATH)\n",
    "os.makedirs(config.LOGS_PATH)"
   ]
  },
  {
   "cell_type": "code",
   "execution_count": 10,
   "metadata": {
    "scrolled": false
   },
   "outputs": [
    {
     "name": "stdout",
     "output_type": "stream",
     "text": [
      "Epoch 1/50\n",
      "1276/1276 [==============================] - 950s 744ms/step - loss: 0.1402 - val_loss: 0.1941\n",
      "Epoch 2/50\n",
      "1276/1276 [==============================] - 948s 743ms/step - loss: 0.1289 - val_loss: 0.1738\n",
      "Epoch 3/50\n",
      "1276/1276 [==============================] - 948s 743ms/step - loss: 0.1182 - val_loss: 0.1495\n",
      "Epoch 4/50\n",
      "1276/1276 [==============================] - 943s 739ms/step - loss: 0.1095 - val_loss: 0.1511\n",
      "Epoch 5/50\n",
      "1276/1276 [==============================] - 954s 748ms/step - loss: 0.1015 - val_loss: 0.1442\n",
      "Epoch 6/50\n",
      "1276/1276 [==============================] - 953s 747ms/step - loss: 0.1000 - val_loss: 0.1342\n",
      "Epoch 7/50\n",
      "1276/1276 [==============================] - 952s 746ms/step - loss: 0.0948 - val_loss: 0.1230\n",
      "Epoch 8/50\n",
      "1276/1276 [==============================] - 953s 747ms/step - loss: 0.0886 - val_loss: 0.1267\n",
      "Epoch 9/50\n",
      "1276/1276 [==============================] - 955s 748ms/step - loss: 0.0868 - val_loss: 0.1564\n",
      "Epoch 10/50\n",
      "1276/1276 [==============================] - 955s 748ms/step - loss: 0.0988 - val_loss: 0.1287\n",
      "Epoch 11/50\n",
      "1276/1276 [==============================] - 956s 749ms/step - loss: 0.0848 - val_loss: 0.1184\n",
      "Epoch 12/50\n",
      "1276/1276 [==============================] - 959s 752ms/step - loss: 0.0839 - val_loss: 0.1271\n",
      "Epoch 13/50\n",
      "1276/1276 [==============================] - 963s 755ms/step - loss: 0.0799 - val_loss: 0.1124\n",
      "Epoch 14/50\n",
      "1276/1276 [==============================] - 959s 751ms/step - loss: 0.0789 - val_loss: 0.1103\n",
      "Epoch 15/50\n",
      "1276/1276 [==============================] - 965s 756ms/step - loss: 0.0761 - val_loss: 0.1032\n",
      "Epoch 16/50\n",
      "1276/1276 [==============================] - 962s 754ms/step - loss: 0.0792 - val_loss: 0.1042\n",
      "Epoch 17/50\n",
      "1276/1276 [==============================] - 968s 759ms/step - loss: 0.0740 - val_loss: 0.1079\n",
      "Epoch 18/50\n",
      "1276/1276 [==============================] - 963s 755ms/step - loss: 0.0724 - val_loss: 0.1028\n",
      "Epoch 19/50\n",
      "1276/1276 [==============================] - 964s 756ms/step - loss: 0.0715 - val_loss: 0.1152\n",
      "Epoch 20/50\n",
      "1276/1276 [==============================] - 963s 755ms/step - loss: 0.0700 - val_loss: 0.1022\n",
      "Epoch 21/50\n",
      "1276/1276 [==============================] - 968s 758ms/step - loss: 0.0728 - val_loss: 0.0993\n",
      "Epoch 22/50\n",
      "1276/1276 [==============================] - 964s 756ms/step - loss: 0.0676 - val_loss: 0.1010\n",
      "Epoch 23/50\n",
      "1276/1276 [==============================] - 964s 755ms/step - loss: 0.0679 - val_loss: 0.0970\n",
      "Epoch 24/50\n",
      "1276/1276 [==============================] - 965s 756ms/step - loss: 0.0656 - val_loss: 0.0942\n",
      "Epoch 25/50\n",
      "1276/1276 [==============================] - 966s 757ms/step - loss: 0.0662 - val_loss: 0.1005\n",
      "Epoch 26/50\n",
      "1276/1276 [==============================] - 970s 760ms/step - loss: 0.0626 - val_loss: 0.0944\n",
      "Epoch 27/50\n",
      "1276/1276 [==============================] - 965s 757ms/step - loss: 0.0630 - val_loss: 0.0929\n",
      "Epoch 28/50\n",
      "1276/1276 [==============================] - 963s 755ms/step - loss: 0.0642 - val_loss: 0.1113\n",
      "Epoch 29/50\n",
      "1276/1276 [==============================] - 964s 755ms/step - loss: 0.0603 - val_loss: 0.0895\n",
      "Epoch 30/50\n",
      "1276/1276 [==============================] - 970s 760ms/step - loss: 0.0607 - val_loss: 0.0904\n",
      "Epoch 31/50\n",
      "1276/1276 [==============================] - 966s 757ms/step - loss: 0.0588 - val_loss: 0.0918\n",
      "Epoch 32/50\n",
      "1276/1276 [==============================] - 959s 751ms/step - loss: 0.0567 - val_loss: 0.0886\n",
      "Epoch 33/50\n",
      "1276/1276 [==============================] - 963s 755ms/step - loss: 0.0605 - val_loss: 0.0981\n",
      "Epoch 34/50\n",
      "1276/1276 [==============================] - 965s 756ms/step - loss: 0.0584 - val_loss: 0.0953\n",
      "Epoch 35/50\n",
      "1276/1276 [==============================] - 961s 753ms/step - loss: 0.0552 - val_loss: 0.0864\n",
      "Epoch 36/50\n",
      "1276/1276 [==============================] - 961s 753ms/step - loss: 0.0538 - val_loss: 0.0991\n",
      "Epoch 37/50\n",
      "1276/1276 [==============================] - 967s 757ms/step - loss: 0.0529 - val_loss: 0.0865\n",
      "Epoch 38/50\n",
      "1276/1276 [==============================] - 965s 756ms/step - loss: 0.0550 - val_loss: 0.0925\n",
      "Epoch 39/50\n",
      "1276/1276 [==============================] - 966s 757ms/step - loss: 0.0524 - val_loss: 0.0848\n",
      "Epoch 40/50\n",
      "1276/1276 [==============================] - 960s 752ms/step - loss: 0.0524 - val_loss: 0.0880\n",
      "Epoch 41/50\n",
      "1276/1276 [==============================] - 961s 753ms/step - loss: 0.0518 - val_loss: 0.0850\n",
      "Epoch 42/50\n",
      "1276/1276 [==============================] - 960s 752ms/step - loss: 0.0511 - val_loss: 0.0839\n",
      "Epoch 43/50\n",
      "1276/1276 [==============================] - 969s 759ms/step - loss: 0.0492 - val_loss: 0.0887\n",
      "Epoch 44/50\n",
      "1276/1276 [==============================] - 964s 755ms/step - loss: 0.0502 - val_loss: 0.0854\n",
      "Epoch 45/50\n",
      "1276/1276 [==============================] - 963s 755ms/step - loss: 0.0510 - val_loss: 0.0847\n",
      "Epoch 46/50\n",
      "1276/1276 [==============================] - 961s 753ms/step - loss: 0.0477 - val_loss: 0.0859\n",
      "Epoch 47/50\n",
      "1276/1276 [==============================] - 964s 756ms/step - loss: 0.0476 - val_loss: 0.0821\n",
      "Epoch 48/50\n",
      "1276/1276 [==============================] - 964s 755ms/step - loss: 0.0472 - val_loss: 0.0847\n",
      "Epoch 49/50\n",
      "1276/1276 [==============================] - 963s 754ms/step - loss: 0.0455 - val_loss: 0.0870\n",
      "Epoch 50/50\n",
      "1276/1276 [==============================] - 963s 754ms/step - loss: 0.0468 - val_loss: 0.0820\n",
      "CPU times: user 1d 5h 6min 17s, sys: 7h 18min 11s, total: 1d 12h 24min 29s\n",
      "Wall time: 13h 21min 49s\n"
     ]
    }
   ],
   "source": [
    "%%time\n",
    "'''\n",
    "eval_metrics_callback = EvalMetricsCallback(config.DENSITY_MAP_MULTIPLICATION_FACTOR,\n",
    "                                            train_generator_for_eval,\n",
    "                                            val_generator_for_eval)\n",
    "\n",
    "tensorboard_checkpoint = TensorBoard(log_dir=config.LOGS_PATH + 'tensorboard',\n",
    "                                     write_graph=False,\n",
    "                                     update_freq='batch')\n",
    "'''\n",
    "model_checkpoint = ModelCheckpoint(config.CHECKPOINT_FILENAME,\n",
    "                                   monitor='val_loss',\n",
    "                                   save_best_only=False)\n",
    "\n",
    "model_history = model.fit_generator(generator=train_generator,\n",
    "                                    validation_data=val_generator,\n",
    "                                    epochs=config.EPOCHS,\n",
    "                                    callbacks=[model_checkpoint],\n",
    "                                    verbose=1)"
   ]
  },
  {
   "cell_type": "markdown",
   "metadata": {},
   "source": [
    "#### Save and load train stats/logs/history"
   ]
  },
  {
   "cell_type": "code",
   "execution_count": 11,
   "metadata": {},
   "outputs": [],
   "source": [
    "logs = model.history.history.copy()\n",
    "\n",
    "logs['train_loss'] = logs.pop('loss')\n",
    "logs['train_size'] = train_generator.get_size()\n",
    "logs['val_size'] = val_generator.get_size()\n",
    "logs['rand_seed'] = config.RAND_SEED\n",
    "logs['shuffle'] = config.SHUFFLE\n",
    "logs['loss_name'] = config.LOSS_NAME\n",
    "logs['img_dim'] = config.IMG_DIM\n",
    "logs['patch_dim'] = config.PATCH_DIM\n",
    "logs['patches_per_image'] = config.PATCHES_PER_IMAGE\n",
    "logs['density_map_sigma'] = config.GT_SIGMA\n",
    "logs['density_map_multiplication_factor'] = config.DENSITY_MAP_MULTIPLICATION_FACTOR\n",
    "logs['sub_experiment_name'] = config.SUB_EXPERIMENT_NAME\n",
    "logs['architecture'] = config.ARCHITECTURE_NAME"
   ]
  },
  {
   "cell_type": "code",
   "execution_count": 12,
   "metadata": {
    "scrolled": false
   },
   "outputs": [
    {
     "name": "stdout",
     "output_type": "stream",
     "text": [
      "min val_loss: 0.0820, epoch: 50\n"
     ]
    },
    {
     "data": {
      "image/png": "[encoded data removed]",
      "text/plain": [
       "<Figure size 1080x360 with 2 Axes>"
      ]
     },
     "metadata": {
      "needs_background": "light"
     },
     "output_type": "display_data"
    },
    {
     "data": {
      "text/plain": [
       "\"\\nplot_logs(logs['train_mae'], logs['val_mae'], f'Mean_absolute_error (counts)')\\nplot_logs(logs['train_rmse'], logs['val_rmse'], f'RMSE (counts)')\\nplot_logs(logs['train_underestimate'], logs['val_underestimate'], f'Underestimate (% from GT counts)')\\nplot_logs(logs['train_overestimate'], logs['val_overestimate'], f'Overestimate (% from GT counts)')\\nplot_logs(logs['train_difference'], logs['val_difference'], f'Difference (% from GT counts)')\\n\""
      ]
     },
     "execution_count": 12,
     "metadata": {},
     "output_type": "execute_result"
    }
   ],
   "source": [
    "write_json(logs, config.LOGS_FILENAME)\n",
    "logs = read_json(config.LOGS_FILENAME)\n",
    "\n",
    "print(f'min val_loss: {np.min(logs[\"val_loss\"]):.4f}, epoch: {1 + np.argmin(logs[\"val_loss\"])}')\n",
    "\n",
    "plot_logs(logs['train_loss'], logs['val_loss'], f'{config.LOSS_NAME} loss (density maps)')\n",
    "'''\n",
    "plot_logs(logs['train_mae'], logs['val_mae'], f'Mean_absolute_error (counts)')\n",
    "plot_logs(logs['train_rmse'], logs['val_rmse'], f'RMSE (counts)')\n",
    "plot_logs(logs['train_underestimate'], logs['val_underestimate'], f'Underestimate (% from GT counts)')\n",
    "plot_logs(logs['train_overestimate'], logs['val_overestimate'], f'Overestimate (% from GT counts)')\n",
    "plot_logs(logs['train_difference'], logs['val_difference'], f'Difference (% from GT counts)')\n",
    "'''"
   ]
  }
 ],
 "metadata": {
  "kernelspec": {
   "display_name": "Python 3",
   "language": "python",
   "name": "python3"
  },
  "language_info": {
   "codemirror_mode": {
    "name": "ipython",
    "version": 3
   },
   "file_extension": ".py",
   "mimetype": "text/x-python",
   "name": "python",
   "nbconvert_exporter": "python",
   "pygments_lexer": "ipython3",
   "version": "3.6.7"
  }
 },
 "nbformat": 4,
 "nbformat_minor": 2
}
