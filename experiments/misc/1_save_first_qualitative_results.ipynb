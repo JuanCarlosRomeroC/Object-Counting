{
 "cells": [
  {
   "cell_type": "markdown",
   "metadata": {},
   "source": [
    "## 1. Setup"
   ]
  },
  {
   "cell_type": "code",
   "execution_count": 1,
   "metadata": {},
   "outputs": [],
   "source": [
    "import sys\n",
    "sys.path.append('../..')"
   ]
  },
  {
   "cell_type": "code",
   "execution_count": 2,
   "metadata": {},
   "outputs": [
    {
     "name": "stderr",
     "output_type": "stream",
     "text": [
      "Using TensorFlow backend.\n"
     ]
    }
   ],
   "source": [
    "import matplotlib.pyplot as plt\n",
    "import numpy as np\n",
    "import os\n",
    "import re\n",
    "import shutil\n",
    "import warnings\n",
    "\n",
    "from keras import Model\n",
    "from neural_networks.fcrn import FCRN_A\n",
    "from neural_networks.unet import UNet\n",
    "from utils.data.data_generator import DataGenerator\n",
    "from pprint import pprint"
   ]
  },
  {
   "cell_type": "code",
   "execution_count": 3,
   "metadata": {},
   "outputs": [],
   "source": [
    "%matplotlib inline\n",
    "%load_ext autoreload\n",
    "%autoreload 2\n",
    "\n",
    "warnings.filterwarnings('ignore')"
   ]
  },
  {
   "cell_type": "markdown",
   "metadata": {},
   "source": [
    "## 2. Experiment parameters"
   ]
  },
  {
   "cell_type": "code",
   "execution_count": 4,
   "metadata": {},
   "outputs": [],
   "source": [
    "DATASET_NAME = 'vgg_cells'\n",
    "DATASET_PATH = f'../../datasets/{DATASET_NAME}'\n",
    "IMG_DIM = None\n",
    "D_MAP_MULT_FACT = None\n",
    "LOSS_FUNCTIONS = ['logcosh']\n",
    "FCRN_A_EXP_DIR_NAMES = []\n",
    "UNET_EXP_DIR_NAMES = []\n",
    "\n",
    "fontsize = 16\n",
    "if DATASET_NAME.lower() == 'vgg_cells':\n",
    "    # misc\n",
    "    IMG_DIM = (256, 256, 3)\n",
    "    D_MAP_MULT_FACT = 100.\n",
    "    \n",
    "    # plots\n",
    "    figsize=(25, 5)\n",
    "    fraction = 0.045\n",
    "    pad = 0.015\n",
    "    \n",
    "    # checkpoints\n",
    "    FCRN_A_CHECKPOINT_NAME = f'../1_fcrn_a/vgg_cells/n_64_sigma_5_randseed_644_loss_mse_full_img'\\\n",
    "                             f'/checkpoints/best_model.hdf5'\n",
    "    UNET_CHECKPOINT_NAME = f'../2_unet/vgg_cells/n_64_sigma_5_randseed_644_loss_mse_full_img'\\\n",
    "                           f'/checkpoints/best_model.hdf5'\n",
    "\n",
    "elif DATASET_NAME.lower() == 'carpk':\n",
    "    # misc\n",
    "    IMG_DIM = (720, 1280, 3)\n",
    "    D_MAP_MULT_FACT = 2000.\n",
    "    \n",
    "    # plots\n",
    "    figsize=(25, 7)\n",
    "    fraction = 0.027\n",
    "    pad = 0.015\n",
    "    \n",
    "    # checkpoints\n",
    "    FCRN_A_CHECKPOINT_NAME = f'../1_fcrn_a/carpk/sigma_10_loss_mse_full_img'\\\n",
    "                             f'/checkpoints/best_model.hdf5'\n",
    "    UNET_CHECKPOINT_NAME = f'../2_unet/carpk/sigma_10_loss_mse_full_img_epochs_15'\\\n",
    "                           f'/checkpoints/best_model.hdf5'\n",
    "    \n",
    "elif DATASET_NAME.lower() == 'shanghai_tech/part_b':\n",
    "    # misc\n",
    "    IMG_DIM = (768, 1024, 3)\n",
    "    D_MAP_MULT_FACT = 2000.\n",
    "    \n",
    "    # plots\n",
    "    figsize=(25, 7)\n",
    "    fraction = 0.0355\n",
    "    pad = 0.015\n",
    "    \n",
    "    # checkpoints\n",
    "    FCRN_A_CHECKPOINT_NAME = f'../1_fcrn_a/shanghai_tech/part_b/sigma_10_loss_mse_full_img'\\\n",
    "                             f'/checkpoints/best_model.hdf5'    \n",
    "    UNET_CHECKPOINT_NAME = f'../2_unet/shanghai_tech/part_b/sigma_10_loss_mse_full_img_epochs_50'\\\n",
    "                           f'/checkpoints/best_model.hdf5'"
   ]
  },
  {
   "cell_type": "code",
   "execution_count": 5,
   "metadata": {},
   "outputs": [],
   "source": [
    "params = {\n",
    "    'dim': IMG_DIM,\n",
    "    'batch_size': 1,\n",
    "    'patches_per_image': 1,\n",
    "    'density_map_multiplication_factor': D_MAP_MULT_FACT,\n",
    "    'shuffle': False\n",
    "}"
   ]
  },
  {
   "cell_type": "markdown",
   "metadata": {},
   "source": [
    "## 3. Predict and save results"
   ]
  },
  {
   "cell_type": "code",
   "execution_count": 6,
   "metadata": {
    "scrolled": false
   },
   "outputs": [],
   "source": [
    "gt_counts = []\n",
    "fcrn_a_pred_counts = []\n",
    "unet_pred_counts = []\n",
    "\n",
    "# data splits\n",
    "test_generator = DataGenerator(DATASET_PATH, 'test', **params)\n",
    "\n",
    "# clean old dir for qualitative results\n",
    "results_path = f'1_fcrn_unet/{DATASET_NAME}/'\n",
    "shutil.rmtree(results_path, ignore_errors=True)\n",
    "os.makedirs(results_path)\n",
    "\n",
    "# predict and save\n",
    "fcrn_a = FCRN_A(pretrained_weights=FCRN_A_CHECKPOINT_NAME)\n",
    "unet = UNet(pretrained_weights=UNET_CHECKPOINT_NAME)\n",
    "\n",
    "for data_generator, split_name in zip([test_generator],\n",
    "                                      ['test']):\n",
    "    # prepare dirs for qualitative results\n",
    "    results_path_png_gt_asc = f'{results_path}/{split_name}/png_gt_asc'\n",
    "    os.makedirs(results_path_png_gt_asc)\n",
    "\n",
    "    for idx in range(data_generator.__len__()):\n",
    "        # input image & gt density map, batch_size=1\n",
    "        input_img, gt_density_map = data_generator.__getitem__(idx)\n",
    "        gt_density_map /= D_MAP_MULT_FACT\n",
    "\n",
    "        # predicted density map\n",
    "        fcrn_a_pred_density_map = (fcrn_a.predict(input_img) / D_MAP_MULT_FACT)[0]\n",
    "        unet_pred_density_map = (unet.predict(input_img) / D_MAP_MULT_FACT)[0]\n",
    "        \n",
    "        # gt & pred counts\n",
    "        gt_count = int(np.round(gt_density_map.sum()))\n",
    "        fcrn_a_pred_count = fcrn_a_pred_density_map.sum()\n",
    "        unet_pred_count = unet_pred_density_map.sum()\n",
    "        fcrn_a_pred_gt_diff = fcrn_a_pred_count - gt_count\n",
    "\n",
    "        gt_counts.append(gt_count)\n",
    "        fcrn_a_pred_counts.append(fcrn_a_pred_count)\n",
    "        unet_pred_counts.append(unet_pred_count)\n",
    "\n",
    "        error_type = 'match'\n",
    "        if fcrn_a_pred_count < gt_count:\n",
    "            error_type = 'underestimate'\n",
    "        elif fcrn_a_pred_count > gt_count:\n",
    "            error_type = 'overestimate'\n",
    "\n",
    "        img_name_png = data_generator.img_names[data_generator.indexes[idx]]\n",
    "        img_name = img_name_png.split('.')[0]\n",
    "        img_name_gt_asc = f'gt_{gt_count:3}_pred_{fcrn_a_pred_count:6.2f}_diff_gt_pred_{fcrn_a_pred_gt_diff:.2f}'\\\n",
    "                          f'_{img_name}'.replace(' ', '0')\n",
    "\n",
    "        # plots\n",
    "        vmin = min(gt_density_map.min(), min(fcrn_a_pred_density_map.min(),\n",
    "                                             unet_pred_density_map.min()))\n",
    "        vmax = max(gt_density_map.max(), min(fcrn_a_pred_density_map.max(),\n",
    "                                             unet_pred_density_map.max()))\n",
    "\n",
    "        fig = plt.figure(figsize=figsize)\n",
    "\n",
    "        plt.subplot(1, 4, 1)\n",
    "        plt.title('Input Image', fontsize=fontsize)\n",
    "        plt.imshow(input_img[0])\n",
    "        plt.colorbar(fraction=fraction, pad=pad)\n",
    "        plt.axis('off')\n",
    "\n",
    "        plt.subplot(1, 4, 2)\n",
    "        plt.title(f'Ground Truth\\n{gt_count}', fontsize=fontsize)\n",
    "        plt.imshow(gt_density_map.squeeze(), cmap='jet', vmin=vmin, vmax=vmax)\n",
    "        plt.colorbar(fraction=fraction, pad=pad)\n",
    "        plt.axis('off')\n",
    "\n",
    "        plt.subplot(1, 4, 3)\n",
    "        plt.title(f'FCRN-A Prediction\\n{fcrn_a_pred_count:.2f}', fontsize=fontsize)\n",
    "        plt.imshow(fcrn_a_pred_density_map.squeeze(), cmap='jet', vmin=vmin, vmax=vmax)\n",
    "        plt.colorbar(fraction=fraction, pad=pad)\n",
    "        plt.axis('off')\n",
    "\n",
    "        plt.subplot(1, 4, 4)\n",
    "        plt.title(f'U-Net-A Prediction\\n{unet_pred_count:.2f}', fontsize=fontsize)\n",
    "        plt.imshow(unet_pred_density_map.squeeze(), cmap='jet', vmin=vmin, vmax=vmax)\n",
    "        plt.colorbar(fraction=fraction, pad=pad)\n",
    "        plt.axis('off')\n",
    "        \n",
    "        plt.savefig(f'{results_path_png_gt_asc}/{img_name_gt_asc}.png')\n",
    "        plt.clf()\n",
    "        plt.close()"
   ]
  },
  {
   "cell_type": "markdown",
   "metadata": {},
   "source": [
    "## 4. Plot GT vs Prediction"
   ]
  },
  {
   "cell_type": "code",
   "execution_count": null,
   "metadata": {},
   "outputs": [],
   "source": [
    "print(gt_counts)\n",
    "print(fcrn_a_pred_counts)\n",
    "print(unet_pred_counts)"
   ]
  },
  {
   "cell_type": "code",
   "execution_count": 8,
   "metadata": {},
   "outputs": [
    {
     "name": "stdout",
     "output_type": "stream",
     "text": [
      "FCRN-A MAE: 4.997\n",
      "U-Net-A MAE: 3.099\n"
     ]
    }
   ],
   "source": [
    "def mae(gt, pred):\n",
    "    gt = np.asarray(gt)\n",
    "    pred = np.asarray(pred)\n",
    "    return np.mean(np.abs(gt - pred))\n",
    "\n",
    "print(f'FCRN-A MAE: {mae(gt_counts, fcrn_a_pred_counts):.3f}')\n",
    "print(f'U-Net-A MAE: {mae(gt_counts, unet_pred_counts):.3f}')"
   ]
  },
  {
   "cell_type": "code",
   "execution_count": 12,
   "metadata": {},
   "outputs": [
    {
     "data": {
      "image/png": "[encoded data removed]",
      "text/plain": [
       "<Figure size 504x360 with 1 Axes>"
      ]
     },
     "metadata": {
      "needs_background": "light"
     },
     "output_type": "display_data"
    }
   ],
   "source": [
    "x = 1 + np.arange(len(gt_counts))\n",
    "indices = np.argsort(gt_counts)\n",
    "plt.figure(figsize=(7, 5))\n",
    "if DATASET_NAME.lower() == 'vgg_cells':\n",
    "    plt.title('VGG Cells')\n",
    "elif DATASET_NAME.lower() == 'carpk':\n",
    "    plt.title('CARPK')\n",
    "elif DATASET_NAME.lower() == 'shanghai_tech/part_b':\n",
    "    plt.title('ShanghaiTech (Part B)')\n",
    "    \n",
    "plt.plot(x, np.asarray(fcrn_a_pred_counts)[indices], 'b.', label='FCRN-A prediction')\n",
    "plt.plot(x, np.asarray(unet_pred_counts)[indices], 'y.', label='U-Net-A prediction')\n",
    "plt.plot(x, np.asarray(gt_counts)[indices], 'g.', label='Ground truth')\n",
    "plt.ylabel('Counts')\n",
    "plt.xlabel('Image indices (ascending order of ground truth counts)')\n",
    "plt.legend()\n",
    "plt.savefig(f'{results_path}/analysis.png')\n",
    "plt.show()"
   ]
  }
 ],
 "metadata": {
  "kernelspec": {
   "display_name": "Python 3",
   "language": "python",
   "name": "python3"
  },
  "language_info": {
   "codemirror_mode": {
    "name": "ipython",
    "version": 3
   },
   "file_extension": ".py",
   "mimetype": "text/x-python",
   "name": "python",
   "nbconvert_exporter": "python",
   "pygments_lexer": "ipython3",
   "version": "3.6.7"
  }
 },
 "nbformat": 4,
 "nbformat_minor": 2
}
