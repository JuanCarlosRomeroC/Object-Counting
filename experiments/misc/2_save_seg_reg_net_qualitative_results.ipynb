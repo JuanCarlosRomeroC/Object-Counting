{
 "cells": [
  {
   "cell_type": "markdown",
   "metadata": {},
   "source": [
    "## 1. Setup"
   ]
  },
  {
   "cell_type": "code",
   "execution_count": 1,
   "metadata": {},
   "outputs": [],
   "source": [
    "import sys\n",
    "sys.path.append('../..')"
   ]
  },
  {
   "cell_type": "code",
   "execution_count": 2,
   "metadata": {},
   "outputs": [
    {
     "name": "stderr",
     "output_type": "stream",
     "text": [
      "Using TensorFlow backend.\n"
     ]
    }
   ],
   "source": [
    "import matplotlib.pyplot as plt\n",
    "import numpy as np\n",
    "import os\n",
    "import re\n",
    "import shutil\n",
    "import warnings\n",
    "\n",
    "from keras import Model\n",
    "from neural_networks.seg_reg_net import SegRegNet\n",
    "from utils.data.data_generator import DataGenerator\n",
    "from pprint import pprint"
   ]
  },
  {
   "cell_type": "code",
   "execution_count": 3,
   "metadata": {},
   "outputs": [],
   "source": [
    "%matplotlib inline\n",
    "%load_ext autoreload\n",
    "%autoreload 2\n",
    "\n",
    "warnings.filterwarnings('ignore')"
   ]
  },
  {
   "cell_type": "markdown",
   "metadata": {},
   "source": [
    "## 2. Experiment parameters"
   ]
  },
  {
   "cell_type": "code",
   "execution_count": 4,
   "metadata": {},
   "outputs": [],
   "source": [
    "DATASET_NAME = 'vgg_cells'\n",
    "DATASET_PATH = f'../../datasets/{DATASET_NAME}'\n",
    "IMG_DIM = None\n",
    "D_MAP_MULT_FACT = None\n",
    "GT_SEG_THR = 123456789\n",
    "PRED_SEG_THR = 1e-3\n",
    "\n",
    "fontsize = 20\n",
    "if DATASET_NAME.lower() == 'vgg_cells':\n",
    "    # misc\n",
    "    IMG_DIM = (256, 256, 3)\n",
    "    D_MAP_MULT_FACT = 100.\n",
    "    GT_SEG_THR = 8e-4\n",
    "    \n",
    "    # plots\n",
    "    figsize=(30, 6)\n",
    "    fraction = 0.0468\n",
    "    pad = 0.015\n",
    "    \n",
    "    # checkpoints\n",
    "    SEG_REG_NET_CHECKPOINT_NAME = f'../5_seg_reg_net/vgg_cells/n_64_sigma_5_randseed_644_loss_logcosh_patch_4_128x128'\\\n",
    "                                  f'/checkpoints/best_model.hdf5'\n",
    "\n",
    "elif DATASET_NAME.lower() == 'carpk':\n",
    "    # misc\n",
    "    IMG_DIM = (720, 1280, 3)\n",
    "    D_MAP_MULT_FACT = 2000.\n",
    "    GT_SEG_THR = 1.5e-4\n",
    "    \n",
    "    # plots\n",
    "    figsize=(25, 7)\n",
    "    fraction = 0.027\n",
    "    pad = 0.015\n",
    "    \n",
    "    # checkpoints\n",
    "    SEG_REG_NET_CHECKPOINT_NAME = f'../5_seg_reg_net/carpk/sigma_10_loss_logcosh_full_img_epochs_3_lr_1e-4'\\\n",
    "                                  f'/checkpoints/model.02-0.010.hdf5'\n",
    "    \n",
    "elif DATASET_NAME.lower() == 'shanghai_tech/part_b':\n",
    "    # misc\n",
    "    IMG_DIM = (768, 1024, 3)\n",
    "    D_MAP_MULT_FACT = 2000.\n",
    "    GT_SEG_THR = 2e-4\n",
    "    \n",
    "    # plots\n",
    "    figsize=(25, 7)\n",
    "    fraction = 0.0355\n",
    "    pad = 0.015\n",
    "    \n",
    "    # checkpoints\n",
    "    SEG_REG_NET_CHECKPOINT_NAME = f'../5_seg_reg_net/shanghai_tech/part_b'\\\n",
    "                                  f'/sigma_10_loss_logcosh_patch_16_256x256_epochs_50_lr_1e-4'\\\n",
    "                                  f'/checkpoints/model.18-0.102.hdf5'"
   ]
  },
  {
   "cell_type": "code",
   "execution_count": 5,
   "metadata": {},
   "outputs": [],
   "source": [
    "params = {\n",
    "    'dim': IMG_DIM,\n",
    "    'batch_size': 1,\n",
    "    'patches_per_image': 1,\n",
    "    'density_map_multiplication_factor': D_MAP_MULT_FACT,\n",
    "    'shuffle': False,\n",
    "    'output_mode': 'seg_reg',\n",
    "    'gt_seg_thr': GT_SEG_THR\n",
    "}"
   ]
  },
  {
   "cell_type": "markdown",
   "metadata": {},
   "source": [
    "## 3. Predict and save results"
   ]
  },
  {
   "cell_type": "code",
   "execution_count": 6,
   "metadata": {
    "scrolled": false
   },
   "outputs": [],
   "source": [
    "gt_counts = []\n",
    "seg_reg_net_pred_counts = []\n",
    "seg_reg_net_pred_seg_density_counts = []\n",
    "\n",
    "# data splits\n",
    "test_generator = DataGenerator(DATASET_PATH, 'test', **params)\n",
    "\n",
    "# clean old dir for qualitative results\n",
    "results_path = f'2_seg_reg_net/{DATASET_NAME}/'\n",
    "shutil.rmtree(results_path, ignore_errors=True)\n",
    "os.makedirs(results_path)\n",
    "\n",
    "# predict and save\n",
    "seg_reg_net = SegRegNet(pretrained_weights=SEG_REG_NET_CHECKPOINT_NAME)\n",
    "\n",
    "for data_generator, split_name in zip([test_generator],\n",
    "                                      ['test']):\n",
    "    # prepare dirs for qualitative results\n",
    "    results_path_png_gt_asc = f'{results_path}/{split_name}/png_gt_asc'\n",
    "    os.makedirs(results_path_png_gt_asc)\n",
    "\n",
    "    for idx in range(data_generator.__len__()):\n",
    "        # input image & gt seg and density map, batch_size=1\n",
    "        input_img, gt = data_generator.__getitem__(idx)\n",
    "        gt_seg_map, gt_density_map = gt\n",
    "        gt_density_map /= D_MAP_MULT_FACT\n",
    "        \n",
    "        # predicted seg and density map\n",
    "        seg_reg_net_pred = (seg_reg_net.predict(input_img))\n",
    "        seg_reg_net_pred_seg_map, seg_reg_net_pred_density_map = seg_reg_net_pred\n",
    "        seg_reg_net_pred_density_map /= D_MAP_MULT_FACT\n",
    "        \n",
    "        seg_reg_net_pred_seg_density_map = (seg_reg_net_pred_seg_map > PRED_SEG_THR)\\\n",
    "                                            *\\\n",
    "                                            seg_reg_net_pred_density_map\n",
    "        \n",
    "        # gt & pred counts\n",
    "        gt_count = int(np.round(gt_density_map.sum()))\n",
    "        seg_reg_net_pred_count = seg_reg_net_pred_density_map.sum()\n",
    "        seg_reg_net_pred_seg_density_count = seg_reg_net_pred_seg_density_map.sum()\n",
    "        seg_reg_net_pred_gt_diff = seg_reg_net_pred_count - gt_count\n",
    "        \n",
    "\n",
    "        gt_counts.append(gt_count)\n",
    "        seg_reg_net_pred_counts.append(seg_reg_net_pred_count)\n",
    "        seg_reg_net_pred_seg_density_counts.append(seg_reg_net_pred_seg_density_count)\n",
    "\n",
    "        error_type = 'match'\n",
    "        if seg_reg_net_pred_count < gt_count:\n",
    "            error_type = 'underestimate'\n",
    "        elif seg_reg_net_pred_count > gt_count:\n",
    "            error_type = 'overestimate'\n",
    "\n",
    "        img_name_png = data_generator.img_names[data_generator.indexes[idx]]\n",
    "        img_name = img_name_png.split('.')[0]\n",
    "        img_name_gt_asc = f'gt_{gt_count:3}_pred_{seg_reg_net_pred_count:6.2f}_diff_gt_pred_'\\\n",
    "                          f'{seg_reg_net_pred_gt_diff:.2f}'\\\n",
    "                          f'_{img_name}'.replace(' ', '0')\n",
    "\n",
    "        # plots\n",
    "        vmin = min(gt_density_map.min(), seg_reg_net_pred_density_map.min())\n",
    "        vmax = max(gt_density_map.max(), seg_reg_net_pred_density_map.max())\n",
    "\n",
    "        fig = plt.figure(figsize=figsize)\n",
    "        num_subplots = 6\n",
    "        \n",
    "        plt.subplot(1, num_subplots, 1)\n",
    "        plt.title('Input Image\\n\\n', fontsize=fontsize)\n",
    "        plt.imshow(input_img[0])\n",
    "        plt.colorbar(fraction=fraction, pad=pad)\n",
    "        plt.axis('off')\n",
    "        \n",
    "        plt.subplot(1, num_subplots, 2)\n",
    "        plt.title(f'Ground Truth\\n[Segmentation Map]\\n', fontsize=fontsize)\n",
    "        plt.imshow(gt_seg_map.squeeze(), cmap='gray', vmin=0, vmax=1)\n",
    "        plt.colorbar(fraction=fraction, pad=pad)\n",
    "        plt.axis('off')\n",
    "        \n",
    "        plt.subplot(1, num_subplots, 3)\n",
    "        plt.title(f'Prediction\\n[Segmentation Map]\\n', fontsize=fontsize)\n",
    "        plt.imshow(seg_reg_net_pred_seg_map.squeeze(), cmap='gray', vmin=0, vmax=1)\n",
    "        plt.colorbar(fraction=fraction, pad=pad)\n",
    "        plt.axis('off')\n",
    "\n",
    "        plt.subplot(1, num_subplots, 4)\n",
    "        plt.title(f'Ground Truth\\n[Density Map]\\n{gt_count}', fontsize=fontsize)\n",
    "        plt.imshow(gt_density_map.squeeze(), cmap='jet', vmin=vmin, vmax=vmax)\n",
    "        plt.colorbar(fraction=fraction, pad=pad)\n",
    "        plt.axis('off')\n",
    "        \n",
    "        plt.subplot(1, num_subplots, 5)\n",
    "        plt.title(f'Prediction\\n[Density Map]\\n{seg_reg_net_pred_count:.2f}', fontsize=fontsize)\n",
    "        plt.imshow(seg_reg_net_pred_density_map.squeeze(), cmap='jet', vmin=vmin, vmax=vmax)\n",
    "        plt.colorbar(fraction=fraction, pad=pad)\n",
    "        plt.axis('off')\n",
    "        \n",
    "        plt.subplot(1, num_subplots, 6)\n",
    "        plt.title(f'Prediction\\n[Seg & Density Map]\\n{seg_reg_net_pred_seg_density_count:.2f}', fontsize=fontsize)\n",
    "        plt.imshow(seg_reg_net_pred_seg_density_map.squeeze(), cmap='jet', vmin=vmin, vmax=vmax)\n",
    "        plt.colorbar(fraction=fraction, pad=pad)\n",
    "        plt.axis('off')\n",
    "        \n",
    "        plt.savefig(f'{results_path_png_gt_asc}/{img_name_gt_asc}.png')\n",
    "        plt.clf()\n",
    "        plt.close()"
   ]
  },
  {
   "cell_type": "markdown",
   "metadata": {},
   "source": [
    "## 4. Plot GT vs Prediction"
   ]
  },
  {
   "cell_type": "code",
   "execution_count": null,
   "metadata": {},
   "outputs": [],
   "source": [
    "print(gt_counts)\n",
    "print(seg_reg_net_pred_counts)\n",
    "print(seg_reg_net_pred_seg_density_counts)"
   ]
  },
  {
   "cell_type": "code",
   "execution_count": 8,
   "metadata": {},
   "outputs": [
    {
     "name": "stdout",
     "output_type": "stream",
     "text": [
      "SegRegNet (Density) MAE: 2.985\n",
      "SegRegNet (Seg & Density) MAE: 2.421\n"
     ]
    }
   ],
   "source": [
    "def mae(gt, pred):\n",
    "    gt = np.asarray(gt)\n",
    "    pred = np.asarray(pred)\n",
    "    return np.mean(np.abs(gt - pred))\n",
    "\n",
    "print(f'SegRegNet (Density) MAE: {mae(gt_counts, seg_reg_net_pred_counts):.3f}')\n",
    "print(f'SegRegNet (Seg & Density) MAE: {mae(gt_counts, seg_reg_net_pred_seg_density_counts):.3f}')"
   ]
  },
  {
   "cell_type": "code",
   "execution_count": 9,
   "metadata": {},
   "outputs": [
    {
     "data": {
      "image/png": "[encoded data removed]",
      "text/plain": [
       "<Figure size 504x360 with 1 Axes>"
      ]
     },
     "metadata": {
      "needs_background": "light"
     },
     "output_type": "display_data"
    }
   ],
   "source": [
    "x = 1 + np.arange(len(gt_counts))\n",
    "indices = np.argsort(gt_counts)\n",
    "plt.figure(figsize=(7, 5))\n",
    "if DATASET_NAME.lower() == 'vgg_cells':\n",
    "    plt.title('VGG Cells')\n",
    "elif DATASET_NAME.lower() == 'carpk':\n",
    "    plt.title('CARPK')\n",
    "elif DATASET_NAME.lower() == 'shanghai_tech/part_b':\n",
    "    plt.title('ShanghaiTech (Part B)')\n",
    "    \n",
    "plt.plot(x, np.asarray(seg_reg_net_pred_counts)[indices], 'b.', label='SegRegNet (Density) Prediction')\n",
    "plt.plot(x, np.asarray(seg_reg_net_pred_seg_density_counts)[indices], 'y.', label='SegRegNet (Seg & Density) Prediction')\n",
    "plt.plot(x, np.asarray(gt_counts)[indices], 'g.', label='Ground Truth')\n",
    "plt.ylabel('Counts')\n",
    "plt.xlabel('Image indices (ascending order of ground truth counts)')\n",
    "plt.legend()\n",
    "plt.savefig(f'{results_path}/analysis.png')\n",
    "plt.show()"
   ]
  }
 ],
 "metadata": {
  "kernelspec": {
   "display_name": "Python 3",
   "language": "python",
   "name": "python3"
  },
  "language_info": {
   "codemirror_mode": {
    "name": "ipython",
    "version": 3
   },
   "file_extension": ".py",
   "mimetype": "text/x-python",
   "name": "python",
   "nbconvert_exporter": "python",
   "pygments_lexer": "ipython3",
   "version": "3.6.7"
  }
 },
 "nbformat": 4,
 "nbformat_minor": 2
}
