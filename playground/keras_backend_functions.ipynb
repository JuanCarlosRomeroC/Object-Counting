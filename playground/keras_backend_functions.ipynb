{
 "cells": [
  {
   "cell_type": "markdown",
   "metadata": {},
   "source": [
    "## 1. Setup"
   ]
  },
  {
   "cell_type": "code",
   "execution_count": 1,
   "metadata": {},
   "outputs": [
    {
     "name": "stderr",
     "output_type": "stream",
     "text": [
      "Using TensorFlow backend.\n"
     ]
    }
   ],
   "source": [
    "import keras.backend as K\n",
    "import numpy as np\n",
    "import tensorflow as tf"
   ]
  },
  {
   "cell_type": "code",
   "execution_count": 2,
   "metadata": {},
   "outputs": [],
   "source": [
    "sess = tf.Session()"
   ]
  },
  {
   "cell_type": "markdown",
   "metadata": {},
   "source": [
    "## 2. K.abs()"
   ]
  },
  {
   "cell_type": "code",
   "execution_count": 3,
   "metadata": {},
   "outputs": [
    {
     "name": "stdout",
     "output_type": "stream",
     "text": [
      "[1 4 2 5 0]\n"
     ]
    }
   ],
   "source": [
    "a = [-1, 4, -2, 5, 0]\n",
    "\n",
    "print(K.abs(a).eval(session=sess))"
   ]
  },
  {
   "cell_type": "markdown",
   "metadata": {},
   "source": [
    "## 3. K.mean()"
   ]
  },
  {
   "cell_type": "code",
   "execution_count": 4,
   "metadata": {},
   "outputs": [
    {
     "name": "stdout",
     "output_type": "stream",
     "text": [
      "1.2\n",
      "2.4\n"
     ]
    }
   ],
   "source": [
    "a = [-1., 4., -2., 5., 0.]\n",
    "a = tf.convert_to_tensor(a)\n",
    "\n",
    "print(K.mean(a).eval(session=sess))\n",
    "print(K.mean(K.abs(a)).eval(session=sess))"
   ]
  },
  {
   "cell_type": "code",
   "execution_count": 5,
   "metadata": {},
   "outputs": [
    {
     "name": "stdout",
     "output_type": "stream",
     "text": [
      "1.2\n",
      "1.2\n",
      "[1.2 1.2]\n"
     ]
    }
   ],
   "source": [
    "a = [\n",
    "     [-1., 4., -2., 5., 0.],\n",
    "     [-1., 4., -2., 5., 0.],\n",
    "    ]\n",
    "a = tf.convert_to_tensor(a)\n",
    "\n",
    "print(K.mean(a).eval(session=sess))\n",
    "print(K.mean(a, axis=None).eval(session=sess))\n",
    "print(K.mean(a, axis=-1).eval(session=sess))"
   ]
  },
  {
   "cell_type": "markdown",
   "metadata": {},
   "source": [
    "## Why use axis=-1 in Keras loss/metric functions?\n",
    "\n",
    "https://stackoverflow.com/questions/46298110/why-use-axis-1-in-keras-metrics-function\n",
    "\n",
    "https://github.com/keras-team/keras/issues/7047\n",
    "\n",
    "https://github.com/keras-team/keras/issues/9307"
   ]
  }
 ],
 "metadata": {
  "kernelspec": {
   "display_name": "Python 3",
   "language": "python",
   "name": "python3"
  },
  "language_info": {
   "codemirror_mode": {
    "name": "ipython",
    "version": 3
   },
   "file_extension": ".py",
   "mimetype": "text/x-python",
   "name": "python",
   "nbconvert_exporter": "python",
   "pygments_lexer": "ipython3",
   "version": "3.6.7"
  }
 },
 "nbformat": 4,
 "nbformat_minor": 2
}
