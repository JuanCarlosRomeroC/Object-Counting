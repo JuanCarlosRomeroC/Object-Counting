{
 "cells": [
  {
   "cell_type": "markdown",
   "metadata": {},
   "source": [
    "# Setup details"
   ]
  },
  {
   "cell_type": "code",
   "execution_count": 1,
   "metadata": {},
   "outputs": [
    {
     "name": "stderr",
     "output_type": "stream",
     "text": [
      "Using TensorFlow backend.\n"
     ]
    }
   ],
   "source": [
    "import cv2 as cv\n",
    "import keras\n",
    "import numpy as np\n",
    "import scipy\n",
    "import skimage\n",
    "import sys\n",
    "import tensorflow as tf"
   ]
  },
  {
   "cell_type": "code",
   "execution_count": 2,
   "metadata": {},
   "outputs": [
    {
     "name": "stdout",
     "output_type": "stream",
     "text": [
      "sys.version: 3.6.7 |Anaconda, Inc.| (default, Oct 23 2018, 19:16:44) \n",
      "[GCC 7.3.0]\n",
      "\n",
      "cv.version: 3.4.2\n",
      "\n",
      "keras.version: 2.2.4\n",
      "\n",
      "np.version: 1.16.2\n",
      "\n",
      "scipy.version: 1.1.0\n",
      "\n",
      "skimage.version: 0.14.2\n",
      "\n",
      "tf.version: 1.11.0\n"
     ]
    }
   ],
   "source": [
    "print(f'sys.version: {sys.version}\\n')\n",
    "print(f'cv.version: {cv.__version__}\\n')\n",
    "print(f'keras.version: {keras.__version__}\\n')\n",
    "print(f'np.version: {np.__version__}\\n')\n",
    "print(f'scipy.version: {scipy.__version__}\\n')\n",
    "print(f'skimage.version: {skimage.__version__}\\n')\n",
    "print(f'tf.version: {tf.__version__}')"
   ]
  }
 ],
 "metadata": {
  "kernelspec": {
   "display_name": "Python 3",
   "language": "python",
   "name": "python3"
  },
  "language_info": {
   "codemirror_mode": {
    "name": "ipython",
    "version": 3
   },
   "file_extension": ".py",
   "mimetype": "text/x-python",
   "name": "python",
   "nbconvert_exporter": "python",
   "pygments_lexer": "ipython3",
   "version": "3.6.7"
  }
 },
 "nbformat": 4,
 "nbformat_minor": 2
}
