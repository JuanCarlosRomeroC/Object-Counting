{
 "cells": [
  {
   "cell_type": "markdown",
   "metadata": {},
   "source": [
    "## 1. Setup"
   ]
  },
  {
   "cell_type": "code",
   "execution_count": 1,
   "metadata": {},
   "outputs": [],
   "source": [
    "import sys\n",
    "sys.path.append('..')"
   ]
  },
  {
   "cell_type": "code",
   "execution_count": 2,
   "metadata": {},
   "outputs": [],
   "source": [
    "import matplotlib.pyplot as plt\n",
    "import numpy as np\n",
    "import os\n",
    "import skimage.io\n",
    "import warnings\n",
    "\n",
    "from pprint import pprint"
   ]
  },
  {
   "cell_type": "code",
   "execution_count": 3,
   "metadata": {},
   "outputs": [],
   "source": [
    "%matplotlib inline\n",
    "%load_ext autoreload\n",
    "%autoreload 2\n",
    "\n",
    "warnings.filterwarnings('ignore')"
   ]
  },
  {
   "cell_type": "markdown",
   "metadata": {},
   "source": [
    "## 2. Datasets Stats"
   ]
  },
  {
   "cell_type": "code",
   "execution_count": 4,
   "metadata": {
    "scrolled": false
   },
   "outputs": [
    {
     "name": "stdout",
     "output_type": "stream",
     "text": [
      "\n",
      "-----vgg_cells-----\n",
      "../datasets/vgg_cells\n",
      "Train size: 100 images\n",
      "Test size: 100 images\n",
      "->Objects per image:\n",
      "Min: 74 (train: 78, test: 74)\n",
      "Max: 317 (train: 315, test: 317)\n",
      "Avg: 176.0 (train: 180.4, test: 171.5)\n",
      "Total: 35192 (train: 18045, test: 17147)\n",
      "->Relative distribution of image counts within the dataset:\n",
      "**Train set (100 images)**\n",
      "{'0-100': '10 (10.00%)',\n",
      " '100-200': '53 (53.00%)',\n",
      " '200-300': '34 (34.00%)',\n",
      " '>= 300': '3 (3.00%)'}\n",
      "**Test set (100 images)**\n",
      "{'0-100': '14 (14.00%)',\n",
      " '100-200': '50 (50.00%)',\n",
      " '200-300': '32 (32.00%)',\n",
      " '>= 300': '4 (4.00%)'}\n",
      "\n",
      "-----carpk-----\n",
      "../datasets/carpk\n",
      "Train size: 989 images\n",
      "Test size: 459 images\n",
      "->Objects per image:\n",
      "Min: 1 (train: 1, test: 2)\n",
      "Max: 188 (train: 87, test: 188)\n",
      "Avg: 62.0 (train: 42.7, test: 103.5)\n",
      "Total: 89772 (train: 42273, test: 47499)\n",
      "->Relative distribution of image counts within the dataset:\n",
      "**Train set (989 images)**\n",
      "{'0-100': '989 (100.00%)',\n",
      " '100-200': '0 (0.00%)',\n",
      " '200-300': '0 (0.00%)',\n",
      " '>= 300': '0 (0.00%)'}\n",
      "**Test set (459 images)**\n",
      "{'0-100': '157 (34.20%)',\n",
      " '100-200': '302 (65.80%)',\n",
      " '200-300': '0 (0.00%)',\n",
      " '>= 300': '0 (0.00%)'}\n",
      "\n",
      "-----shanghai_tech/part_b-----\n",
      "../datasets/shanghai_tech/part_b\n",
      "Train size: 400 images\n",
      "Test size: 316 images\n",
      "->Objects per image:\n",
      "Min: 9 (train: 12, test: 9)\n",
      "Max: 576 (train: 576, test: 539)\n",
      "Avg: 123.2 (train: 122.8, test: 123.7)\n",
      "Total: 88199 (train: 49109, test: 39090)\n",
      "->Relative distribution of image counts within the dataset:\n",
      "**Train set (400 images)**\n",
      "{'0-100': '201 (50.25%)',\n",
      " '100-200': '130 (32.50%)',\n",
      " '200-300': '46 (11.50%)',\n",
      " '>= 300': '23 (5.75%)'}\n",
      "**Test set (316 images)**\n",
      "{'0-100': '169 (53.48%)',\n",
      " '100-200': '97 (30.70%)',\n",
      " '200-300': '33 (10.44%)',\n",
      " '>= 300': '17 (5.38%)'}\n"
     ]
    }
   ],
   "source": [
    "def relative_distribution_of_img_counts(counts):\n",
    "    total = counts.size\n",
    "    \n",
    "    d = {}\n",
    "    for i in range(100, 300 + 1, 100):\n",
    "        curr = np.sum((i - 100 <= counts) & (counts < i))\n",
    "        d[f'{i - 100}-{i}'] = f'{curr} ({100. * (curr / total):.2f}%)'\n",
    "        \n",
    "    curr = np.sum(counts >= 300)\n",
    "    d[f'>= 300'] = f'{curr} ({100. * (curr / total):.2f}%)'\n",
    "    \n",
    "    return d\n",
    "\n",
    "for dataset_name in ['vgg_cells', 'carpk', 'shanghai_tech/part_b']:\n",
    "    dataset_path = f'../datasets/{dataset_name}'\n",
    "    \n",
    "    print()\n",
    "    print(f'-----{dataset_name}-----')\n",
    "    print(dataset_path)\n",
    "    \n",
    "    counts = {}\n",
    "    for split_name in ['train', 'val', 'test']:\n",
    "        split_path = f'{dataset_path}/{split_name}'\n",
    "        dots_path = f'{split_path}/gt_dots'\n",
    "        \n",
    "        dot_img_names = []\n",
    "        if os.path.exists(dots_path):\n",
    "            dot_img_names = sorted(os.listdir(dots_path))\n",
    "        \n",
    "        counts[split_name] = []\n",
    "        for img_name in dot_img_names:\n",
    "            dot_img = skimage.io.imread(f'{dots_path}/{img_name}') > 0\n",
    "            count = dot_img.sum()\n",
    "            counts[split_name].append(count)\n",
    "            \n",
    "    \n",
    "    print(f'Train size: {len(counts[\"train\"]) + len(counts[\"val\"])} images')\n",
    "    print(f'Test size: {len(counts[\"test\"])} images')\n",
    "    \n",
    "    counts_all = np.array(counts['train'] + counts['val'] + counts['test'])\n",
    "    train_val_counts = np.array(counts['train'] + counts['val'])\n",
    "    print('->Objects per image:')\n",
    "    print(f'Min: {counts_all.min()} (train: {np.min(train_val_counts)}, test: {np.min(counts[\"test\"])})')\n",
    "    print(f'Max: {counts_all.max()} (train: {np.max(train_val_counts)}, test: {np.max(counts[\"test\"])})')\n",
    "    print(f'Avg: {counts_all.mean():.1f} (train: {np.mean(train_val_counts):.1f}, test: {np.mean(counts[\"test\"]):.1f})')\n",
    "    print(f'Total: {counts_all.sum()} (train: {np.sum(train_val_counts)}, test: {np.sum(counts[\"test\"])})')\n",
    "          \n",
    "    print('->Relative distribution of image counts within the dataset:')\n",
    "    print(f'**Train set ({train_val_counts.size} images)**')\n",
    "    pprint(relative_distribution_of_img_counts(train_val_counts))\n",
    "    print(f'**Test set ({len(counts[\"test\"])} images)**')\n",
    "    pprint(relative_distribution_of_img_counts(np.asarray(counts['test'])))"
   ]
  }
 ],
 "metadata": {
  "kernelspec": {
   "display_name": "Python 3",
   "language": "python",
   "name": "python3"
  },
  "language_info": {
   "codemirror_mode": {
    "name": "ipython",
    "version": 3
   },
   "file_extension": ".py",
   "mimetype": "text/x-python",
   "name": "python",
   "nbconvert_exporter": "python",
   "pygments_lexer": "ipython3",
   "version": "3.6.7"
  }
 },
 "nbformat": 4,
 "nbformat_minor": 2
}
