{
 "cells": [
  {
   "cell_type": "markdown",
   "metadata": {},
   "source": [
    "## 1. Setup"
   ]
  },
  {
   "cell_type": "code",
   "execution_count": 1,
   "metadata": {},
   "outputs": [],
   "source": [
    "import sys\n",
    "sys.path.append('..')"
   ]
  },
  {
   "cell_type": "code",
   "execution_count": 2,
   "metadata": {},
   "outputs": [],
   "source": [
    "import matplotlib.pyplot as plt\n",
    "import numpy as np\n",
    "import os\n",
    "import skimage.io\n",
    "import warnings"
   ]
  },
  {
   "cell_type": "code",
   "execution_count": 3,
   "metadata": {},
   "outputs": [],
   "source": [
    "%matplotlib inline\n",
    "%load_ext autoreload\n",
    "%autoreload 2\n",
    "\n",
    "warnings.filterwarnings('ignore')"
   ]
  },
  {
   "cell_type": "markdown",
   "metadata": {},
   "source": [
    "## 2. Datasets Stats"
   ]
  },
  {
   "cell_type": "code",
   "execution_count": 4,
   "metadata": {},
   "outputs": [
    {
     "name": "stdout",
     "output_type": "stream",
     "text": [
      "\n",
      "-----vgg_cells-----\n",
      "../datasets/vgg_cells\n",
      "Train size: 100 images\n",
      "Test size: 100 images\n",
      "->Objects per image:\n",
      "Min: 74\n",
      "Max: 317\n",
      "Avg: 176.0\n",
      "Total: 35192\n",
      "\n",
      "-----carpk-----\n",
      "../datasets/carpk\n",
      "Train size: 989 images\n",
      "Test size: 459 images\n",
      "->Objects per image:\n",
      "Min: 1\n",
      "Max: 188\n",
      "Avg: 62.0\n",
      "Total: 89772\n",
      "\n",
      "-----shanghai_tech/part_b-----\n",
      "../datasets/shanghai_tech/part_b\n",
      "Train size: 400 images\n",
      "Test size: 316 images\n",
      "->Objects per image:\n",
      "Min: 9\n",
      "Max: 576\n",
      "Avg: 123.2\n",
      "Total: 88199\n"
     ]
    }
   ],
   "source": [
    "for dataset_name in ['vgg_cells', 'carpk', 'shanghai_tech/part_b']:\n",
    "    dataset_path = f'../datasets/{dataset_name}'\n",
    "    \n",
    "    print()\n",
    "    print(f'-----{dataset_name}-----')\n",
    "    print(dataset_path)\n",
    "    \n",
    "    counts = {}\n",
    "    for split_name in ['train', 'val', 'test']:\n",
    "        split_path = f'{dataset_path}/{split_name}'\n",
    "        dots_path = f'{split_path}/gt_dots'\n",
    "        \n",
    "        dot_img_names = []\n",
    "        if os.path.exists(dots_path):\n",
    "            dot_img_names = sorted(os.listdir(dots_path))\n",
    "        \n",
    "        counts[split_name] = []\n",
    "        for img_name in dot_img_names:\n",
    "            dot_img = skimage.io.imread(f'{dots_path}/{img_name}') > 0\n",
    "            count = dot_img.sum()\n",
    "            counts[split_name].append(count)\n",
    "            \n",
    "    \n",
    "    print(f'Train size: {len(counts[\"train\"]) + len(counts[\"val\"])} images')\n",
    "    print(f'Test size: {len(counts[\"test\"])} images')\n",
    "    \n",
    "    counts_all = np.array(counts['train'] + counts['val'] + counts['test'])      \n",
    "    print('->Objects per image:')\n",
    "    print(f'Min: {counts_all.min()}')\n",
    "    print(f'Max: {counts_all.max()}')\n",
    "    print(f'Avg: {counts_all.mean():.1f}')\n",
    "    print(f'Total: {counts_all.sum()}')"
   ]
  }
 ],
 "metadata": {
  "kernelspec": {
   "display_name": "Python 3",
   "language": "python",
   "name": "python3"
  },
  "language_info": {
   "codemirror_mode": {
    "name": "ipython",
    "version": 3
   },
   "file_extension": ".py",
   "mimetype": "text/x-python",
   "name": "python",
   "nbconvert_exporter": "python",
   "pygments_lexer": "ipython3",
   "version": "3.6.7"
  }
 },
 "nbformat": 4,
 "nbformat_minor": 2
}
