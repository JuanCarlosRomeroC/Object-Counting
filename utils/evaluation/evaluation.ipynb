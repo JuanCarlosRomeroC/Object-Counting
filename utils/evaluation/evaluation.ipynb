{
 "cells": [
  {
   "cell_type": "markdown",
   "metadata": {},
   "source": [
    "## 1. Setup"
   ]
  },
  {
   "cell_type": "code",
   "execution_count": 1,
   "metadata": {},
   "outputs": [],
   "source": [
    "import sys\n",
    "sys.path.append('../..')"
   ]
  },
  {
   "cell_type": "code",
   "execution_count": 2,
   "metadata": {},
   "outputs": [
    {
     "name": "stderr",
     "output_type": "stream",
     "text": [
      "Using TensorFlow backend.\n"
     ]
    }
   ],
   "source": [
    "import evaluation\n",
    "import numpy as np"
   ]
  },
  {
   "cell_type": "code",
   "execution_count": 3,
   "metadata": {},
   "outputs": [],
   "source": [
    "%matplotlib inline\n",
    "%load_ext autoreload\n",
    "%autoreload 2"
   ]
  },
  {
   "cell_type": "markdown",
   "metadata": {},
   "source": [
    "## 2. Test evaluation functions"
   ]
  },
  {
   "cell_type": "code",
   "execution_count": 4,
   "metadata": {},
   "outputs": [],
   "source": [
    "y_true = np.array([5, 7, 33, 13])\n",
    "y_pred = np.array([1, 2, 33, 20])"
   ]
  },
  {
   "cell_type": "markdown",
   "metadata": {},
   "source": [
    "#### MAE"
   ]
  },
  {
   "cell_type": "code",
   "execution_count": 5,
   "metadata": {},
   "outputs": [
    {
     "name": "stdout",
     "output_type": "stream",
     "text": [
      "4.0\n",
      "4.0\n"
     ]
    }
   ],
   "source": [
    "diff = y_true - y_pred\n",
    "diff_abs = np.abs(diff)\n",
    "diff_abs_mean = np.mean(diff_abs)\n",
    "\n",
    "print(diff_abs_mean)\n",
    "print(evaluation.mae(y_true, y_pred))"
   ]
  },
  {
   "cell_type": "markdown",
   "metadata": {},
   "source": [
    "#### RMSE"
   ]
  },
  {
   "cell_type": "code",
   "execution_count": 6,
   "metadata": {},
   "outputs": [
    {
     "name": "stdout",
     "output_type": "stream",
     "text": [
      "4.743416490252569\n",
      "4.743416490252569\n"
     ]
    }
   ],
   "source": [
    "diff_sqr = np.square(y_true - y_pred)\n",
    "diff_sqr_mean = np.mean(diff_sqr)\n",
    "diff_sqrt = np.sqrt(diff_sqr_mean)\n",
    "\n",
    "print(diff_sqrt)\n",
    "print(evaluation.rmse(y_true, y_pred))"
   ]
  },
  {
   "cell_type": "markdown",
   "metadata": {},
   "source": [
    "#### Underestimate (%)"
   ]
  },
  {
   "cell_type": "code",
   "execution_count": 7,
   "metadata": {},
   "outputs": [
    {
     "name": "stdout",
     "output_type": "stream",
     "text": [
      "y_true: [ 5  7 33 13]\n",
      "y_pred: [ 1  2 33 20]\n",
      "diff  : [ 4  5  0 -7]\n",
      "diff_i: [ True  True False False]\n",
      "under : [4 5 0 0]\n",
      "under_sum : 9\n",
      "y_true_sum: 58\n",
      "underestimate (%): 15.517241379310345\n",
      "underestimate (%): 15.517241379310345\n"
     ]
    }
   ],
   "source": [
    "diff = y_true - y_pred\n",
    "diff_i = y_true > y_pred\n",
    "under = diff * diff_i\n",
    "under_sum = under.sum()\n",
    "y_true_sum = y_true.sum()\n",
    "underestimate = 100 * under_sum / y_true_sum\n",
    "\n",
    "print('y_true:', y_true)\n",
    "print('y_pred:', y_pred)\n",
    "print('diff  :', diff)\n",
    "print('diff_i:', diff_i)\n",
    "print('under :', under)\n",
    "print('under_sum :', under_sum)\n",
    "print('y_true_sum:', y_true_sum)\n",
    "print('underestimate (%):', underestimate)\n",
    "print('underestimate (%):', evaluation.underestimate(y_true, y_pred))"
   ]
  },
  {
   "cell_type": "markdown",
   "metadata": {},
   "source": [
    "#### Overestimate (%)"
   ]
  },
  {
   "cell_type": "code",
   "execution_count": 8,
   "metadata": {},
   "outputs": [
    {
     "name": "stdout",
     "output_type": "stream",
     "text": [
      "y_true: [ 5  7 33 13]\n",
      "y_pred: [ 1  2 33 20]\n",
      "diff  : [-4 -5  0  7]\n",
      "diff_i: [False False False  True]\n",
      "over : [0 0 0 7]\n",
      "over_sum : 7\n",
      "y_true_sum: 58\n",
      "overestimate (%): 12.068965517241379\n",
      "overestimate (%): 12.068965517241379\n"
     ]
    }
   ],
   "source": [
    "diff = y_pred - y_true\n",
    "diff_i = y_pred > y_true\n",
    "over = diff * diff_i\n",
    "over_sum = over.sum()\n",
    "y_true_sum = y_true.sum()\n",
    "overestimate = 100 * over_sum / y_true_sum\n",
    "\n",
    "print('y_true:', y_true)\n",
    "print('y_pred:', y_pred)\n",
    "print('diff  :', diff)\n",
    "print('diff_i:', diff_i)\n",
    "print('over :', over)\n",
    "print('over_sum :', over_sum)\n",
    "print('y_true_sum:', y_true_sum)\n",
    "print('overestimate (%):', overestimate)\n",
    "print('overestimate (%):', evaluation.overestimate(y_true, y_pred))"
   ]
  },
  {
   "cell_type": "markdown",
   "metadata": {},
   "source": [
    "#### Difference (%)"
   ]
  },
  {
   "cell_type": "code",
   "execution_count": 9,
   "metadata": {},
   "outputs": [
    {
     "name": "stdout",
     "output_type": "stream",
     "text": [
      "underestimate (%): 15.517241379310345\n",
      "overestimate (%): 12.068965517241379\n",
      "difference (%): 27.586206896551722\n"
     ]
    }
   ],
   "source": [
    "print('underestimate (%):', evaluation.underestimate(y_true, y_pred))\n",
    "print('overestimate (%):', evaluation.overestimate(y_true, y_pred))\n",
    "print('difference (%):', evaluation.difference(y_true, y_pred))"
   ]
  }
 ],
 "metadata": {
  "kernelspec": {
   "display_name": "Python 3",
   "language": "python",
   "name": "python3"
  },
  "language_info": {
   "codemirror_mode": {
    "name": "ipython",
    "version": 3
   },
   "file_extension": ".py",
   "mimetype": "text/x-python",
   "name": "python",
   "nbconvert_exporter": "python",
   "pygments_lexer": "ipython3",
   "version": "3.6.7"
  }
 },
 "nbformat": 4,
 "nbformat_minor": 2
}
