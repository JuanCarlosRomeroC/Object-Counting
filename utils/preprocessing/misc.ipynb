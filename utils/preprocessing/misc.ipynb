{
 "cells": [
  {
   "cell_type": "markdown",
   "metadata": {},
   "source": [
    "## 1. Setup"
   ]
  },
  {
   "cell_type": "code",
   "execution_count": 1,
   "metadata": {},
   "outputs": [],
   "source": [
    "import numpy as np\n",
    "import skimage"
   ]
  },
  {
   "cell_type": "markdown",
   "metadata": {},
   "source": [
    "## 2. Play with skimage.filters.gaussian\n",
    "Remember: kernel_size = truncate * sigma + 1  \n",
    "Default sigma = 1  \n",
    "Default truncate = 4.0"
   ]
  },
  {
   "cell_type": "code",
   "execution_count": 2,
   "metadata": {},
   "outputs": [
    {
     "name": "stdout",
     "output_type": "stream",
     "text": [
      "a\n",
      " [[0. 0. 0. 0. 0. 0. 0.]\n",
      " [0. 0. 0. 0. 0. 0. 0.]\n",
      " [0. 0. 0. 0. 0. 0. 0.]\n",
      " [0. 0. 0. 1. 0. 0. 0.]\n",
      " [0. 0. 0. 0. 0. 0. 0.]\n",
      " [0. 0. 0. 0. 0. 0. 0.]\n",
      " [0. 0. 0. 0. 0. 0. 0.]]\n",
      "b\n",
      " [[0.         0.         0.         0.         0.         0.\n",
      "  0.        ]\n",
      " [0.         0.00296902 0.01330621 0.02193823 0.01330621 0.00296902\n",
      "  0.        ]\n",
      " [0.         0.01330621 0.0596343  0.09832033 0.0596343  0.01330621\n",
      "  0.        ]\n",
      " [0.         0.02193823 0.09832033 0.16210282 0.09832033 0.02193823\n",
      "  0.        ]\n",
      " [0.         0.01330621 0.0596343  0.09832033 0.0596343  0.01330621\n",
      "  0.        ]\n",
      " [0.         0.00296902 0.01330621 0.02193823 0.01330621 0.00296902\n",
      "  0.        ]\n",
      " [0.         0.         0.         0.         0.         0.\n",
      "  0.        ]]\n",
      "b.sum(axis=0)\n",
      " [0.         0.05448868 0.24420134 0.40261995 0.24420134 0.05448868\n",
      " 0.        ]\n",
      "b.sum()\n",
      " 1.0\n"
     ]
    }
   ],
   "source": [
    "a = np.zeros((7, 7))\n",
    "a[3, 3] = 1\n",
    "\n",
    "b = skimage.filters.gaussian(a, sigma=1, mode='reflect', truncate=2)\n",
    "\n",
    "print('a\\n', a)\n",
    "print('b\\n', b)\n",
    "print('b.sum(axis=0)\\n', b.sum(axis=0))\n",
    "print('b.sum()\\n', b.sum())"
   ]
  }
 ],
 "metadata": {
  "kernelspec": {
   "display_name": "Python 3",
   "language": "python",
   "name": "python3"
  },
  "language_info": {
   "codemirror_mode": {
    "name": "ipython",
    "version": 3
   },
   "file_extension": ".py",
   "mimetype": "text/x-python",
   "name": "python",
   "nbconvert_exporter": "python",
   "pygments_lexer": "ipython3",
   "version": "3.6.7"
  }
 },
 "nbformat": 4,
 "nbformat_minor": 2
}
